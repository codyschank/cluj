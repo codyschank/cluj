{
 "cells": [
  {
   "cell_type": "code",
   "execution_count": 1,
   "metadata": {},
   "outputs": [],
   "source": [
    "import requests\n",
    "import numpy as np\n",
    "import pandas as pd\n",
    "import seaborn as sns\n",
    "import matplotlib.pyplot as plt\n",
    "\n",
    "from itertools import chain\n",
    "from sqlalchemy import create_engine\n",
    "from sqlalchemy_utils import database_exists, create_database\n",
    "\n",
    "from secrets import *"
   ]
  },
  {
   "cell_type": "code",
   "execution_count": 2,
   "metadata": {},
   "outputs": [],
   "source": [
    "# function to fix discrepancies between player names from the two sources\n",
    "def playername_fix(player):\n",
    "    if player == 'Nikola Jokic':\n",
    "        player = 'Nikola Jokić'\n",
    "    if player == 'Tomas Satoransky':\n",
    "        player = 'Tomáš Satoranský'\n",
    "    if player == 'Taurean Prince':\n",
    "        player = 'Taurean Waller-Prince'\n",
    "    if player == 'Nikola Vucevic':\n",
    "        player = 'Nikola Vučević'\n",
    "    return(player)"
   ]
  },
  {
   "cell_type": "code",
   "execution_count": 3,
   "metadata": {},
   "outputs": [
    {
     "name": "stdout",
     "output_type": "stream",
     "text": [
      "True\n"
     ]
    }
   ],
   "source": [
    "dbname = 'cluj'\n",
    "engine = create_engine('postgres://%s:%s@localhost/%s'%('docker','docker',dbname))\n",
    "\n",
    "if not database_exists(engine.url):\n",
    "    create_database(engine.url)\n",
    "print(database_exists(engine.url))"
   ]
  },
  {
   "cell_type": "code",
   "execution_count": 4,
   "metadata": {},
   "outputs": [],
   "source": [
    "league_id = 84057"
   ]
  },
  {
   "cell_type": "markdown",
   "metadata": {},
   "source": [
    "### Pull injured players"
   ]
  },
  {
   "cell_type": "code",
   "execution_count": 18,
   "metadata": {},
   "outputs": [
    {
     "data": {
      "text/plain": [
       "dict_keys(['players'])"
      ]
     },
     "execution_count": 18,
     "metadata": {},
     "output_type": "execute_result"
    }
   ],
   "source": [
    "url = 'https://fantasy.espn.com/apis/v3/games/FBA/seasons/2020/segments/0/leagues/' + str(league_id)\n",
    "params={\"view\": \"kona_player_info\"}\n",
    "cookies = {\"swid\": AUTH['swid'],\n",
    "           \"espn_s2\": AUTH['espn_s2']}\n",
    "r = requests.get(url, params=params, cookies=cookies)\n",
    "data = r.json()\n",
    "data.keys()"
   ]
  },
  {
   "cell_type": "code",
   "execution_count": 20,
   "metadata": {},
   "outputs": [],
   "source": [
    "injured_out = []\n",
    "injured_dtd = []\n",
    "for player in data['players']:\n",
    "    for stat_item in player['player']['stats']:\n",
    "        if stat_item['id'] == '002020':\n",
    "            if 'injuryStatus' in player['player'].keys():\n",
    "                if player['player']['injuryStatus'] == 'OUT':\n",
    "                    injured_out.append(player['player']['fullName'])\n",
    "                if player['player']['injuryStatus'] == 'DAY_TO_DAY':\n",
    "                    injured_dtd.append(player['player']['fullName'])"
   ]
  },
  {
   "cell_type": "markdown",
   "metadata": {},
   "source": [
    "### Pull matchup data"
   ]
  },
  {
   "cell_type": "code",
   "execution_count": 22,
   "metadata": {},
   "outputs": [],
   "source": [
    "url = 'https://fantasy.espn.com/apis/v3/games/FBA/seasons/2020/segments/0/leagues/' + str(league_id)\n",
    "params={\"view\": \"mBoxscore\"}\n",
    "cookies = {\"swid\": AUTH['swid'],\n",
    "           \"espn_s2\": AUTH['espn_s2']}\n",
    "r = requests.get(url, params=params, cookies=cookies)\n",
    "data = r.json()"
   ]
  },
  {
   "cell_type": "code",
   "execution_count": 23,
   "metadata": {},
   "outputs": [],
   "source": [
    "# if matchup period hasn't started yet, then this doesn't work\n",
    "# doesn't appear to be an obvious workaround \n",
    "teamId = 10\n",
    "matchupPeriod = 13\n",
    "team_totals = {}\n",
    "opponent_totals = {}\n",
    "for matchup in data['schedule']:\n",
    "    if ((matchup['away']['teamId'] == teamId) or (matchup['home']['teamId'] == teamId)) & (matchup['matchupPeriodId'] == matchupPeriod):\n",
    "        \n",
    "        if matchup['away']['teamId'] == teamId:\n",
    "            team_role = 'away'\n",
    "            opponent_role = 'home'\n",
    "        else:\n",
    "            team_role = 'home'\n",
    "            opponent_role = 'away'\n",
    "        \n",
    "        team_players = []\n",
    "        opponent_players = []\n",
    "        for entry in matchup[team_role]['rosterForCurrentScoringPeriod']['entries']:\n",
    "            # 12 is bench players if I also want to remove them\n",
    "            # but have to make sure their lineup is set correctly\n",
    "            if (entry['lineupSlotId'] != 13) & (entry['playerPoolEntry']['player']['fullName'] not in injured_out):\n",
    "                team_players.append({'fullName':entry['playerPoolEntry']['player']['fullName'],\n",
    "                                    'proTeamId':entry['playerPoolEntry']['player']['proTeamId']})\n",
    "        for entry in matchup[opponent_role]['rosterForCurrentScoringPeriod']['entries']:\n",
    "            if (entry['lineupSlotId'] != 13) & (entry['playerPoolEntry']['player']['fullName'] not in injured_out):\n",
    "                opponent_players.append({'fullName':entry['playerPoolEntry']['player']['fullName'],\n",
    "                                    'proTeamId':entry['playerPoolEntry']['player']['proTeamId']})\n",
    "\n",
    "        team_totals['points'] = matchup[team_role]['cumulativeScore']['scoreByStat']['0']['score']\n",
    "        team_totals['blocks'] = matchup[team_role]['cumulativeScore']['scoreByStat']['1']['score']\n",
    "        team_totals['steals'] = matchup[team_role]['cumulativeScore']['scoreByStat']['2']['score']\n",
    "        team_totals['assists'] = matchup[team_role]['cumulativeScore']['scoreByStat']['3']['score']\n",
    "        team_totals['rebounds'] = matchup[team_role]['cumulativeScore']['scoreByStat']['6']['score']\n",
    "        team_totals['threes'] = matchup[team_role]['cumulativeScore']['scoreByStat']['17']['score']\n",
    "        team_totals['fga'] = matchup[team_role]['cumulativeScore']['scoreByStat']['14']['score']\n",
    "        team_totals['fgm'] = matchup[team_role]['cumulativeScore']['scoreByStat']['13']['score']\n",
    "        team_totals['fta'] = matchup[team_role]['cumulativeScore']['scoreByStat']['16']['score']\n",
    "        team_totals['ftm'] = matchup[team_role]['cumulativeScore']['scoreByStat']['15']['score']\n",
    "\n",
    "        opponent_totals['points'] = matchup[opponent_role]['cumulativeScore']['scoreByStat']['0']['score']\n",
    "        opponent_totals['blocks'] = matchup[opponent_role]['cumulativeScore']['scoreByStat']['1']['score']\n",
    "        opponent_totals['steals'] = matchup[opponent_role]['cumulativeScore']['scoreByStat']['2']['score']\n",
    "        opponent_totals['assists'] = matchup[opponent_role]['cumulativeScore']['scoreByStat']['3']['score']\n",
    "        opponent_totals['rebounds'] = matchup[opponent_role]['cumulativeScore']['scoreByStat']['6']['score']\n",
    "        opponent_totals['threes'] = matchup[opponent_role]['cumulativeScore']['scoreByStat']['17']['score']\n",
    "        opponent_totals['fga'] = matchup[opponent_role]['cumulativeScore']['scoreByStat']['14']['score']\n",
    "        opponent_totals['fgm'] = matchup[opponent_role]['cumulativeScore']['scoreByStat']['13']['score']\n",
    "        opponent_totals['fta'] = matchup[opponent_role]['cumulativeScore']['scoreByStat']['16']['score']\n",
    "        opponent_totals['ftm'] = matchup[opponent_role]['cumulativeScore']['scoreByStat']['15']['score']\n",
    "        \n",
    "        break\n",
    "\n",
    "team_players_df = pd.DataFrame(team_players)\n",
    "#team_players_df\n",
    "opponent_players_df = pd.DataFrame(opponent_players)\n",
    "#opponent_players_df"
   ]
  },
  {
   "cell_type": "markdown",
   "metadata": {},
   "source": [
    "### Generating simulated data"
   ]
  },
  {
   "cell_type": "code",
   "execution_count": 67,
   "metadata": {},
   "outputs": [
    {
     "name": "stdout",
     "output_type": "stream",
     "text": [
      "Processing Buddy Hield\n",
      "3\n",
      "Processing Domantas Sabonis\n",
      "3\n",
      "Processing Giannis Antetokounmpo\n",
      "3\n",
      "Processing De'Aaron Fox\n",
      "3\n",
      "Processing Nikola Jokić\n",
      "3\n",
      "Processing James Harden\n",
      "3\n",
      "Processing PJ Washington\n",
      "3\n",
      "Processing Mitchell Robinson\n",
      "3\n",
      "Processing Derrick Rose\n",
      "3\n",
      "Processing RJ Barrett\n",
      "3\n",
      "Processing Miles Bridges\n",
      "3\n",
      "Processing Thomas Bryant\n",
      "2\n",
      "Processing Julius Randle\n",
      "3\n",
      "Processing Bam Adebayo\n",
      "3\n",
      "Processing Tomáš Satoranský\n",
      "4\n",
      "Processing Eric Bledsoe\n",
      "3\n",
      "Processing Markelle Fultz\n",
      "4\n",
      "Processing Spencer Dinwiddie\n",
      "3\n",
      "Processing JaVale McGee\n",
      "3\n",
      "Processing Kevin Huerter\n",
      "3\n",
      "Processing Taurean Waller-Prince\n",
      "3\n",
      "Processing Maxi Kleber\n",
      "3\n",
      "Processing Daniel Gafford\n",
      "4\n",
      "Processing Ish Smith\n",
      "2\n"
     ]
    }
   ],
   "source": [
    "n_samples = 1000\n",
    "team_samples = []\n",
    "opponent_samples = []\n",
    "start_date = '2020-1-13'\n",
    "stop_date = '2020-1-19'\n",
    "\n",
    "# iterate over players\n",
    "for i in range(len(team_players_df)):\n",
    "\n",
    "    player = team_players_df.iloc[i]['fullName']\n",
    "    player = playername_fix(player) # make something better than this\n",
    "    teamId = team_players_df.iloc[i]['proTeamId']\n",
    "    print(\"Processing \" + player)\n",
    "    \n",
    "    # get player boxscores\n",
    "    sql = \"\"\"\n",
    "        SELECT * FROM boxscores WHERE name = '{}'\n",
    "    \"\"\".format(player)\n",
    "    player_boxscores = pd.read_sql(sql, engine)\n",
    "    \n",
    "    # get n_games for this matchup\n",
    "    sql = \"\"\"\n",
    "        SELECT COUNT(*)\n",
    "        FROM espn_team_ids eid\n",
    "        JOIN nba_schedule sch ON eid.scraped_name = sch.home_team OR eid.scraped_name = sch.away_team \n",
    "        WHERE espn_team_id = {} AND sch.season_end_year = 2020 AND start_date >= '{}' AND start_date <= '{}'\n",
    "    \"\"\".format(teamId, start_date, stop_date)\n",
    "    n_games = pd.read_sql(sql, engine).values[0][0]\n",
    "    print(n_games)\n",
    "\n",
    "    for sample in range(n_samples):\n",
    "        player_samples = player_boxscores.sample(replace=False, n=n_games)\n",
    "        player_samples['sample_i'] = sample\n",
    "        team_samples.append(player_samples.to_dict('records'))\n",
    "        \n",
    "    player = opponent_players_df.iloc[i]['fullName']\n",
    "    player = playername_fix(player) # make something better than this\n",
    "    teamId = opponent_players_df.iloc[i]['proTeamId']\n",
    "    print(\"Processing \" + player)\n",
    "    \n",
    "    # get player boxscores\n",
    "    sql = \"\"\"\n",
    "        SELECT * FROM boxscores WHERE name = %(player)s\n",
    "    \"\"\"\n",
    "    player_boxscores = pd.read_sql(sql, engine, params = {'player': player})\n",
    "    \n",
    "    # get n_games for this matchup\n",
    "    sql = \"\"\"\n",
    "        SELECT COUNT(*)\n",
    "        FROM espn_team_ids eid\n",
    "        JOIN nba_schedule sch ON eid.scraped_name = sch.home_team OR eid.scraped_name = sch.away_team \n",
    "        WHERE espn_team_id = {} AND sch.season_end_year = 2020 AND start_date >= '{}' AND start_date <= '{}'\n",
    "    \"\"\".format(teamId, start_date, stop_date)\n",
    "    n_games = pd.read_sql(sql, engine).values[0][0]\n",
    "    print(n_games)\n",
    "\n",
    "    for sample in range(n_samples):\n",
    "        player_samples = player_boxscores.sample(replace=False, n=n_games)\n",
    "        player_samples['sample_i'] = sample\n",
    "        opponent_samples.append(player_samples.to_dict('records'))\n",
    "\n",
    "team_samples_df = pd.DataFrame(list(chain.from_iterable(team_samples)))\n",
    "opponent_samples_df = pd.DataFrame(list(chain.from_iterable(opponent_samples)))\n",
    "\n",
    "team_totals_samples = []\n",
    "opponent_total_samples = []\n",
    "# iterate over samples\n",
    "for sample in range(n_samples):\n",
    "    \n",
    "    sample_totals = {}\n",
    "    team_samples_df.loc[team_samples_df['sample_i']==sample]\n",
    "    sample_totals['sample_i'] = sample\n",
    "    for stat in ['assists','blocks','fga','fgm','fta','ftm','points','rebounds','steals','threes']:\n",
    "        sample_totals[stat] = team_totals[stat] + team_samples_df.loc[team_samples_df['sample_i']==sample][stat].sum()\n",
    "    team_totals_samples.append(sample_totals)\n",
    "    \n",
    "    sample_totals = {}\n",
    "    opponent_samples_df.loc[opponent_samples_df['sample_i']==sample]\n",
    "    sample_totals['sample_i'] = sample\n",
    "    for stat in ['assists','blocks','fga','fgm','fta','ftm','points','rebounds','steals','threes']:\n",
    "        sample_totals[stat] = opponent_totals[stat] + opponent_samples_df.loc[opponent_samples_df['sample_i']==sample][stat].sum()\n",
    "    opponent_total_samples.append(sample_totals)\n",
    "    \n",
    "team_totals_samples_df = pd.DataFrame(team_totals_samples)\n",
    "team_totals_samples_df['ft_pct'] = team_totals_samples_df.ftm / team_totals_samples_df.fta\n",
    "team_totals_samples_df['fg_pct'] = team_totals_samples_df.fgm / team_totals_samples_df.fga\n",
    "opponent_total_samples_df = pd.DataFrame(opponent_total_samples)\n",
    "opponent_total_samples_df['ft_pct'] = opponent_total_samples_df.ftm / opponent_total_samples_df.fta\n",
    "opponent_total_samples_df['fg_pct'] = opponent_total_samples_df.fgm / opponent_total_samples_df.fga"
   ]
  },
  {
   "cell_type": "code",
   "execution_count": 68,
   "metadata": {},
   "outputs": [],
   "source": [
    "# do comparison for each cat\n",
    "merged = team_totals_samples_df.merge(opponent_total_samples_df, on='sample_i')\n",
    "results = {}\n",
    "for stat in ['assists','blocks','fg_pct','ft_pct','points','rebounds','steals','threes']:\n",
    "    results[stat] = (merged[stat+'_x'] > merged[stat+'_y']).sum()"
   ]
  },
  {
   "cell_type": "code",
   "execution_count": 69,
   "metadata": {},
   "outputs": [
    {
     "data": {
      "text/plain": [
       "{'assists': 562,\n",
       " 'blocks': 644,\n",
       " 'fg_pct': 724,\n",
       " 'ft_pct': 348,\n",
       " 'points': 810,\n",
       " 'rebounds': 911,\n",
       " 'steals': 520,\n",
       " 'threes': 446}"
      ]
     },
     "execution_count": 69,
     "metadata": {},
     "output_type": "execute_result"
    }
   ],
   "source": [
    "results"
   ]
  },
  {
   "cell_type": "code",
   "execution_count": 78,
   "metadata": {},
   "outputs": [
    {
     "data": {
      "image/png": "[encoded data removed]",
      "text/plain": [
       "<Figure size 432x288 with 1 Axes>"
      ]
     },
     "metadata": {
      "needs_background": "light"
     },
     "output_type": "display_data"
    }
   ],
   "source": [
    "merged['steals_x'].hist(bins=20);"
   ]
  },
  {
   "cell_type": "code",
   "execution_count": 79,
   "metadata": {},
   "outputs": [
    {
     "data": {
      "image/png": "[encoded data removed]",
      "text/plain": [
       "<Figure size 432x288 with 1 Axes>"
      ]
     },
     "metadata": {
      "needs_background": "light"
     },
     "output_type": "display_data"
    }
   ],
   "source": [
    "merged['steals_y'].hist(bins=20);"
   ]
  },
  {
   "cell_type": "code",
   "execution_count": null,
   "metadata": {},
   "outputs": [],
   "source": []
  }
 ],
 "metadata": {
  "kernelspec": {
   "display_name": "Python 3",
   "language": "python",
   "name": "python3"
  },
  "language_info": {
   "codemirror_mode": {
    "name": "ipython",
    "version": 3
   },
   "file_extension": ".py",
   "mimetype": "text/x-python",
   "name": "python",
   "nbconvert_exporter": "python",
   "pygments_lexer": "ipython3",
   "version": "3.7.1"
  }
 },
 "nbformat": 4,
 "nbformat_minor": 2
}
