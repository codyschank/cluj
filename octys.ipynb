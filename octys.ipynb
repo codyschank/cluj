{
 "cells": [
  {
   "cell_type": "code",
   "execution_count": 1,
   "metadata": {},
   "outputs": [],
   "source": [
    "import pandas as pd\n",
    "import cluj_tools\n",
    "\n",
    "from sqlalchemy import create_engine\n",
    "from sqlalchemy_utils import database_exists, create_database\n",
    "\n",
    "from secrets import *"
   ]
  },
  {
   "cell_type": "markdown",
   "metadata": {},
   "source": [
    "### Get Rosters"
   ]
  },
  {
   "cell_type": "code",
   "execution_count": 3,
   "metadata": {},
   "outputs": [
    {
     "ename": "TypeError",
     "evalue": "'datetime.date' object is not callable",
     "output_type": "error",
     "traceback": [
      "\u001b[0;31m---------------------------------------------------------------------------\u001b[0m",
      "\u001b[0;31mTypeError\u001b[0m                                 Traceback (most recent call last)",
      "\u001b[0;32m<ipython-input-3-12d51bc104f1>\u001b[0m in \u001b[0;36m<module>\u001b[0;34m\u001b[0m\n\u001b[0;32m----> 1\u001b[0;31m \u001b[0mmatchup_end_date\u001b[0m\u001b[0;34m,\u001b[0m \u001b[0mmatchupPeriod\u001b[0m \u001b[0;34m=\u001b[0m \u001b[0mmatchup_end_date\u001b[0m\u001b[0;34m(\u001b[0m\u001b[0;34m)\u001b[0m\u001b[0;34m\u001b[0m\u001b[0;34m\u001b[0m\u001b[0m\n\u001b[0m",
      "\u001b[0;31mTypeError\u001b[0m: 'datetime.date' object is not callable"
     ]
    }
   ],
   "source": [
    "matchup_end_date, matchupPeriod = matchup_end_date()"
   ]
  },
  {
   "cell_type": "code",
   "execution_count": 48,
   "metadata": {},
   "outputs": [],
   "source": [
    "rosters = ct.get_rosters(matchupPeriod)"
   ]
  },
  {
   "cell_type": "code",
   "execution_count": 50,
   "metadata": {},
   "outputs": [
    {
     "data": {
      "text/html": [
       "<div>\n",
       "<style scoped>\n",
       "    .dataframe tbody tr th:only-of-type {\n",
       "        vertical-align: middle;\n",
       "    }\n",
       "\n",
       "    .dataframe tbody tr th {\n",
       "        vertical-align: top;\n",
       "    }\n",
       "\n",
       "    .dataframe thead th {\n",
       "        text-align: right;\n",
       "    }\n",
       "</style>\n",
       "<table border=\"1\" class=\"dataframe\">\n",
       "  <thead>\n",
       "    <tr style=\"text-align: right;\">\n",
       "      <th></th>\n",
       "      <th>fullName</th>\n",
       "      <th>teamId</th>\n",
       "    </tr>\n",
       "  </thead>\n",
       "  <tbody>\n",
       "    <tr>\n",
       "      <th>0</th>\n",
       "      <td>Marvin Bagley III</td>\n",
       "      <td>4</td>\n",
       "    </tr>\n",
       "    <tr>\n",
       "      <th>1</th>\n",
       "      <td>Kristaps Porzingis</td>\n",
       "      <td>4</td>\n",
       "    </tr>\n",
       "    <tr>\n",
       "      <th>2</th>\n",
       "      <td>Pascal Siakam</td>\n",
       "      <td>4</td>\n",
       "    </tr>\n",
       "    <tr>\n",
       "      <th>3</th>\n",
       "      <td>Lonzo Ball</td>\n",
       "      <td>4</td>\n",
       "    </tr>\n",
       "    <tr>\n",
       "      <th>4</th>\n",
       "      <td>Joel Embiid</td>\n",
       "      <td>4</td>\n",
       "    </tr>\n",
       "  </tbody>\n",
       "</table>\n",
       "</div>"
      ],
      "text/plain": [
       "             fullName  teamId\n",
       "0   Marvin Bagley III       4\n",
       "1  Kristaps Porzingis       4\n",
       "2       Pascal Siakam       4\n",
       "3          Lonzo Ball       4\n",
       "4         Joel Embiid       4"
      ]
     },
     "execution_count": 50,
     "metadata": {},
     "output_type": "execute_result"
    }
   ],
   "source": [
    "rosters.head()"
   ]
  },
  {
   "cell_type": "markdown",
   "metadata": {},
   "source": [
    "### Get Boxscore data to calculate octys"
   ]
  },
  {
   "cell_type": "code",
   "execution_count": 4,
   "metadata": {},
   "outputs": [
    {
     "name": "stdout",
     "output_type": "stream",
     "text": [
      "True\n"
     ]
    }
   ],
   "source": [
    "dbname = 'cluj'\n",
    "engine = create_engine('postgres://%s:%s@localhost/%s'%(AUTH['db_user'],AUTH['db_pass'],dbname))\n",
    "\n",
    "if not database_exists(engine.url):\n",
    "    create_database(engine.url)\n",
    "print(database_exists(engine.url))"
   ]
  },
  {
   "cell_type": "code",
   "execution_count": 5,
   "metadata": {},
   "outputs": [],
   "source": [
    "sql = \"\"\"\n",
    "    SELECT * FROM boxscores b\n",
    "    LEFT JOIN player_name_comparison c ON b.name = c.boxscore_name\n",
    "    WHERE b.season_year = '2019-2020' AND b.season_type = 'regular'\n",
    "\"\"\""
   ]
  },
  {
   "cell_type": "code",
   "execution_count": 6,
   "metadata": {},
   "outputs": [],
   "source": [
    "boxscores = pd.read_sql(sql, engine)\n",
    "boxscores['ft_pct'] = boxscores.ftm/boxscores.fta\n",
    "boxscores['fg_pct'] = boxscores.fgm/boxscores.fga"
   ]
  },
  {
   "cell_type": "code",
   "execution_count": 16,
   "metadata": {},
   "outputs": [],
   "source": [
    "boxscores.loc[boxscores.espn_name.isnull(),'espn_name'] = boxscores.loc[boxscores.espn_name.isnull(),'name']"
   ]
  },
  {
   "cell_type": "code",
   "execution_count": 19,
   "metadata": {},
   "outputs": [
    {
     "data": {
      "text/plain": [
       "(410, 21)"
      ]
     },
     "execution_count": 19,
     "metadata": {},
     "output_type": "execute_result"
    }
   ],
   "source": [
    "ft_pct_threshold = 0.75\n",
    "fg_pct_threshold = 0.4\n",
    "octys = boxscores.loc[(boxscores.assists > 0) & (boxscores.threes > 0) & (boxscores.steals > 0) & (boxscores.rebounds > 0) & (boxscores['blocks'] > 0) & (boxscores.ft_pct > ft_pct_threshold) & (boxscores.fg_pct > fg_pct_threshold)]\n",
    "octys.shape"
   ]
  },
  {
   "cell_type": "code",
   "execution_count": 20,
   "metadata": {},
   "outputs": [],
   "source": [
    "octy_counts = pd.DataFrame(octys.espn_name.value_counts())\n",
    "octy_counts.reset_index(inplace=True)\n",
    "octy_counts.rename(columns={'espn_name':'octy_count', 'index':'espn_name'}, inplace=True)"
   ]
  },
  {
   "cell_type": "code",
   "execution_count": 22,
   "metadata": {},
   "outputs": [],
   "source": [
    "octys_games = pd.DataFrame(boxscores.groupby('espn_name')['assists'].count())\n",
    "octys_games.reset_index(inplace=True)\n",
    "octys_games.rename(columns={'assists':'game_count'}, inplace=True)"
   ]
  },
  {
   "cell_type": "code",
   "execution_count": 31,
   "metadata": {},
   "outputs": [
    {
     "data": {
      "text/plain": [
       "(177, 4)"
      ]
     },
     "execution_count": 31,
     "metadata": {},
     "output_type": "execute_result"
    }
   ],
   "source": [
    "merged = octy_counts.merge(octys_games, on='espn_name')\n",
    "merged['octy_pct'] = merged.octy_count / merged.game_count\n",
    "merged.sort_values('octy_pct', ascending=False, inplace=True)\n",
    "merged.shape"
   ]
  },
  {
   "cell_type": "code",
   "execution_count": 32,
   "metadata": {},
   "outputs": [
    {
     "data": {
      "text/plain": [
       "<matplotlib.axes._subplots.AxesSubplot at 0x1a2b2c1da0>"
      ]
     },
     "execution_count": 32,
     "metadata": {},
     "output_type": "execute_result"
    },
    {
     "data": {
      "image/png": "[encoded data removed]",
      "text/plain": [
       "<Figure size 432x288 with 1 Axes>"
      ]
     },
     "metadata": {
      "needs_background": "light"
     },
     "output_type": "display_data"
    }
   ],
   "source": [
    "merged.octy_pct.hist(bins=20)"
   ]
  },
  {
   "cell_type": "code",
   "execution_count": 33,
   "metadata": {},
   "outputs": [
    {
     "data": {
      "text/html": [
       "<div>\n",
       "<style scoped>\n",
       "    .dataframe tbody tr th:only-of-type {\n",
       "        vertical-align: middle;\n",
       "    }\n",
       "\n",
       "    .dataframe tbody tr th {\n",
       "        vertical-align: top;\n",
       "    }\n",
       "\n",
       "    .dataframe thead th {\n",
       "        text-align: right;\n",
       "    }\n",
       "</style>\n",
       "<table border=\"1\" class=\"dataframe\">\n",
       "  <thead>\n",
       "    <tr style=\"text-align: right;\">\n",
       "      <th></th>\n",
       "      <th>espn_name</th>\n",
       "      <th>octy_count</th>\n",
       "      <th>game_count</th>\n",
       "      <th>octy_pct</th>\n",
       "    </tr>\n",
       "  </thead>\n",
       "  <tbody>\n",
       "    <tr>\n",
       "      <th>0</th>\n",
       "      <td>Anthony Davis</td>\n",
       "      <td>14</td>\n",
       "      <td>43</td>\n",
       "      <td>0.325581</td>\n",
       "    </tr>\n",
       "    <tr>\n",
       "      <th>2</th>\n",
       "      <td>Kawhi Leonard</td>\n",
       "      <td>9</td>\n",
       "      <td>39</td>\n",
       "      <td>0.230769</td>\n",
       "    </tr>\n",
       "    <tr>\n",
       "      <th>1</th>\n",
       "      <td>James Harden</td>\n",
       "      <td>11</td>\n",
       "      <td>49</td>\n",
       "      <td>0.224490</td>\n",
       "    </tr>\n",
       "    <tr>\n",
       "      <th>3</th>\n",
       "      <td>Joel Embiid</td>\n",
       "      <td>8</td>\n",
       "      <td>37</td>\n",
       "      <td>0.216216</td>\n",
       "    </tr>\n",
       "    <tr>\n",
       "      <th>24</th>\n",
       "      <td>Kyrie Irving</td>\n",
       "      <td>4</td>\n",
       "      <td>20</td>\n",
       "      <td>0.200000</td>\n",
       "    </tr>\n",
       "  </tbody>\n",
       "</table>\n",
       "</div>"
      ],
      "text/plain": [
       "        espn_name  octy_count  game_count  octy_pct\n",
       "0   Anthony Davis          14          43  0.325581\n",
       "2   Kawhi Leonard           9          39  0.230769\n",
       "1    James Harden          11          49  0.224490\n",
       "3     Joel Embiid           8          37  0.216216\n",
       "24   Kyrie Irving           4          20  0.200000"
      ]
     },
     "execution_count": 33,
     "metadata": {},
     "output_type": "execute_result"
    }
   ],
   "source": [
    "merged.head()"
   ]
  },
  {
   "cell_type": "code",
   "execution_count": 35,
   "metadata": {},
   "outputs": [
    {
     "data": {
      "text/plain": [
       "(177, 6)"
      ]
     },
     "execution_count": 35,
     "metadata": {},
     "output_type": "execute_result"
    }
   ],
   "source": [
    "rosters_merge = merged.merge(rosters, left_on='espn_name', right_on='fullName', how='left')\n",
    "rosters_merge.shape"
   ]
  },
  {
   "cell_type": "code",
   "execution_count": 39,
   "metadata": {},
   "outputs": [
    {
     "data": {
      "text/plain": [
       "teamId\n",
       "1.0     0.043821\n",
       "2.0     0.054696\n",
       "3.0     0.060117\n",
       "4.0     0.105404\n",
       "5.0     0.079361\n",
       "6.0     0.066162\n",
       "7.0     0.078961\n",
       "8.0     0.072280\n",
       "9.0     0.056361\n",
       "10.0    0.069635\n",
       "11.0    0.057966\n",
       "12.0    0.051272\n",
       "Name: octy_pct, dtype: float64"
      ]
     },
     "execution_count": 39,
     "metadata": {},
     "output_type": "execute_result"
    }
   ],
   "source": [
    "rosters_merge.groupby('teamId')['octy_pct'].mean()"
   ]
  },
  {
   "cell_type": "code",
   "execution_count": 40,
   "metadata": {},
   "outputs": [
    {
     "data": {
      "text/plain": [
       "teamId\n",
       "1.0     18\n",
       "2.0     18\n",
       "3.0     27\n",
       "4.0     44\n",
       "5.0     35\n",
       "6.0     26\n",
       "7.0     31\n",
       "8.0     24\n",
       "9.0     24\n",
       "10.0    35\n",
       "11.0    24\n",
       "12.0    17\n",
       "Name: octy_count, dtype: int64"
      ]
     },
     "execution_count": 40,
     "metadata": {},
     "output_type": "execute_result"
    }
   ],
   "source": [
    "rosters_merge.groupby('teamId')['octy_count'].sum()"
   ]
  },
  {
   "cell_type": "code",
   "execution_count": 43,
   "metadata": {},
   "outputs": [
    {
     "data": {
      "text/html": [
       "<div>\n",
       "<style scoped>\n",
       "    .dataframe tbody tr th:only-of-type {\n",
       "        vertical-align: middle;\n",
       "    }\n",
       "\n",
       "    .dataframe tbody tr th {\n",
       "        vertical-align: top;\n",
       "    }\n",
       "\n",
       "    .dataframe thead th {\n",
       "        text-align: right;\n",
       "    }\n",
       "</style>\n",
       "<table border=\"1\" class=\"dataframe\">\n",
       "  <thead>\n",
       "    <tr style=\"text-align: right;\">\n",
       "      <th></th>\n",
       "      <th>espn_name</th>\n",
       "      <th>octy_count</th>\n",
       "      <th>game_count</th>\n",
       "      <th>octy_pct</th>\n",
       "      <th>fullName</th>\n",
       "      <th>teamId</th>\n",
       "    </tr>\n",
       "  </thead>\n",
       "  <tbody>\n",
       "    <tr>\n",
       "      <th>8</th>\n",
       "      <td>Josh Richardson</td>\n",
       "      <td>6</td>\n",
       "      <td>39</td>\n",
       "      <td>0.153846</td>\n",
       "      <td>Josh Richardson</td>\n",
       "      <td>10.0</td>\n",
       "    </tr>\n",
       "    <tr>\n",
       "      <th>11</th>\n",
       "      <td>Nikola Jokic</td>\n",
       "      <td>7</td>\n",
       "      <td>52</td>\n",
       "      <td>0.134615</td>\n",
       "      <td>Nikola Jokic</td>\n",
       "      <td>10.0</td>\n",
       "    </tr>\n",
       "    <tr>\n",
       "      <th>15</th>\n",
       "      <td>Myles Turner</td>\n",
       "      <td>5</td>\n",
       "      <td>42</td>\n",
       "      <td>0.119048</td>\n",
       "      <td>Myles Turner</td>\n",
       "      <td>10.0</td>\n",
       "    </tr>\n",
       "    <tr>\n",
       "      <th>28</th>\n",
       "      <td>Miles Bridges</td>\n",
       "      <td>4</td>\n",
       "      <td>51</td>\n",
       "      <td>0.078431</td>\n",
       "      <td>Miles Bridges</td>\n",
       "      <td>10.0</td>\n",
       "    </tr>\n",
       "    <tr>\n",
       "      <th>57</th>\n",
       "      <td>Maxi Kleber</td>\n",
       "      <td>3</td>\n",
       "      <td>51</td>\n",
       "      <td>0.058824</td>\n",
       "      <td>Maxi Kleber</td>\n",
       "      <td>10.0</td>\n",
       "    </tr>\n",
       "    <tr>\n",
       "      <th>79</th>\n",
       "      <td>Derrick Rose</td>\n",
       "      <td>2</td>\n",
       "      <td>44</td>\n",
       "      <td>0.045455</td>\n",
       "      <td>Derrick Rose</td>\n",
       "      <td>10.0</td>\n",
       "    </tr>\n",
       "    <tr>\n",
       "      <th>80</th>\n",
       "      <td>Matisse Thybulle</td>\n",
       "      <td>2</td>\n",
       "      <td>45</td>\n",
       "      <td>0.044444</td>\n",
       "      <td>Matisse Thybulle</td>\n",
       "      <td>10.0</td>\n",
       "    </tr>\n",
       "    <tr>\n",
       "      <th>85</th>\n",
       "      <td>Giannis Antetokounmpo</td>\n",
       "      <td>2</td>\n",
       "      <td>47</td>\n",
       "      <td>0.042553</td>\n",
       "      <td>Giannis Antetokounmpo</td>\n",
       "      <td>10.0</td>\n",
       "    </tr>\n",
       "    <tr>\n",
       "      <th>106</th>\n",
       "      <td>Justin Holiday</td>\n",
       "      <td>2</td>\n",
       "      <td>52</td>\n",
       "      <td>0.038462</td>\n",
       "      <td>Justin Holiday</td>\n",
       "      <td>10.0</td>\n",
       "    </tr>\n",
       "    <tr>\n",
       "      <th>112</th>\n",
       "      <td>Elfrid Payton</td>\n",
       "      <td>1</td>\n",
       "      <td>33</td>\n",
       "      <td>0.030303</td>\n",
       "      <td>Elfrid Payton</td>\n",
       "      <td>10.0</td>\n",
       "    </tr>\n",
       "    <tr>\n",
       "      <th>163</th>\n",
       "      <td>Julius Randle</td>\n",
       "      <td>1</td>\n",
       "      <td>50</td>\n",
       "      <td>0.020000</td>\n",
       "      <td>Julius Randle</td>\n",
       "      <td>10.0</td>\n",
       "    </tr>\n",
       "  </tbody>\n",
       "</table>\n",
       "</div>"
      ],
      "text/plain": [
       "                 espn_name  octy_count  game_count  octy_pct  \\\n",
       "8          Josh Richardson           6          39  0.153846   \n",
       "11            Nikola Jokic           7          52  0.134615   \n",
       "15            Myles Turner           5          42  0.119048   \n",
       "28           Miles Bridges           4          51  0.078431   \n",
       "57             Maxi Kleber           3          51  0.058824   \n",
       "79            Derrick Rose           2          44  0.045455   \n",
       "80        Matisse Thybulle           2          45  0.044444   \n",
       "85   Giannis Antetokounmpo           2          47  0.042553   \n",
       "106         Justin Holiday           2          52  0.038462   \n",
       "112          Elfrid Payton           1          33  0.030303   \n",
       "163          Julius Randle           1          50  0.020000   \n",
       "\n",
       "                  fullName  teamId  \n",
       "8          Josh Richardson    10.0  \n",
       "11            Nikola Jokic    10.0  \n",
       "15            Myles Turner    10.0  \n",
       "28           Miles Bridges    10.0  \n",
       "57             Maxi Kleber    10.0  \n",
       "79            Derrick Rose    10.0  \n",
       "80        Matisse Thybulle    10.0  \n",
       "85   Giannis Antetokounmpo    10.0  \n",
       "106         Justin Holiday    10.0  \n",
       "112          Elfrid Payton    10.0  \n",
       "163          Julius Randle    10.0  "
      ]
     },
     "execution_count": 43,
     "metadata": {},
     "output_type": "execute_result"
    }
   ],
   "source": [
    "rosters_merge.loc[rosters_merge.teamId == 10]"
   ]
  },
  {
   "cell_type": "code",
   "execution_count": 42,
   "metadata": {},
   "outputs": [
    {
     "data": {
      "text/html": [
       "<div>\n",
       "<style scoped>\n",
       "    .dataframe tbody tr th:only-of-type {\n",
       "        vertical-align: middle;\n",
       "    }\n",
       "\n",
       "    .dataframe tbody tr th {\n",
       "        vertical-align: top;\n",
       "    }\n",
       "\n",
       "    .dataframe thead th {\n",
       "        text-align: right;\n",
       "    }\n",
       "</style>\n",
       "<table border=\"1\" class=\"dataframe\">\n",
       "  <thead>\n",
       "    <tr style=\"text-align: right;\">\n",
       "      <th></th>\n",
       "      <th>espn_name</th>\n",
       "      <th>octy_count</th>\n",
       "      <th>game_count</th>\n",
       "      <th>octy_pct</th>\n",
       "      <th>fullName</th>\n",
       "      <th>teamId</th>\n",
       "    </tr>\n",
       "  </thead>\n",
       "  <tbody>\n",
       "    <tr>\n",
       "      <th>19</th>\n",
       "      <td>Kadeem Allen</td>\n",
       "      <td>1</td>\n",
       "      <td>10</td>\n",
       "      <td>0.100000</td>\n",
       "      <td>NaN</td>\n",
       "      <td>NaN</td>\n",
       "    </tr>\n",
       "    <tr>\n",
       "      <th>22</th>\n",
       "      <td>Jonathan Isaac</td>\n",
       "      <td>3</td>\n",
       "      <td>32</td>\n",
       "      <td>0.093750</td>\n",
       "      <td>NaN</td>\n",
       "      <td>NaN</td>\n",
       "    </tr>\n",
       "    <tr>\n",
       "      <th>23</th>\n",
       "      <td>Justise Winslow</td>\n",
       "      <td>1</td>\n",
       "      <td>11</td>\n",
       "      <td>0.090909</td>\n",
       "      <td>NaN</td>\n",
       "      <td>NaN</td>\n",
       "    </tr>\n",
       "    <tr>\n",
       "      <th>27</th>\n",
       "      <td>PJ Dozier</td>\n",
       "      <td>1</td>\n",
       "      <td>12</td>\n",
       "      <td>0.083333</td>\n",
       "      <td>NaN</td>\n",
       "      <td>NaN</td>\n",
       "    </tr>\n",
       "    <tr>\n",
       "      <th>29</th>\n",
       "      <td>Mikal Bridges</td>\n",
       "      <td>4</td>\n",
       "      <td>52</td>\n",
       "      <td>0.076923</td>\n",
       "      <td>NaN</td>\n",
       "      <td>NaN</td>\n",
       "    </tr>\n",
       "    <tr>\n",
       "      <th>43</th>\n",
       "      <td>Jabari Parker</td>\n",
       "      <td>2</td>\n",
       "      <td>32</td>\n",
       "      <td>0.062500</td>\n",
       "      <td>NaN</td>\n",
       "      <td>NaN</td>\n",
       "    </tr>\n",
       "    <tr>\n",
       "      <th>44</th>\n",
       "      <td>Josh Okogie</td>\n",
       "      <td>3</td>\n",
       "      <td>48</td>\n",
       "      <td>0.062500</td>\n",
       "      <td>NaN</td>\n",
       "      <td>NaN</td>\n",
       "    </tr>\n",
       "    <tr>\n",
       "      <th>46</th>\n",
       "      <td>Alec Burks</td>\n",
       "      <td>3</td>\n",
       "      <td>48</td>\n",
       "      <td>0.062500</td>\n",
       "      <td>NaN</td>\n",
       "      <td>NaN</td>\n",
       "    </tr>\n",
       "    <tr>\n",
       "      <th>61</th>\n",
       "      <td>Derrick Jones Jr</td>\n",
       "      <td>2</td>\n",
       "      <td>37</td>\n",
       "      <td>0.054054</td>\n",
       "      <td>NaN</td>\n",
       "      <td>NaN</td>\n",
       "    </tr>\n",
       "    <tr>\n",
       "      <th>64</th>\n",
       "      <td>Cameron Johnson</td>\n",
       "      <td>2</td>\n",
       "      <td>39</td>\n",
       "      <td>0.051282</td>\n",
       "      <td>NaN</td>\n",
       "      <td>NaN</td>\n",
       "    </tr>\n",
       "    <tr>\n",
       "      <th>69</th>\n",
       "      <td>Marvin Williams</td>\n",
       "      <td>2</td>\n",
       "      <td>41</td>\n",
       "      <td>0.048780</td>\n",
       "      <td>NaN</td>\n",
       "      <td>NaN</td>\n",
       "    </tr>\n",
       "    <tr>\n",
       "      <th>73</th>\n",
       "      <td>Gary Harris</td>\n",
       "      <td>2</td>\n",
       "      <td>43</td>\n",
       "      <td>0.046512</td>\n",
       "      <td>NaN</td>\n",
       "      <td>NaN</td>\n",
       "    </tr>\n",
       "    <tr>\n",
       "      <th>78</th>\n",
       "      <td>PJ Washington</td>\n",
       "      <td>2</td>\n",
       "      <td>44</td>\n",
       "      <td>0.045455</td>\n",
       "      <td>NaN</td>\n",
       "      <td>NaN</td>\n",
       "    </tr>\n",
       "    <tr>\n",
       "      <th>82</th>\n",
       "      <td>Jeff Teague</td>\n",
       "      <td>2</td>\n",
       "      <td>45</td>\n",
       "      <td>0.044444</td>\n",
       "      <td>NaN</td>\n",
       "      <td>NaN</td>\n",
       "    </tr>\n",
       "    <tr>\n",
       "      <th>83</th>\n",
       "      <td>Brandon Goodwin</td>\n",
       "      <td>1</td>\n",
       "      <td>23</td>\n",
       "      <td>0.043478</td>\n",
       "      <td>NaN</td>\n",
       "      <td>NaN</td>\n",
       "    </tr>\n",
       "  </tbody>\n",
       "</table>\n",
       "</div>"
      ],
      "text/plain": [
       "           espn_name  octy_count  game_count  octy_pct fullName  teamId\n",
       "19      Kadeem Allen           1          10  0.100000      NaN     NaN\n",
       "22    Jonathan Isaac           3          32  0.093750      NaN     NaN\n",
       "23   Justise Winslow           1          11  0.090909      NaN     NaN\n",
       "27         PJ Dozier           1          12  0.083333      NaN     NaN\n",
       "29     Mikal Bridges           4          52  0.076923      NaN     NaN\n",
       "43     Jabari Parker           2          32  0.062500      NaN     NaN\n",
       "44       Josh Okogie           3          48  0.062500      NaN     NaN\n",
       "46        Alec Burks           3          48  0.062500      NaN     NaN\n",
       "61  Derrick Jones Jr           2          37  0.054054      NaN     NaN\n",
       "64   Cameron Johnson           2          39  0.051282      NaN     NaN\n",
       "69   Marvin Williams           2          41  0.048780      NaN     NaN\n",
       "73       Gary Harris           2          43  0.046512      NaN     NaN\n",
       "78     PJ Washington           2          44  0.045455      NaN     NaN\n",
       "82       Jeff Teague           2          45  0.044444      NaN     NaN\n",
       "83   Brandon Goodwin           1          23  0.043478      NaN     NaN"
      ]
     },
     "execution_count": 42,
     "metadata": {},
     "output_type": "execute_result"
    }
   ],
   "source": [
    "# should only be players on waiver wire\n",
    "rosters_merge.loc[rosters_merge.fullName.isnull()].sort_values('octy_pct', ascending=False).head(15)"
   ]
  },
  {
   "cell_type": "code",
   "execution_count": null,
   "metadata": {},
   "outputs": [],
   "source": []
  }
 ],
 "metadata": {
  "kernelspec": {
   "display_name": "Python 3",
   "language": "python",
   "name": "python3"
  },
  "language_info": {
   "codemirror_mode": {
    "name": "ipython",
    "version": 3
   },
   "file_extension": ".py",
   "mimetype": "text/x-python",
   "name": "python",
   "nbconvert_exporter": "python",
   "pygments_lexer": "ipython3",
   "version": "3.7.1"
  }
 },
 "nbformat": 4,
 "nbformat_minor": 2
}
