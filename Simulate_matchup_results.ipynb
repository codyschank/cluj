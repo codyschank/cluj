{
 "cells": [
  {
   "cell_type": "code",
   "execution_count": 1,
   "metadata": {},
   "outputs": [],
   "source": [
    "import requests\n",
    "import numpy as np\n",
    "import pandas as pd\n",
    "import seaborn as sns\n",
    "import matplotlib.pyplot as plt\n",
    "\n",
    "from itertools import chain\n",
    "from datetime import timedelta, date, datetime, timezone\n",
    "from sqlalchemy import create_engine\n",
    "from sqlalchemy_utils import database_exists, create_database\n",
    "\n",
    "from secrets import *"
   ]
  },
  {
   "cell_type": "code",
   "execution_count": 2,
   "metadata": {},
   "outputs": [
    {
     "name": "stdout",
     "output_type": "stream",
     "text": [
      "True\n"
     ]
    }
   ],
   "source": [
    "dbname = 'cluj'\n",
    "engine = create_engine('postgres://%s:%s@localhost/%s'%('docker','docker',dbname))\n",
    "\n",
    "if not database_exists(engine.url):\n",
    "    create_database(engine.url)\n",
    "print(database_exists(engine.url))"
   ]
  },
  {
   "cell_type": "code",
   "execution_count": 3,
   "metadata": {},
   "outputs": [],
   "source": [
    "league_id = 84057"
   ]
  },
  {
   "cell_type": "markdown",
   "metadata": {},
   "source": [
    "### Pull injured players"
   ]
  },
  {
   "cell_type": "code",
   "execution_count": 4,
   "metadata": {},
   "outputs": [
    {
     "data": {
      "text/plain": [
       "dict_keys(['players'])"
      ]
     },
     "execution_count": 4,
     "metadata": {},
     "output_type": "execute_result"
    }
   ],
   "source": [
    "url = 'https://fantasy.espn.com/apis/v3/games/FBA/seasons/2020/segments/0/leagues/' + str(league_id)\n",
    "params={\"view\": \"kona_player_info\"}\n",
    "cookies = {\"swid\": AUTH['swid'],\n",
    "           \"espn_s2\": AUTH['espn_s2']}\n",
    "r = requests.get(url, params=params, cookies=cookies)\n",
    "data = r.json()\n",
    "data.keys()"
   ]
  },
  {
   "cell_type": "code",
   "execution_count": 5,
   "metadata": {},
   "outputs": [],
   "source": [
    "injured_out = []\n",
    "injured_dtd = []\n",
    "for player in data['players']:\n",
    "    for stat_item in player['player']['stats']:\n",
    "        if stat_item['id'] == '002020':\n",
    "            if 'injuryStatus' in player['player'].keys():\n",
    "                if player['player']['injuryStatus'] == 'OUT':\n",
    "                    injured_out.append(player['player']['fullName'])\n",
    "                if player['player']['injuryStatus'] == 'DAY_TO_DAY':\n",
    "                    injured_dtd.append(player['player']['fullName'])"
   ]
  },
  {
   "cell_type": "markdown",
   "metadata": {},
   "source": [
    "### Pull matchup data"
   ]
  },
  {
   "cell_type": "code",
   "execution_count": 6,
   "metadata": {},
   "outputs": [],
   "source": [
    "url = 'https://fantasy.espn.com/apis/v3/games/FBA/seasons/2020/segments/0/leagues/' + str(league_id)\n",
    "params={\"view\": \"mBoxscore\"}\n",
    "cookies = {\"swid\": AUTH['swid'],\n",
    "           \"espn_s2\": AUTH['espn_s2']}\n",
    "r = requests.get(url, params=params, cookies=cookies)\n",
    "data = r.json()"
   ]
  },
  {
   "cell_type": "code",
   "execution_count": 7,
   "metadata": {},
   "outputs": [
    {
     "name": "stdout",
     "output_type": "stream",
     "text": [
      "2020-01-27\n"
     ]
    }
   ],
   "source": [
    "today = datetime.strftime(datetime.now(), format='%Y-%m-%d')\n",
    "print(today)"
   ]
  },
  {
   "cell_type": "code",
   "execution_count": 8,
   "metadata": {},
   "outputs": [
    {
     "name": "stdout",
     "output_type": "stream",
     "text": [
      "2020-02-02 15\n"
     ]
    }
   ],
   "source": [
    "# get matchup end date and match up period using current day\n",
    "sql = \"\"\"\n",
    "    SELECT *\n",
    "    FROM matchup_end_dates \n",
    "    WHERE end_date >= '{}'\n",
    "    ORDER BY end_date ASC\n",
    "\"\"\".format(today)\n",
    "matchup = pd.read_sql(sql, engine)\n",
    "matchup_end_date = matchup.end_date.values[0]\n",
    "matchupPeriod = matchup.matchup_period.values[0]\n",
    "print(matchup_end_date, matchupPeriod)"
   ]
  },
  {
   "cell_type": "code",
   "execution_count": 9,
   "metadata": {},
   "outputs": [],
   "source": [
    "# if matchup period hasn't started yet, then this doesn't work\n",
    "# doesn't appear to be an obvious workaround \n",
    "teamId = 10\n",
    "team_totals = {}\n",
    "opponent_totals = {}\n",
    "for matchup in data['schedule']:\n",
    "    if ((matchup['away']['teamId'] == teamId) or (matchup['home']['teamId'] == teamId)) & (matchup['matchupPeriodId'] == matchupPeriod):\n",
    "        \n",
    "        if matchup['away']['teamId'] == teamId:\n",
    "            team_role = 'away'\n",
    "            opponent_role = 'home'\n",
    "        else:\n",
    "            team_role = 'home'\n",
    "            opponent_role = 'away'\n",
    "        \n",
    "        team_players = []\n",
    "        opponent_players = []\n",
    "        for entry in matchup[team_role]['rosterForCurrentScoringPeriod']['entries']:\n",
    "            # 12 is bench players if I also want to remove them\n",
    "            # but have to make sure their lineup is set correctly\n",
    "            if (entry['lineupSlotId'] != 13) & (entry['playerPoolEntry']['player']['fullName'] not in injured_out):\n",
    "                team_players.append({'fullName':entry['playerPoolEntry']['player']['fullName'],\n",
    "                                    'proTeamId':entry['playerPoolEntry']['player']['proTeamId']})\n",
    "        for entry in matchup[opponent_role]['rosterForCurrentScoringPeriod']['entries']:\n",
    "            if (entry['lineupSlotId'] != 13) & (entry['playerPoolEntry']['player']['fullName'] not in injured_out):\n",
    "                opponent_players.append({'fullName':entry['playerPoolEntry']['player']['fullName'],\n",
    "                                    'proTeamId':entry['playerPoolEntry']['player']['proTeamId']})\n",
    "\n",
    "        team_totals['points'] = matchup[team_role]['cumulativeScore']['scoreByStat']['0']['score']\n",
    "        team_totals['blocks'] = matchup[team_role]['cumulativeScore']['scoreByStat']['1']['score']\n",
    "        team_totals['steals'] = matchup[team_role]['cumulativeScore']['scoreByStat']['2']['score']\n",
    "        team_totals['assists'] = matchup[team_role]['cumulativeScore']['scoreByStat']['3']['score']\n",
    "        team_totals['rebounds'] = matchup[team_role]['cumulativeScore']['scoreByStat']['6']['score']\n",
    "        team_totals['threes'] = matchup[team_role]['cumulativeScore']['scoreByStat']['17']['score']\n",
    "        team_totals['fga'] = matchup[team_role]['cumulativeScore']['scoreByStat']['14']['score']\n",
    "        team_totals['fgm'] = matchup[team_role]['cumulativeScore']['scoreByStat']['13']['score']\n",
    "        team_totals['fta'] = matchup[team_role]['cumulativeScore']['scoreByStat']['16']['score']\n",
    "        team_totals['ftm'] = matchup[team_role]['cumulativeScore']['scoreByStat']['15']['score']\n",
    "\n",
    "        opponent_totals['points'] = matchup[opponent_role]['cumulativeScore']['scoreByStat']['0']['score']\n",
    "        opponent_totals['blocks'] = matchup[opponent_role]['cumulativeScore']['scoreByStat']['1']['score']\n",
    "        opponent_totals['steals'] = matchup[opponent_role]['cumulativeScore']['scoreByStat']['2']['score']\n",
    "        opponent_totals['assists'] = matchup[opponent_role]['cumulativeScore']['scoreByStat']['3']['score']\n",
    "        opponent_totals['rebounds'] = matchup[opponent_role]['cumulativeScore']['scoreByStat']['6']['score']\n",
    "        opponent_totals['threes'] = matchup[opponent_role]['cumulativeScore']['scoreByStat']['17']['score']\n",
    "        opponent_totals['fga'] = matchup[opponent_role]['cumulativeScore']['scoreByStat']['14']['score']\n",
    "        opponent_totals['fgm'] = matchup[opponent_role]['cumulativeScore']['scoreByStat']['13']['score']\n",
    "        opponent_totals['fta'] = matchup[opponent_role]['cumulativeScore']['scoreByStat']['16']['score']\n",
    "        opponent_totals['ftm'] = matchup[opponent_role]['cumulativeScore']['scoreByStat']['15']['score']\n",
    "        \n",
    "        break\n",
    "\n",
    "team_players_df = pd.DataFrame(team_players)\n",
    "opponent_players_df = pd.DataFrame(opponent_players)"
   ]
  },
  {
   "cell_type": "code",
   "execution_count": 10,
   "metadata": {},
   "outputs": [
    {
     "data": {
      "text/html": [
       "<div>\n",
       "<style scoped>\n",
       "    .dataframe tbody tr th:only-of-type {\n",
       "        vertical-align: middle;\n",
       "    }\n",
       "\n",
       "    .dataframe tbody tr th {\n",
       "        vertical-align: top;\n",
       "    }\n",
       "\n",
       "    .dataframe thead th {\n",
       "        text-align: right;\n",
       "    }\n",
       "</style>\n",
       "<table border=\"1\" class=\"dataframe\">\n",
       "  <thead>\n",
       "    <tr style=\"text-align: right;\">\n",
       "      <th></th>\n",
       "      <th>fullName</th>\n",
       "      <th>proTeamId</th>\n",
       "    </tr>\n",
       "  </thead>\n",
       "  <tbody>\n",
       "    <tr>\n",
       "      <th>0</th>\n",
       "      <td>Buddy Hield</td>\n",
       "      <td>23</td>\n",
       "    </tr>\n",
       "    <tr>\n",
       "      <th>1</th>\n",
       "      <td>Giannis Antetokounmpo</td>\n",
       "      <td>15</td>\n",
       "    </tr>\n",
       "    <tr>\n",
       "      <th>2</th>\n",
       "      <td>Nikola Jokic</td>\n",
       "      <td>7</td>\n",
       "    </tr>\n",
       "    <tr>\n",
       "      <th>3</th>\n",
       "      <td>PJ Washington</td>\n",
       "      <td>30</td>\n",
       "    </tr>\n",
       "    <tr>\n",
       "      <th>4</th>\n",
       "      <td>Derrick Rose</td>\n",
       "      <td>8</td>\n",
       "    </tr>\n",
       "    <tr>\n",
       "      <th>5</th>\n",
       "      <td>Nerlens Noel</td>\n",
       "      <td>25</td>\n",
       "    </tr>\n",
       "    <tr>\n",
       "      <th>6</th>\n",
       "      <td>Julius Randle</td>\n",
       "      <td>18</td>\n",
       "    </tr>\n",
       "    <tr>\n",
       "      <th>7</th>\n",
       "      <td>Tomas Satoransky</td>\n",
       "      <td>4</td>\n",
       "    </tr>\n",
       "    <tr>\n",
       "      <th>8</th>\n",
       "      <td>Markelle Fultz</td>\n",
       "      <td>19</td>\n",
       "    </tr>\n",
       "    <tr>\n",
       "      <th>9</th>\n",
       "      <td>Taurean Prince</td>\n",
       "      <td>17</td>\n",
       "    </tr>\n",
       "    <tr>\n",
       "      <th>10</th>\n",
       "      <td>Matisse Thybulle</td>\n",
       "      <td>20</td>\n",
       "    </tr>\n",
       "    <tr>\n",
       "      <th>11</th>\n",
       "      <td>Jakob Poeltl</td>\n",
       "      <td>24</td>\n",
       "    </tr>\n",
       "    <tr>\n",
       "      <th>12</th>\n",
       "      <td>Kris Dunn</td>\n",
       "      <td>4</td>\n",
       "    </tr>\n",
       "  </tbody>\n",
       "</table>\n",
       "</div>"
      ],
      "text/plain": [
       "                 fullName  proTeamId\n",
       "0             Buddy Hield         23\n",
       "1   Giannis Antetokounmpo         15\n",
       "2            Nikola Jokic          7\n",
       "3           PJ Washington         30\n",
       "4            Derrick Rose          8\n",
       "5            Nerlens Noel         25\n",
       "6           Julius Randle         18\n",
       "7        Tomas Satoransky          4\n",
       "8          Markelle Fultz         19\n",
       "9          Taurean Prince         17\n",
       "10       Matisse Thybulle         20\n",
       "11           Jakob Poeltl         24\n",
       "12              Kris Dunn          4"
      ]
     },
     "execution_count": 10,
     "metadata": {},
     "output_type": "execute_result"
    }
   ],
   "source": [
    "team_players_df"
   ]
  },
  {
   "cell_type": "code",
   "execution_count": 11,
   "metadata": {},
   "outputs": [
    {
     "data": {
      "text/html": [
       "<div>\n",
       "<style scoped>\n",
       "    .dataframe tbody tr th:only-of-type {\n",
       "        vertical-align: middle;\n",
       "    }\n",
       "\n",
       "    .dataframe tbody tr th {\n",
       "        vertical-align: top;\n",
       "    }\n",
       "\n",
       "    .dataframe thead th {\n",
       "        text-align: right;\n",
       "    }\n",
       "</style>\n",
       "<table border=\"1\" class=\"dataframe\">\n",
       "  <thead>\n",
       "    <tr style=\"text-align: right;\">\n",
       "      <th></th>\n",
       "      <th>fullName</th>\n",
       "      <th>proTeamId</th>\n",
       "    </tr>\n",
       "  </thead>\n",
       "  <tbody>\n",
       "    <tr>\n",
       "      <th>0</th>\n",
       "      <td>D'Angelo Russell</td>\n",
       "      <td>9</td>\n",
       "    </tr>\n",
       "    <tr>\n",
       "      <th>1</th>\n",
       "      <td>Rudy Gobert</td>\n",
       "      <td>26</td>\n",
       "    </tr>\n",
       "    <tr>\n",
       "      <th>2</th>\n",
       "      <td>Shai Gilgeous-Alexander</td>\n",
       "      <td>25</td>\n",
       "    </tr>\n",
       "    <tr>\n",
       "      <th>3</th>\n",
       "      <td>CJ McCollum</td>\n",
       "      <td>22</td>\n",
       "    </tr>\n",
       "    <tr>\n",
       "      <th>4</th>\n",
       "      <td>Derrick Favors</td>\n",
       "      <td>3</td>\n",
       "    </tr>\n",
       "    <tr>\n",
       "      <th>5</th>\n",
       "      <td>Steven Adams</td>\n",
       "      <td>25</td>\n",
       "    </tr>\n",
       "    <tr>\n",
       "      <th>6</th>\n",
       "      <td>Gordon Hayward</td>\n",
       "      <td>2</td>\n",
       "    </tr>\n",
       "    <tr>\n",
       "      <th>7</th>\n",
       "      <td>Dwight Howard</td>\n",
       "      <td>13</td>\n",
       "    </tr>\n",
       "    <tr>\n",
       "      <th>8</th>\n",
       "      <td>Kelly Oubre Jr.</td>\n",
       "      <td>21</td>\n",
       "    </tr>\n",
       "    <tr>\n",
       "      <th>9</th>\n",
       "      <td>Eric Gordon</td>\n",
       "      <td>10</td>\n",
       "    </tr>\n",
       "    <tr>\n",
       "      <th>10</th>\n",
       "      <td>Marcus Morris Sr.</td>\n",
       "      <td>18</td>\n",
       "    </tr>\n",
       "  </tbody>\n",
       "</table>\n",
       "</div>"
      ],
      "text/plain": [
       "                   fullName  proTeamId\n",
       "0          D'Angelo Russell          9\n",
       "1               Rudy Gobert         26\n",
       "2   Shai Gilgeous-Alexander         25\n",
       "3               CJ McCollum         22\n",
       "4            Derrick Favors          3\n",
       "5              Steven Adams         25\n",
       "6            Gordon Hayward          2\n",
       "7             Dwight Howard         13\n",
       "8           Kelly Oubre Jr.         21\n",
       "9               Eric Gordon         10\n",
       "10        Marcus Morris Sr.         18"
      ]
     },
     "execution_count": 11,
     "metadata": {},
     "output_type": "execute_result"
    }
   ],
   "source": [
    "opponent_players_df"
   ]
  },
  {
   "cell_type": "markdown",
   "metadata": {},
   "source": [
    "### Test get n_games per day for my team"
   ]
  },
  {
   "cell_type": "code",
   "execution_count": 12,
   "metadata": {},
   "outputs": [],
   "source": [
    "start_date = datetime.strftime(datetime.now(), format='%Y-%m-%d')\n",
    "teamIdList = '(' + ', '.join(opponent_players_df.proTeamId.astype(str)) + ')'\n",
    "sql = \"\"\"\n",
    "    SELECT *\n",
    "    FROM espn_team_ids eid\n",
    "    JOIN nba_schedule sch ON eid.scraped_name = sch.home_team OR eid.scraped_name = sch.away_team \n",
    "    WHERE espn_team_id IN {} AND sch.season_end_year = 2020 AND start_date >= '{}' AND start_date <= '{}'\n",
    "\"\"\".format(teamIdList, start_date, matchup_end_date)\n",
    "games = pd.read_sql(sql, engine)\n",
    "\n",
    "teamCounts = pd.DataFrame(team_players_df.proTeamId.value_counts())\n",
    "teamCounts.rename(columns={'proTeamId':'team_count'}, inplace=True)\n",
    "teamCounts = teamCounts.loc[teamCounts.team_count > 1]\n",
    "for i in range(len(teamCounts)):\n",
    "    teamId = teamCounts.index.values[i]\n",
    "    team_count = teamCounts.team_count.values[i]\n",
    "    games = games.append([games.loc[games.espn_team_id == teamId]] * (team_count - 1), ignore_index=True)"
   ]
  },
  {
   "cell_type": "code",
   "execution_count": 13,
   "metadata": {},
   "outputs": [
    {
     "data": {
      "text/plain": [
       "(2020-01-28    6\n",
       " 2020-02-01    6\n",
       " 2020-01-31    6\n",
       " 2020-01-29    5\n",
       " 2020-01-30    3\n",
       " 2020-02-02    3\n",
       " 2020-01-27    3\n",
       " Name: start_date, dtype: int64, 32)"
      ]
     },
     "execution_count": 13,
     "metadata": {},
     "output_type": "execute_result"
    }
   ],
   "source": [
    "games.start_date.value_counts(), games.start_date.value_counts().sum()"
   ]
  },
  {
   "cell_type": "code",
   "execution_count": 14,
   "metadata": {},
   "outputs": [],
   "source": [
    "start_date = datetime.strftime(datetime.now(), format='%Y-%m-%d')\n",
    "teamIdList = '(' + ', '.join(team_players_df.proTeamId.astype(str)) + ')'\n",
    "sql = \"\"\"\n",
    "    SELECT *\n",
    "    FROM espn_team_ids eid\n",
    "    JOIN nba_schedule sch ON eid.scraped_name = sch.home_team OR eid.scraped_name = sch.away_team \n",
    "    WHERE espn_team_id IN {} AND sch.season_end_year = 2020 AND start_date >= '{}' AND start_date <= '{}'\n",
    "\"\"\".format(teamIdList, start_date, matchup_end_date)\n",
    "games = pd.read_sql(sql, engine)\n",
    "\n",
    "teamCounts = pd.DataFrame(team_players_df.proTeamId.value_counts())\n",
    "teamCounts.rename(columns={'proTeamId':'team_count'}, inplace=True)\n",
    "teamCounts = teamCounts.loc[teamCounts.team_count > 1]\n",
    "for i in range(len(teamCounts)):\n",
    "    teamId = teamCounts.index.values[i]\n",
    "    team_count = teamCounts.team_count.values[i]\n",
    "    games = games.append([games.loc[games.espn_team_id == teamId]] * (team_count - 1), ignore_index=True)"
   ]
  },
  {
   "cell_type": "code",
   "execution_count": 15,
   "metadata": {},
   "outputs": [
    {
     "data": {
      "text/plain": [
       "(2020-01-29    8\n",
       " 2020-02-01    7\n",
       " 2020-01-31    7\n",
       " 2020-01-27    7\n",
       " 2020-01-28    5\n",
       " 2020-02-02    5\n",
       " 2020-01-30    4\n",
       " Name: start_date, dtype: int64, 43)"
      ]
     },
     "execution_count": 15,
     "metadata": {},
     "output_type": "execute_result"
    }
   ],
   "source": [
    "games.start_date.value_counts(), games.start_date.value_counts().sum()"
   ]
  },
  {
   "cell_type": "markdown",
   "metadata": {},
   "source": [
    "### Generating simulated data"
   ]
  },
  {
   "cell_type": "code",
   "execution_count": 16,
   "metadata": {},
   "outputs": [],
   "source": [
    "# add season end year to boxscores and limit by that?"
   ]
  },
  {
   "cell_type": "code",
   "execution_count": 22,
   "metadata": {},
   "outputs": [
    {
     "name": "stdout",
     "output_type": "stream",
     "text": [
      "2020-01-27\n",
      "Processing Buddy Hield\n",
      "4\n",
      "Processing Giannis Antetokounmpo\n",
      "3\n",
      "Processing Nikola Jokic\n",
      "4\n",
      "Processing PJ Washington\n",
      "3\n",
      "Processing Derrick Rose\n",
      "4\n",
      "Processing Nerlens Noel\n",
      "3\n",
      "Processing Julius Randle\n",
      "3\n",
      "Processing Tomas Satoransky\n",
      "4\n",
      "Processing Markelle Fultz\n",
      "2\n",
      "Processing Taurean Prince\n",
      "3\n",
      "Processing Matisse Thybulle\n",
      "3\n",
      "Processing Jakob Poeltl\n",
      "3\n",
      "Processing Kris Dunn\n",
      "4\n",
      "Processing D'Angelo Russell\n",
      "3\n",
      "Processing Rudy Gobert\n",
      "4\n",
      "Processing Shai Gilgeous-Alexander\n",
      "3\n",
      "Processing CJ McCollum\n",
      "3\n",
      "Processing Derrick Favors\n",
      "3\n",
      "Processing Steven Adams\n",
      "3\n",
      "Processing Gordon Hayward\n",
      "3\n",
      "Processing Dwight Howard\n",
      "3\n",
      "Processing Kelly Oubre Jr.\n",
      "3\n",
      "Processing Eric Gordon\n",
      "4\n",
      "Processing Marcus Morris Sr.\n",
      "3\n"
     ]
    }
   ],
   "source": [
    "n_samples = 1000\n",
    "team_samples = []\n",
    "opponent_samples = []\n",
    "start_date = today\n",
    "print(start_date)\n",
    "\n",
    "# iterate over players\n",
    "for i in range(len(team_players_df)):\n",
    "\n",
    "    player = team_players_df.iloc[i]['fullName']\n",
    "    teamId = team_players_df.iloc[i]['proTeamId']\n",
    "    print(\"Processing \" + player)\n",
    "    \n",
    "    # get player boxscores\n",
    "    # join on player_name_comparison in case name doesn't match, this query should work ok\n",
    "    sql = \"\"\"\n",
    "        SELECT * FROM boxscores b\n",
    "        LEFT JOIN player_name_comparison c ON b.name = c.boxscore_name\n",
    "        WHERE (c.espn_name = %(player)s) OR (b.name = %(player)s)\n",
    "    \"\"\"\n",
    "    player_boxscores = pd.read_sql(sql, engine, params = {'player': player})\n",
    "    \n",
    "    # get n_games for this matchup\n",
    "    sql = \"\"\"\n",
    "        SELECT COUNT(*)\n",
    "        FROM espn_team_ids eid\n",
    "        JOIN nba_schedule sch ON eid.scraped_name = sch.home_team OR eid.scraped_name = sch.away_team \n",
    "        WHERE espn_team_id = {} AND sch.season_end_year = 2020 AND start_date >= '{}' AND start_date <= '{}'\n",
    "    \"\"\".format(teamId, start_date, matchup_end_date)\n",
    "    n_games = pd.read_sql(sql, engine).values[0][0]\n",
    "    print(n_games)\n",
    "\n",
    "    for sample in range(n_samples):\n",
    "        player_samples = player_boxscores.sample(replace=False, n=n_games)\n",
    "        player_samples['sample_i'] = sample\n",
    "        team_samples.append(player_samples.to_dict('records'))\n",
    "        \n",
    "for i in range(len(opponent_players_df)):\n",
    "        \n",
    "    player = opponent_players_df.iloc[i]['fullName']\n",
    "    teamId = opponent_players_df.iloc[i]['proTeamId']\n",
    "    print(\"Processing \" + player)\n",
    "    \n",
    "    # get player boxscores\n",
    "    sql = \"\"\"\n",
    "        SELECT * FROM boxscores b\n",
    "        LEFT JOIN player_name_comparison c ON b.name = c.boxscore_name\n",
    "        WHERE (c.espn_name = %(player)s) OR (b.name = %(player)s)\n",
    "    \"\"\"\n",
    "    player_boxscores = pd.read_sql(sql, engine, params = {'player': player})\n",
    "    \n",
    "    # get n_games for this matchup\n",
    "    sql = \"\"\"\n",
    "        SELECT COUNT(*)\n",
    "        FROM espn_team_ids eid\n",
    "        JOIN nba_schedule sch ON eid.scraped_name = sch.home_team OR eid.scraped_name = sch.away_team \n",
    "        WHERE espn_team_id = {} AND sch.season_end_year = 2020 AND start_date >= '{}' AND start_date <= '{}'\n",
    "    \"\"\".format(teamId, start_date, matchup_end_date)\n",
    "    n_games = pd.read_sql(sql, engine).values[0][0]\n",
    "    print(n_games)\n",
    "\n",
    "    for sample in range(n_samples):\n",
    "        player_samples = player_boxscores.sample(replace=False, n=n_games)\n",
    "        player_samples['sample_i'] = sample\n",
    "        opponent_samples.append(player_samples.to_dict('records'))\n",
    "\n",
    "team_samples_df = pd.DataFrame(list(chain.from_iterable(team_samples)))\n",
    "opponent_samples_df = pd.DataFrame(list(chain.from_iterable(opponent_samples)))\n",
    "\n",
    "team_totals_samples = []\n",
    "opponent_total_samples = []\n",
    "# iterate over samples\n",
    "for sample in range(n_samples):\n",
    "    \n",
    "    sample_totals = {}\n",
    "    team_samples_df.loc[team_samples_df['sample_i']==sample]\n",
    "    sample_totals['sample_i'] = sample\n",
    "    for stat in ['assists','blocks','fga','fgm','fta','ftm','points','rebounds','steals','threes']:\n",
    "        sample_totals[stat] = team_totals[stat] + team_samples_df.loc[team_samples_df['sample_i']==sample][stat].sum()\n",
    "    team_totals_samples.append(sample_totals)\n",
    "    \n",
    "    sample_totals = {}\n",
    "    opponent_samples_df.loc[opponent_samples_df['sample_i']==sample]\n",
    "    sample_totals['sample_i'] = sample\n",
    "    for stat in ['assists','blocks','fga','fgm','fta','ftm','points','rebounds','steals','threes']:\n",
    "        sample_totals[stat] = opponent_totals[stat] + opponent_samples_df.loc[opponent_samples_df['sample_i']==sample][stat].sum()\n",
    "    opponent_total_samples.append(sample_totals)\n",
    "    \n",
    "team_totals_samples_df = pd.DataFrame(team_totals_samples)\n",
    "team_totals_samples_df['ft_pct'] = team_totals_samples_df.ftm / team_totals_samples_df.fta\n",
    "team_totals_samples_df['fg_pct'] = team_totals_samples_df.fgm / team_totals_samples_df.fga\n",
    "opponent_total_samples_df = pd.DataFrame(opponent_total_samples)\n",
    "opponent_total_samples_df['ft_pct'] = opponent_total_samples_df.ftm / opponent_total_samples_df.fta\n",
    "opponent_total_samples_df['fg_pct'] = opponent_total_samples_df.fgm / opponent_total_samples_df.fga"
   ]
  },
  {
   "cell_type": "code",
   "execution_count": 23,
   "metadata": {},
   "outputs": [],
   "source": [
    "# do comparison for each cat\n",
    "merged = team_totals_samples_df.merge(opponent_total_samples_df, on='sample_i')\n",
    "results = {}\n",
    "for stat in ['assists','blocks','fg_pct','ft_pct','points','rebounds','steals','threes']:\n",
    "    results[stat] = (merged[stat+'_x'] > merged[stat+'_y']).sum()"
   ]
  },
  {
   "cell_type": "code",
   "execution_count": 24,
   "metadata": {},
   "outputs": [
    {
     "data": {
      "text/plain": [
       "{'assists': 1000,\n",
       " 'blocks': 343,\n",
       " 'fg_pct': 414,\n",
       " 'ft_pct': 767,\n",
       " 'points': 907,\n",
       " 'rebounds': 757,\n",
       " 'steals': 956,\n",
       " 'threes': 580}"
      ]
     },
     "execution_count": 24,
     "metadata": {},
     "output_type": "execute_result"
    }
   ],
   "source": [
    "results"
   ]
  },
  {
   "cell_type": "code",
   "execution_count": 21,
   "metadata": {},
   "outputs": [
    {
     "data": {
      "image/png": "[encoded data removed]",
      "text/plain": [
       "<Figure size 432x288 with 1 Axes>"
      ]
     },
     "metadata": {
      "needs_background": "light"
     },
     "output_type": "display_data"
    }
   ],
   "source": [
    "merged['points_x'].hist(bins=10);  "
   ]
  },
  {
   "cell_type": "code",
   "execution_count": 22,
   "metadata": {},
   "outputs": [
    {
     "data": {
      "image/png": "[encoded data removed]",
      "text/plain": [
       "<Figure size 432x288 with 1 Axes>"
      ]
     },
     "metadata": {
      "needs_background": "light"
     },
     "output_type": "display_data"
    }
   ],
   "source": [
    "merged['points_y'].hist(bins=10);"
   ]
  },
  {
   "cell_type": "code",
   "execution_count": null,
   "metadata": {},
   "outputs": [],
   "source": [
    "# I could write these results for every team to a database which I then use to populate an R-shiny "
   ]
  }
 ],
 "metadata": {
  "kernelspec": {
   "display_name": "Python 3",
   "language": "python",
   "name": "python3"
  },
  "language_info": {
   "codemirror_mode": {
    "name": "ipython",
    "version": 3
   },
   "file_extension": ".py",
   "mimetype": "text/x-python",
   "name": "python",
   "nbconvert_exporter": "python",
   "pygments_lexer": "ipython3",
   "version": "3.7.1"
  }
 },
 "nbformat": 4,
 "nbformat_minor": 2
}
