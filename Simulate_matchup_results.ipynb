{
 "cells": [
  {
   "cell_type": "code",
   "execution_count": 1,
   "metadata": {},
   "outputs": [
    {
     "name": "stdout",
     "output_type": "stream",
     "text": [
      "Today is 2020-02-02\n"
     ]
    }
   ],
   "source": [
    "import cluj_tools as ct"
   ]
  },
  {
   "cell_type": "code",
   "execution_count": 2,
   "metadata": {},
   "outputs": [],
   "source": [
    "n_samples = 1000"
   ]
  },
  {
   "cell_type": "markdown",
   "metadata": {},
   "source": [
    "### Pull injured players"
   ]
  },
  {
   "cell_type": "code",
   "execution_count": 3,
   "metadata": {},
   "outputs": [],
   "source": [
    "injured_out = ct.pull_injured_players()"
   ]
  },
  {
   "cell_type": "markdown",
   "metadata": {},
   "source": [
    "### Get matchup end date and period"
   ]
  },
  {
   "cell_type": "code",
   "execution_count": 4,
   "metadata": {},
   "outputs": [
    {
     "name": "stdout",
     "output_type": "stream",
     "text": [
      "Matchup end date is 2020-02-02\n",
      "Matchup period is 15\n"
     ]
    }
   ],
   "source": [
    "matchup_end_date, matchupPeriod = ct.matchup_end_date()"
   ]
  },
  {
   "cell_type": "markdown",
   "metadata": {},
   "source": [
    "### Loop through teams"
   ]
  },
  {
   "cell_type": "code",
   "execution_count": 5,
   "metadata": {},
   "outputs": [
    {
     "name": "stdout",
     "output_type": "stream",
     "text": [
      "1\n",
      "2\n",
      "3\n",
      "4\n",
      "5\n",
      "6\n",
      "7\n",
      "8\n",
      "9\n",
      "10\n",
      "11\n",
      "12\n"
     ]
    }
   ],
   "source": [
    "for teamId in range(1,13):\n",
    "    print(teamId)\n",
    "    results = ct.pull_matchup_data(teamId, injured_out, matchupPeriod)\n",
    "    team_players_df = results['team_players']\n",
    "    opponent_players_df = results['opponent_players']\n",
    "    team_totals = results['team_totals']\n",
    "    opponent_totals = results['opponent_totals']\n",
    "    team_samples_df = ct.simulate_data(n_samples, matchup_end_date, team_players_df)\n",
    "    opponent_samples_df = ct.simulate_data(n_samples, matchup_end_date, opponent_players_df)\n",
    "    team_totals_samples_df = ct.generate_team_totals(n_samples, team_samples_df, team_totals)\n",
    "    opponent_totals_samples_df = ct.generate_team_totals(n_samples, opponent_samples_df, opponent_totals)\n",
    "    results_df = ct.compare_totals(teamId, team_totals_samples_df, opponent_totals_samples_df)"
   ]
  },
  {
   "cell_type": "code",
   "execution_count": null,
   "metadata": {},
   "outputs": [],
   "source": [
    "# need to write some code to pull the matchup results"
   ]
  },
  {
   "cell_type": "markdown",
   "metadata": {},
   "source": [
    "### Do for my team only"
   ]
  },
  {
   "cell_type": "code",
   "execution_count": 4,
   "metadata": {},
   "outputs": [],
   "source": [
    "#teamId = 10\n",
    "#results = ct.pull_matchup_data(teamId, injured_out, matchupPeriod)\n",
    "#team_players_df = results['team_players']\n",
    "#opponent_players_df = results['opponent_players']\n",
    "#team_totals = results['team_totals']\n",
    "#opponent_totals = results['opponent_totals']\n",
    "# add season end year to boxscores and filter by that?\n",
    "#team_samples_df = ct.simulate_data(n_samples, matchup_end_date, team_players_df)\n",
    "#opponent_samples_df = ct.simulate_data(n_samples, matchup_end_date, opponent_players_df)\n",
    "#team_totals_samples_df = ct.generate_team_totals(n_samples, team_samples_df, team_totals)\n",
    "#opponent_totals_samples_df = ct.generate_team_totals(n_samples, opponent_samples_df, opponent_totals)\n",
    "#results_df = ct.compare_totals(teamId, team_totals_samples_df, opponent_totals_samples_df)"
   ]
  },
  {
   "cell_type": "markdown",
   "metadata": {},
   "source": [
    "### Test get n_games per day for my team"
   ]
  },
  {
   "cell_type": "code",
   "execution_count": 5,
   "metadata": {},
   "outputs": [],
   "source": [
    "# this is not currently needed/used in the simulations, but might be useful when I figure out how to handle\n",
    "# situations where more players have games than there are slots to start them"
   ]
  },
  {
   "cell_type": "code",
   "execution_count": 13,
   "metadata": {},
   "outputs": [],
   "source": [
    "#games = ct.get_n_games(matchup_end_date, opponent_players_df)\n",
    "#games.start_date.value_counts(), games.start_date.value_counts().sum()"
   ]
  },
  {
   "cell_type": "code",
   "execution_count": 14,
   "metadata": {},
   "outputs": [],
   "source": [
    "#games = ct.get_n_games(matchup_end_date, team_players_df)\n",
    "#games.start_date.value_counts(), games.start_date.value_counts().sum()"
   ]
  }
 ],
 "metadata": {
  "kernelspec": {
   "display_name": "Python 3",
   "language": "python",
   "name": "python3"
  },
  "language_info": {
   "codemirror_mode": {
    "name": "ipython",
    "version": 3
   },
   "file_extension": ".py",
   "mimetype": "text/x-python",
   "name": "python",
   "nbconvert_exporter": "python",
   "pygments_lexer": "ipython3",
   "version": "3.7.1"
  }
 },
 "nbformat": 4,
 "nbformat_minor": 2
}
