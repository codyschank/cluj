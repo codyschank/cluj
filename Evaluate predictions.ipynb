{
 "cells": [
  {
   "cell_type": "code",
   "execution_count": 1,
   "metadata": {},
   "outputs": [],
   "source": [
    "import pandas as pd\n",
    "\n",
    "from sqlalchemy import create_engine\n",
    "from sqlalchemy_utils import database_exists, create_database"
   ]
  },
  {
   "cell_type": "code",
   "execution_count": 2,
   "metadata": {},
   "outputs": [
    {
     "name": "stdout",
     "output_type": "stream",
     "text": [
      "True\n"
     ]
    }
   ],
   "source": [
    "dbname = 'cluj'\n",
    "engine = create_engine('postgres://%s:%s@localhost/%s'%('docker','docker',dbname))\n",
    "\n",
    "if not database_exists(engine.url):\n",
    "    create_database(engine.url)\n",
    "print(database_exists(engine.url))"
   ]
  },
  {
   "cell_type": "code",
   "execution_count": 17,
   "metadata": {},
   "outputs": [],
   "source": [
    "sql = \"\"\"\n",
    "    SELECT * FROM matchup_results WHERE matchup_period = 16\n",
    "\"\"\""
   ]
  },
  {
   "cell_type": "code",
   "execution_count": 18,
   "metadata": {},
   "outputs": [
    {
     "data": {
      "text/plain": [
       "(12, 19)"
      ]
     },
     "execution_count": 18,
     "metadata": {},
     "output_type": "execute_result"
    }
   ],
   "source": [
    "matchup_results = pd.read_sql(sql, engine)\n",
    "matchup_results.shape"
   ]
  },
  {
   "cell_type": "code",
   "execution_count": 29,
   "metadata": {},
   "outputs": [],
   "source": [
    "#matchup_results.head()"
   ]
  },
  {
   "cell_type": "code",
   "execution_count": 40,
   "metadata": {},
   "outputs": [],
   "source": [
    "sql = \"\"\"\n",
    "    SELECT * FROM predictions WHERE matchupperiod = 16\n",
    "\"\"\""
   ]
  },
  {
   "cell_type": "code",
   "execution_count": 41,
   "metadata": {},
   "outputs": [
    {
     "data": {
      "text/plain": [
       "(84, 12)"
      ]
     },
     "execution_count": 41,
     "metadata": {},
     "output_type": "execute_result"
    }
   ],
   "source": [
    "predictions = pd.read_sql(sql, engine)\n",
    "predictions.shape"
   ]
  },
  {
   "cell_type": "code",
   "execution_count": 42,
   "metadata": {},
   "outputs": [],
   "source": [
    "#predictions.head()"
   ]
  },
  {
   "cell_type": "code",
   "execution_count": 47,
   "metadata": {},
   "outputs": [],
   "source": [
    "teamdId = 3\n",
    "mr_select = matchup_results.loc[matchup_results.team == teamdId]\n",
    "pr_select = predictions.loc[predictions.team == teamdId]\n",
    "#mr_select"
   ]
  },
  {
   "cell_type": "code",
   "execution_count": 48,
   "metadata": {},
   "outputs": [
    {
     "data": {
      "text/html": [
       "<div>\n",
       "<style scoped>\n",
       "    .dataframe tbody tr th:only-of-type {\n",
       "        vertical-align: middle;\n",
       "    }\n",
       "\n",
       "    .dataframe tbody tr th {\n",
       "        vertical-align: top;\n",
       "    }\n",
       "\n",
       "    .dataframe thead th {\n",
       "        text-align: right;\n",
       "    }\n",
       "</style>\n",
       "<table border=\"1\" class=\"dataframe\">\n",
       "  <thead>\n",
       "    <tr style=\"text-align: right;\">\n",
       "      <th></th>\n",
       "      <th>assists</th>\n",
       "      <th>blocks</th>\n",
       "      <th>fg_pct</th>\n",
       "      <th>ft_pct</th>\n",
       "      <th>points</th>\n",
       "      <th>rebounds</th>\n",
       "      <th>steals</th>\n",
       "      <th>threes</th>\n",
       "      <th>team</th>\n",
       "      <th>date</th>\n",
       "      <th>matchupperiod</th>\n",
       "      <th>days_to_end</th>\n",
       "    </tr>\n",
       "  </thead>\n",
       "  <tbody>\n",
       "    <tr>\n",
       "      <th>2</th>\n",
       "      <td>686</td>\n",
       "      <td>383</td>\n",
       "      <td>755</td>\n",
       "      <td>425</td>\n",
       "      <td>913</td>\n",
       "      <td>593</td>\n",
       "      <td>264</td>\n",
       "      <td>419</td>\n",
       "      <td>3</td>\n",
       "      <td>2020-02-04</td>\n",
       "      <td>16</td>\n",
       "      <td>5</td>\n",
       "    </tr>\n",
       "    <tr>\n",
       "      <th>11</th>\n",
       "      <td>655</td>\n",
       "      <td>599</td>\n",
       "      <td>617</td>\n",
       "      <td>534</td>\n",
       "      <td>909</td>\n",
       "      <td>704</td>\n",
       "      <td>227</td>\n",
       "      <td>439</td>\n",
       "      <td>3</td>\n",
       "      <td>2020-02-03</td>\n",
       "      <td>16</td>\n",
       "      <td>6</td>\n",
       "    </tr>\n",
       "    <tr>\n",
       "      <th>26</th>\n",
       "      <td>939</td>\n",
       "      <td>401</td>\n",
       "      <td>618</td>\n",
       "      <td>653</td>\n",
       "      <td>956</td>\n",
       "      <td>768</td>\n",
       "      <td>661</td>\n",
       "      <td>363</td>\n",
       "      <td>3</td>\n",
       "      <td>2020-02-05</td>\n",
       "      <td>16</td>\n",
       "      <td>4</td>\n",
       "    </tr>\n",
       "    <tr>\n",
       "      <th>38</th>\n",
       "      <td>1000</td>\n",
       "      <td>442</td>\n",
       "      <td>584</td>\n",
       "      <td>555</td>\n",
       "      <td>997</td>\n",
       "      <td>987</td>\n",
       "      <td>866</td>\n",
       "      <td>400</td>\n",
       "      <td>3</td>\n",
       "      <td>2020-02-06</td>\n",
       "      <td>16</td>\n",
       "      <td>3</td>\n",
       "    </tr>\n",
       "    <tr>\n",
       "      <th>50</th>\n",
       "      <td>1000</td>\n",
       "      <td>442</td>\n",
       "      <td>569</td>\n",
       "      <td>325</td>\n",
       "      <td>987</td>\n",
       "      <td>993</td>\n",
       "      <td>915</td>\n",
       "      <td>182</td>\n",
       "      <td>3</td>\n",
       "      <td>2020-02-07</td>\n",
       "      <td>16</td>\n",
       "      <td>2</td>\n",
       "    </tr>\n",
       "    <tr>\n",
       "      <th>62</th>\n",
       "      <td>1000</td>\n",
       "      <td>491</td>\n",
       "      <td>618</td>\n",
       "      <td>167</td>\n",
       "      <td>1000</td>\n",
       "      <td>1000</td>\n",
       "      <td>998</td>\n",
       "      <td>254</td>\n",
       "      <td>3</td>\n",
       "      <td>2020-02-08</td>\n",
       "      <td>16</td>\n",
       "      <td>1</td>\n",
       "    </tr>\n",
       "    <tr>\n",
       "      <th>74</th>\n",
       "      <td>1000</td>\n",
       "      <td>731</td>\n",
       "      <td>720</td>\n",
       "      <td>130</td>\n",
       "      <td>1000</td>\n",
       "      <td>999</td>\n",
       "      <td>981</td>\n",
       "      <td>51</td>\n",
       "      <td>3</td>\n",
       "      <td>2020-02-09</td>\n",
       "      <td>16</td>\n",
       "      <td>0</td>\n",
       "    </tr>\n",
       "  </tbody>\n",
       "</table>\n",
       "</div>"
      ],
      "text/plain": [
       "    assists  blocks  fg_pct  ft_pct  points  rebounds  steals  threes  team  \\\n",
       "2       686     383     755     425     913       593     264     419     3   \n",
       "11      655     599     617     534     909       704     227     439     3   \n",
       "26      939     401     618     653     956       768     661     363     3   \n",
       "38     1000     442     584     555     997       987     866     400     3   \n",
       "50     1000     442     569     325     987       993     915     182     3   \n",
       "62     1000     491     618     167    1000      1000     998     254     3   \n",
       "74     1000     731     720     130    1000       999     981      51     3   \n",
       "\n",
       "          date  matchupperiod  days_to_end  \n",
       "2   2020-02-04             16            5  \n",
       "11  2020-02-03             16            6  \n",
       "26  2020-02-05             16            4  \n",
       "38  2020-02-06             16            3  \n",
       "50  2020-02-07             16            2  \n",
       "62  2020-02-08             16            1  \n",
       "74  2020-02-09             16            0  "
      ]
     },
     "execution_count": 48,
     "metadata": {},
     "output_type": "execute_result"
    }
   ],
   "source": [
    "pr_select"
   ]
  },
  {
   "cell_type": "code",
   "execution_count": 49,
   "metadata": {},
   "outputs": [
    {
     "data": {
      "text/plain": [
       "(1, 1, 1, 1, 1, 0, 0, 0)"
      ]
     },
     "execution_count": 49,
     "metadata": {},
     "output_type": "execute_result"
    }
   ],
   "source": [
    "ast_result = (mr_select.asts.values[0] > mr_select.opp_asts.values[0]) * 1\n",
    "reb_result = (mr_select.rebs.values[0] > mr_select.opp_rebs.values[0]) * 1\n",
    "pts_result = (mr_select.pts.values[0] > mr_select.opp_pts.values[0]) * 1\n",
    "stls_result = (mr_select.stls.values[0] > mr_select.opp_stls.values[0]) * 1\n",
    "blks_result = (mr_select.blks.values[0] > mr_select.opp_blks.values[0]) * 1\n",
    "threes_result = (mr_select.threes.values[0] > mr_select.opp_threes.values[0]) * 1\n",
    "fg_result = (mr_select.fg_pct.values[0] > mr_select.opp_fg_pct.values[0]) * 1\n",
    "ft_result = (mr_select.ft_pct.values[0] > mr_select.opp_ft_pct.values[0]) * 1\n",
    "ast_result, reb_result, pts_result, stls_result, blks_result, threes_result, fg_result, ft_result"
   ]
  },
  {
   "cell_type": "code",
   "execution_count": null,
   "metadata": {},
   "outputs": [],
   "source": []
  }
 ],
 "metadata": {
  "kernelspec": {
   "display_name": "Python 3",
   "language": "python",
   "name": "python3"
  },
  "language_info": {
   "codemirror_mode": {
    "name": "ipython",
    "version": 3
   },
   "file_extension": ".py",
   "mimetype": "text/x-python",
   "name": "python",
   "nbconvert_exporter": "python",
   "pygments_lexer": "ipython3",
   "version": "3.7.1"
  }
 },
 "nbformat": 4,
 "nbformat_minor": 2
}
