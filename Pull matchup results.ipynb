{
 "cells": [
  {
   "cell_type": "code",
   "execution_count": 2,
   "metadata": {},
   "outputs": [],
   "source": [
    "import requests\n",
    "\n",
    "from secrets import *"
   ]
  },
  {
   "cell_type": "code",
   "execution_count": 3,
   "metadata": {},
   "outputs": [],
   "source": [
    "cookies = {\"swid\": AUTH['swid'],\n",
    "           \"espn_s2\": AUTH['espn_s2']}"
   ]
  },
  {
   "cell_type": "code",
   "execution_count": 5,
   "metadata": {},
   "outputs": [],
   "source": [
    "league_id = 84057"
   ]
  },
  {
   "cell_type": "code",
   "execution_count": 6,
   "metadata": {},
   "outputs": [],
   "source": [
    "url = 'https://fantasy.espn.com/apis/v3/games/FBA/seasons/2020/segments/0/leagues/' + str(league_id)\n",
    "params={\"view\": \"mBoxscore\"}\n",
    "r = requests.get(url, params=params, cookies=cookies)\n",
    "data = r.json()"
   ]
  },
  {
   "cell_type": "code",
   "execution_count": 10,
   "metadata": {},
   "outputs": [
    {
     "data": {
      "text/plain": [
       "dict_keys(['draftDetail', 'gameId', 'id', 'schedule', 'scoringPeriodId', 'seasonId', 'segmentId', 'settings', 'status', 'teams'])"
      ]
     },
     "execution_count": 10,
     "metadata": {},
     "output_type": "execute_result"
    }
   ],
   "source": [
    "data.keys()"
   ]
  },
  {
   "cell_type": "code",
   "execution_count": 9,
   "metadata": {},
   "outputs": [
    {
     "data": {
      "text/plain": [
       "120"
      ]
     },
     "execution_count": 9,
     "metadata": {},
     "output_type": "execute_result"
    }
   ],
   "source": [
    "len(data['schedule'])"
   ]
  },
  {
   "cell_type": "code",
   "execution_count": 24,
   "metadata": {},
   "outputs": [
    {
     "data": {
      "text/plain": [
       "{'cumulativeScore': {'losses': 1,\n",
       "  'scoreByStat': {'0': {'ineligible': False,\n",
       "    'rank': 0.0,\n",
       "    'result': 'WIN',\n",
       "    'score': 552.0},\n",
       "   '16': {'ineligible': False, 'rank': 0.0, 'result': None, 'score': 133.0},\n",
       "   '1': {'ineligible': False, 'rank': 0.0, 'result': 'WIN', 'score': 27.0},\n",
       "   '17': {'ineligible': False, 'rank': 0.0, 'result': 'WIN', 'score': 53.0},\n",
       "   '2': {'ineligible': False, 'rank': 0.0, 'result': 'WIN', 'score': 30.0},\n",
       "   '3': {'ineligible': False, 'rank': 0.0, 'result': 'WIN', 'score': 112.0},\n",
       "   '19': {'ineligible': False,\n",
       "    'rank': 0.0,\n",
       "    'result': 'LOSS',\n",
       "    'score': 0.43763676},\n",
       "   '20': {'ineligible': False,\n",
       "    'rank': 0.0,\n",
       "    'result': 'WIN',\n",
       "    'score': 0.7443609},\n",
       "   '6': {'ineligible': False, 'rank': 0.0, 'result': 'WIN', 'score': 216.0},\n",
       "   '13': {'ineligible': False, 'rank': 0.0, 'result': None, 'score': 200.0},\n",
       "   '14': {'ineligible': False, 'rank': 0.0, 'result': None, 'score': 457.0},\n",
       "   '15': {'ineligible': False, 'rank': 0.0, 'result': None, 'score': 99.0}},\n",
       "  'statBySlot': None,\n",
       "  'ties': 0,\n",
       "  'wins': 7},\n",
       " 'teamId': 4,\n",
       " 'tiebreak': 0.0,\n",
       " 'totalPoints': 0.0}"
      ]
     },
     "execution_count": 24,
     "metadata": {},
     "output_type": "execute_result"
    }
   ],
   "source": [
    "data['schedule'][0]['away']"
   ]
  },
  {
   "cell_type": "code",
   "execution_count": 13,
   "metadata": {},
   "outputs": [
    {
     "data": {
      "text/plain": [
       "4"
      ]
     },
     "execution_count": 13,
     "metadata": {},
     "output_type": "execute_result"
    }
   ],
   "source": [
    "teamId = data['schedule'][0]['away']['teamId']"
   ]
  },
  {
   "cell_type": "code",
   "execution_count": 25,
   "metadata": {},
   "outputs": [
    {
     "data": {
      "text/plain": [
       "{'0': {'ineligible': False, 'rank': 0.0, 'result': 'LOSS', 'score': 403.0},\n",
       " '16': {'ineligible': False, 'rank': 0.0, 'result': None, 'score': 98.0},\n",
       " '1': {'ineligible': False, 'rank': 0.0, 'result': 'LOSS', 'score': 15.0},\n",
       " '17': {'ineligible': False, 'rank': 0.0, 'result': 'LOSS', 'score': 36.0},\n",
       " '2': {'ineligible': False, 'rank': 0.0, 'result': 'LOSS', 'score': 27.0},\n",
       " '3': {'ineligible': False, 'rank': 0.0, 'result': 'LOSS', 'score': 74.0},\n",
       " '19': {'ineligible': False,\n",
       "  'rank': 0.0,\n",
       "  'result': 'WIN',\n",
       "  'score': 0.46984127},\n",
       " '20': {'ineligible': False,\n",
       "  'rank': 0.0,\n",
       "  'result': 'LOSS',\n",
       "  'score': 0.7244898},\n",
       " '6': {'ineligible': False, 'rank': 0.0, 'result': 'LOSS', 'score': 150.0},\n",
       " '13': {'ineligible': False, 'rank': 0.0, 'result': None, 'score': 148.0},\n",
       " '14': {'ineligible': False, 'rank': 0.0, 'result': None, 'score': 315.0},\n",
       " '15': {'ineligible': False, 'rank': 0.0, 'result': None, 'score': 71.0}}"
      ]
     },
     "execution_count": 25,
     "metadata": {},
     "output_type": "execute_result"
    }
   ],
   "source": [
    "data['schedule'][0]['home']['cumulativeScore']['scoreByStat']"
   ]
  },
  {
   "cell_type": "code",
   "execution_count": 19,
   "metadata": {},
   "outputs": [],
   "source": [
    "pts = data['schedule'][0]['away']['cumulativeScore']['scoreByStat']['0']\n",
    "fta = data['schedule'][0]['away']['cumulativeScore']['scoreByStat']['16']\n",
    "blks = data['schedule'][0]['away']['cumulativeScore']['scoreByStat']['1']\n",
    "threes = data['schedule'][0]['away']['cumulativeScore']['scoreByStat']['17']"
   ]
  },
  {
   "cell_type": "code",
   "execution_count": null,
   "metadata": {},
   "outputs": [],
   "source": []
  }
 ],
 "metadata": {
  "kernelspec": {
   "display_name": "Python 3",
   "language": "python",
   "name": "python3"
  },
  "language_info": {
   "codemirror_mode": {
    "name": "ipython",
    "version": 3
   },
   "file_extension": ".py",
   "mimetype": "text/x-python",
   "name": "python",
   "nbconvert_exporter": "python",
   "pygments_lexer": "ipython3",
   "version": "3.7.1"
  }
 },
 "nbformat": 4,
 "nbformat_minor": 2
}
