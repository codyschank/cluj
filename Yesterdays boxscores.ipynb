{
 "cells": [
  {
   "cell_type": "code",
   "execution_count": 1,
   "metadata": {},
   "outputs": [],
   "source": [
    "import datetime\n",
    "import time\n",
    "import pytz\n",
    "import pandas as pd\n",
    "\n",
    "from itertools import chain\n",
    "from datetime import timedelta, date, datetime, timezone\n",
    "from basketball_reference_web_scraper import client\n",
    "\n",
    "from sqlalchemy import create_engine\n",
    "from sqlalchemy_utils import database_exists, create_database\n",
    "\n",
    "from secrets import *"
   ]
  },
  {
   "cell_type": "code",
   "execution_count": 2,
   "metadata": {},
   "outputs": [
    {
     "name": "stdout",
     "output_type": "stream",
     "text": [
      "True\n"
     ]
    }
   ],
   "source": [
    "dbname = 'cluj'\n",
    "engine = create_engine('postgres://%s:%s@localhost/%s'%('docker','docker',dbname))\n",
    "\n",
    "if not database_exists(engine.url):\n",
    "    create_database(engine.url)\n",
    "print(database_exists(engine.url))"
   ]
  },
  {
   "cell_type": "markdown",
   "metadata": {},
   "source": [
    "### Pull yesterdays boxscores"
   ]
  },
  {
   "cell_type": "code",
   "execution_count": null,
   "metadata": {},
   "outputs": [],
   "source": [
    "date = datetime.now() - timedelta(days=1)\n",
    "print(date)\n",
    "boxscores = client.player_box_scores(day=date.day, month=date.month, year=date.year)"
   ]
  },
  {
   "cell_type": "code",
   "execution_count": null,
   "metadata": {},
   "outputs": [],
   "source": [
    "boxscores_df = pd.DataFrame(boxscores)\n",
    "boxscores_df['rebounds'] = boxscores_df.offensive_rebounds + boxscores_df.defensive_rebounds\n",
    "boxscores_df.rename(columns={'attempted_field_goals':'fga', 'attempted_free_throws':'fta',\n",
    "                            'made_three_point_field_goals':'threes', 'made_field_goals':'fgm',\n",
    "                            'made_free_throws':'ftm'}, inplace=True)\n",
    "boxscores_df['twos'] = boxscores_df.fgm - boxscores_df.threes\n",
    "boxscores_df['points'] = (boxscores_df.threes * 3) + (boxscores_df.twos * 2) + (boxscores_df.ftm * 1)\n",
    "boxscores_df.drop(columns=['attempted_three_point_field_goals','defensive_rebounds','offensive_rebounds',\n",
    "                          'game_score','slug','turnovers','outcome','twos','personal_fouls','location'], inplace=True)\n",
    "boxscores_df['opponent'] = boxscores_df.opponent.apply(lambda x: x.name)\n",
    "boxscores_df['team'] = boxscores_df.team.apply(lambda x: x.name)\n",
    "boxscores_df.columns.values"
   ]
  },
  {
   "cell_type": "code",
   "execution_count": null,
   "metadata": {},
   "outputs": [],
   "source": [
    "boxscores_df.to_sql('boxscores', con=engine, if_exists='append', index=False)"
   ]
  }
 ],
 "metadata": {
  "kernelspec": {
   "display_name": "Python 3",
   "language": "python",
   "name": "python3"
  },
  "language_info": {
   "codemirror_mode": {
    "name": "ipython",
    "version": 3
   },
   "file_extension": ".py",
   "mimetype": "text/x-python",
   "name": "python",
   "nbconvert_exporter": "python",
   "pygments_lexer": "ipython3",
   "version": "3.7.1"
  }
 },
 "nbformat": 4,
 "nbformat_minor": 2
}
