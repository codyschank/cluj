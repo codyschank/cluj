{
 "cells": [
  {
   "cell_type": "code",
   "execution_count": 1,
   "metadata": {},
   "outputs": [],
   "source": [
    "import datetime\n",
    "import time\n",
    "import pytz\n",
    "import pandas as pd\n",
    "\n",
    "from itertools import chain\n",
    "from datetime import timedelta, date, datetime, timezone\n",
    "from basketball_reference_web_scraper import client\n",
    "\n",
    "from sqlalchemy import create_engine\n",
    "from sqlalchemy_utils import database_exists, create_database\n",
    "\n",
    "from secrets import *"
   ]
  },
  {
   "cell_type": "code",
   "execution_count": 2,
   "metadata": {},
   "outputs": [
    {
     "name": "stdout",
     "output_type": "stream",
     "text": [
      "True\n"
     ]
    }
   ],
   "source": [
    "dbname = 'cluj'\n",
    "engine = create_engine('postgres://%s:%s@localhost/%s'%('docker','docker',dbname))\n",
    "\n",
    "if not database_exists(engine.url):\n",
    "    create_database(engine.url)\n",
    "print(database_exists(engine.url))"
   ]
  },
  {
   "cell_type": "code",
   "execution_count": 3,
   "metadata": {},
   "outputs": [],
   "source": [
    "#https://stackoverflow.com/questions/1060279/iterating-through-a-range-of-dates-in-python\n",
    "\n",
    "def daterange(start_date, end_date):\n",
    "    for n in range(int ((end_date - start_date).days)):\n",
    "        yield start_date + timedelta(n)"
   ]
  },
  {
   "cell_type": "markdown",
   "metadata": {},
   "source": [
    "### Get Schedules"
   ]
  },
  {
   "cell_type": "code",
   "execution_count": 4,
   "metadata": {},
   "outputs": [],
   "source": [
    "schedule = client.season_schedule(season_end_year=2020)"
   ]
  },
  {
   "cell_type": "code",
   "execution_count": null,
   "metadata": {},
   "outputs": [],
   "source": [
    "#start = schedule[0]['start_time']\n",
    "#end = datetime.now(pytz.timezone('US/Central')) - timedelta(days=1)\n",
    "#start, end"
   ]
  },
  {
   "cell_type": "code",
   "execution_count": 11,
   "metadata": {},
   "outputs": [
    {
     "data": {
      "text/html": [
       "<div>\n",
       "<style scoped>\n",
       "    .dataframe tbody tr th:only-of-type {\n",
       "        vertical-align: middle;\n",
       "    }\n",
       "\n",
       "    .dataframe tbody tr th {\n",
       "        vertical-align: top;\n",
       "    }\n",
       "\n",
       "    .dataframe thead th {\n",
       "        text-align: right;\n",
       "    }\n",
       "</style>\n",
       "<table border=\"1\" class=\"dataframe\">\n",
       "  <thead>\n",
       "    <tr style=\"text-align: right;\">\n",
       "      <th></th>\n",
       "      <th>away_team</th>\n",
       "      <th>away_team_score</th>\n",
       "      <th>home_team</th>\n",
       "      <th>home_team_score</th>\n",
       "      <th>start_time</th>\n",
       "      <th>start_date</th>\n",
       "      <th>season_end_year</th>\n",
       "    </tr>\n",
       "  </thead>\n",
       "  <tbody>\n",
       "    <tr>\n",
       "      <th>0</th>\n",
       "      <td>NEW_ORLEANS_PELICANS</td>\n",
       "      <td>122.0</td>\n",
       "      <td>TORONTO_RAPTORS</td>\n",
       "      <td>130.0</td>\n",
       "      <td>2019-10-22 19:00:00</td>\n",
       "      <td>2019-10-22</td>\n",
       "      <td>2020</td>\n",
       "    </tr>\n",
       "    <tr>\n",
       "      <th>1</th>\n",
       "      <td>LOS_ANGELES_LAKERS</td>\n",
       "      <td>102.0</td>\n",
       "      <td>LOS_ANGELES_CLIPPERS</td>\n",
       "      <td>112.0</td>\n",
       "      <td>2019-10-22 21:30:00</td>\n",
       "      <td>2019-10-22</td>\n",
       "      <td>2020</td>\n",
       "    </tr>\n",
       "    <tr>\n",
       "      <th>2</th>\n",
       "      <td>CHICAGO_BULLS</td>\n",
       "      <td>125.0</td>\n",
       "      <td>CHARLOTTE_HORNETS</td>\n",
       "      <td>126.0</td>\n",
       "      <td>2019-10-23 18:00:00</td>\n",
       "      <td>2019-10-23</td>\n",
       "      <td>2020</td>\n",
       "    </tr>\n",
       "    <tr>\n",
       "      <th>3</th>\n",
       "      <td>DETROIT_PISTONS</td>\n",
       "      <td>119.0</td>\n",
       "      <td>INDIANA_PACERS</td>\n",
       "      <td>110.0</td>\n",
       "      <td>2019-10-23 18:00:00</td>\n",
       "      <td>2019-10-23</td>\n",
       "      <td>2020</td>\n",
       "    </tr>\n",
       "    <tr>\n",
       "      <th>4</th>\n",
       "      <td>CLEVELAND_CAVALIERS</td>\n",
       "      <td>85.0</td>\n",
       "      <td>ORLANDO_MAGIC</td>\n",
       "      <td>94.0</td>\n",
       "      <td>2019-10-23 18:00:00</td>\n",
       "      <td>2019-10-23</td>\n",
       "      <td>2020</td>\n",
       "    </tr>\n",
       "  </tbody>\n",
       "</table>\n",
       "</div>"
      ],
      "text/plain": [
       "              away_team  away_team_score             home_team  \\\n",
       "0  NEW_ORLEANS_PELICANS            122.0       TORONTO_RAPTORS   \n",
       "1    LOS_ANGELES_LAKERS            102.0  LOS_ANGELES_CLIPPERS   \n",
       "2         CHICAGO_BULLS            125.0     CHARLOTTE_HORNETS   \n",
       "3       DETROIT_PISTONS            119.0        INDIANA_PACERS   \n",
       "4   CLEVELAND_CAVALIERS             85.0         ORLANDO_MAGIC   \n",
       "\n",
       "   home_team_score          start_time  start_date  season_end_year  \n",
       "0            130.0 2019-10-22 19:00:00  2019-10-22             2020  \n",
       "1            112.0 2019-10-22 21:30:00  2019-10-22             2020  \n",
       "2            126.0 2019-10-23 18:00:00  2019-10-23             2020  \n",
       "3            110.0 2019-10-23 18:00:00  2019-10-23             2020  \n",
       "4             94.0 2019-10-23 18:00:00  2019-10-23             2020  "
      ]
     },
     "execution_count": 11,
     "metadata": {},
     "output_type": "execute_result"
    }
   ],
   "source": [
    "schedule_df = pd.DataFrame(schedule)\n",
    "schedule_df['away_team'] = schedule_df.away_team.apply(lambda x: x.name)\n",
    "schedule_df['home_team'] = schedule_df.home_team.apply(lambda x: x.name)\n",
    "schedule_df['start_time'] = schedule_df.start_time.dt.tz_convert('US/Central')\n",
    "schedule_df['start_time'] = schedule_df.start_time.apply(lambda x: x.tz_localize(None))\n",
    "schedule_df['start_date'] = schedule_df.start_time.apply(lambda x: x.date())\n",
    "schedule_df['season_end_year'] = 2020\n",
    "schedule_df.head()"
   ]
  },
  {
   "cell_type": "code",
   "execution_count": 12,
   "metadata": {},
   "outputs": [],
   "source": [
    "schedule_df.to_sql('nba_schedule', con=engine, if_exists='replace', index=False)"
   ]
  },
  {
   "cell_type": "code",
   "execution_count": 13,
   "metadata": {},
   "outputs": [
    {
     "name": "stdout",
     "output_type": "stream",
     "text": [
      "2001\n",
      "2002\n",
      "2003\n",
      "2004\n",
      "2005\n",
      "2006\n",
      "2007\n",
      "2008\n",
      "2009\n",
      "2010\n",
      "2011\n",
      "2012\n",
      "2013\n",
      "2014\n",
      "2015\n",
      "2016\n",
      "2017\n",
      "2018\n",
      "2019\n"
     ]
    }
   ],
   "source": [
    "for year in range(2001, 2020):\n",
    "    print(year)\n",
    "    schedule = client.season_schedule(season_end_year=year)\n",
    "    schedule_df = pd.DataFrame(schedule)\n",
    "    schedule_df['away_team'] = schedule_df.away_team.apply(lambda x: x.name)\n",
    "    schedule_df['home_team'] = schedule_df.home_team.apply(lambda x: x.name)\n",
    "    schedule_df['start_time'] = schedule_df.start_time.dt.tz_convert('US/Central')\n",
    "    schedule_df['start_time'] = schedule_df.start_time.apply(lambda x: x.tz_localize(None))\n",
    "    schedule_df['start_date'] = schedule_df.start_time.apply(lambda x: x.date())\n",
    "    schedule_df['season_end_year'] = year\n",
    "    schedule_df.to_sql('nba_schedule', con=engine, if_exists='append', index=False)"
   ]
  },
  {
   "cell_type": "markdown",
   "metadata": {},
   "source": [
    "### Get a bunch of boxscores"
   ]
  },
  {
   "cell_type": "code",
   "execution_count": null,
   "metadata": {},
   "outputs": [],
   "source": [
    "# I downloaded season_end_year 2019 and 2020. Does not include playoffs."
   ]
  },
  {
   "cell_type": "code",
   "execution_count": null,
   "metadata": {},
   "outputs": [],
   "source": [
    "boxscores_list = []\n",
    "for day in daterange(start, end):\n",
    "    print(day)\n",
    "    boxscores = client.player_box_scores(day=day.day, month=day.month, year=day.year)\n",
    "    for item in boxscores:\n",
    "        item.update( {\"date\":datetime.strftime(day.date(), format = '%Y-%m-%d')})\n",
    "    boxscores_list.append(boxscores)\n",
    "    time.sleep(2)"
   ]
  },
  {
   "cell_type": "code",
   "execution_count": null,
   "metadata": {},
   "outputs": [],
   "source": [
    "boxscores_df = pd.DataFrame(list(chain.from_iterable(boxscores_list)))\n",
    "boxscores_df['rebounds'] = boxscores_df.offensive_rebounds + boxscores_df.defensive_rebounds\n",
    "boxscores_df.rename(columns={'attempted_field_goals':'fga', 'attempted_free_throws':'fta',\n",
    "                            'made_three_point_field_goals':'threes', 'made_field_goals':'fgm',\n",
    "                            'made_free_throws':'ftm'}, inplace=True)\n",
    "boxscores_df['twos'] = boxscores_df.fgm - boxscores_df.threes\n",
    "boxscores_df['points'] = (boxscores_df.threes * 3) + (boxscores_df.twos * 2) + (boxscores_df.ftm * 1)\n",
    "boxscores_df.drop(columns=['attempted_three_point_field_goals','defensive_rebounds','offensive_rebounds',\n",
    "                          'game_score','slug','turnovers','outcome','twos','personal_fouls','location'], inplace=True)\n",
    "boxscores_df['opponent'] = boxscores_df.opponent.apply(lambda x: x.name)\n",
    "boxscores_df['team'] = boxscores_df.team.apply(lambda x: x.name)\n",
    "boxscores_df.columns.values"
   ]
  },
  {
   "cell_type": "code",
   "execution_count": null,
   "metadata": {},
   "outputs": [],
   "source": [
    "boxscores_df.to_sql('boxscores', con=engine, if_exists='append', index=False)"
   ]
  },
  {
   "cell_type": "code",
   "execution_count": null,
   "metadata": {},
   "outputs": [],
   "source": []
  }
 ],
 "metadata": {
  "kernelspec": {
   "display_name": "Python 3",
   "language": "python",
   "name": "python3"
  },
  "language_info": {
   "codemirror_mode": {
    "name": "ipython",
    "version": 3
   },
   "file_extension": ".py",
   "mimetype": "text/x-python",
   "name": "python",
   "nbconvert_exporter": "python",
   "pygments_lexer": "ipython3",
   "version": "3.7.1"
  }
 },
 "nbformat": 4,
 "nbformat_minor": 2
}
