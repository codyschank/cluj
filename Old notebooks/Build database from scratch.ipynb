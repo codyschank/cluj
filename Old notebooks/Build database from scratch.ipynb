{
 "cells": [
  {
   "cell_type": "code",
   "execution_count": null,
   "metadata": {},
   "outputs": [],
   "source": [
    "import datetime\n",
    "import time\n",
    "import pytz\n",
    "import pandas as pd\n",
    "\n",
    "from itertools import chain\n",
    "from datetime import timedelta, date, datetime, timezone\n",
    "from basketball_reference_web_scraper import client\n",
    "\n",
    "from sqlalchemy import create_engine\n",
    "from sqlalchemy_utils import database_exists, create_database\n",
    "\n",
    "from secrets import *"
   ]
  },
  {
   "cell_type": "code",
   "execution_count": null,
   "metadata": {},
   "outputs": [],
   "source": [
    "dbname = 'cluj'\n",
    "engine = create_engine('postgres://%s:%s@localhost/%s'%('docker','docker',dbname))\n",
    "\n",
    "if not database_exists(engine.url):\n",
    "    create_database(engine.url)\n",
    "print(database_exists(engine.url))"
   ]
  },
  {
   "cell_type": "code",
   "execution_count": null,
   "metadata": {},
   "outputs": [],
   "source": [
    "#https://stackoverflow.com/questions/1060279/iterating-through-a-range-of-dates-in-python\n",
    "\n",
    "def daterange(start_date, end_date):\n",
    "    for n in range(int ((end_date - start_date).days)):\n",
    "        yield start_date + timedelta(n)"
   ]
  },
  {
   "cell_type": "markdown",
   "metadata": {},
   "source": [
    "### Get Schedules"
   ]
  },
  {
   "cell_type": "code",
   "execution_count": null,
   "metadata": {},
   "outputs": [],
   "source": [
    "schedule = client.season_schedule(season_end_year=2020)"
   ]
  },
  {
   "cell_type": "code",
   "execution_count": null,
   "metadata": {},
   "outputs": [],
   "source": [
    "start = schedule[0]['start_time']\n",
    "end = datetime.now(pytz.timezone('US/Central')) - timedelta(days=1)\n",
    "start, end"
   ]
  },
  {
   "cell_type": "code",
   "execution_count": null,
   "metadata": {},
   "outputs": [],
   "source": [
    "schedule_df = pd.DataFrame(schedule)\n",
    "schedule_df['away_team'] = schedule_df.away_team.apply(lambda x: x.name)\n",
    "schedule_df['home_team'] = schedule_df.home_team.apply(lambda x: x.name)\n",
    "schedule_df['start_time'] = schedule_df.start_time.apply(lambda x: x.tz_localize(None))\n",
    "schedule_df['start_date'] = schedule_df.start_time.apply(lambda x: x.date())\n",
    "schedule_df['season_end_year'] = 2020\n",
    "schedule_df.head()"
   ]
  },
  {
   "cell_type": "code",
   "execution_count": null,
   "metadata": {},
   "outputs": [],
   "source": [
    "schedule_df.to_sql('nba_schedule', con=engine, if_exists='replace', index=False)"
   ]
  },
  {
   "cell_type": "code",
   "execution_count": null,
   "metadata": {},
   "outputs": [],
   "source": [
    "for year in range(2001, 2020):\n",
    "    print(year)\n",
    "    schedule = client.season_schedule(season_end_year=year)\n",
    "    schedule_df = pd.DataFrame(schedule)\n",
    "    schedule_df['away_team'] = schedule_df.away_team.apply(lambda x: x.name)\n",
    "    schedule_df['home_team'] = schedule_df.home_team.apply(lambda x: x.name)\n",
    "    schedule_df['start_time'] = schedule_df.start_time.apply(lambda x: x.tz_localize(None))\n",
    "    schedule_df['start_date'] = schedule_df.start_time.apply(lambda x: x.date())\n",
    "    schedule_df['season_end_year'] = year\n",
    "    schedule_df.to_sql('nba_schedule', con=engine, if_exists='append', index=False)"
   ]
  },
  {
   "cell_type": "markdown",
   "metadata": {},
   "source": [
    "### Get a bunch of boxscores"
   ]
  },
  {
   "cell_type": "code",
   "execution_count": null,
   "metadata": {},
   "outputs": [],
   "source": [
    "# I downloaded season_end_year 2019 and 2020. Does not include playoffs."
   ]
  },
  {
   "cell_type": "code",
   "execution_count": null,
   "metadata": {},
   "outputs": [],
   "source": [
    "boxscores_list = []\n",
    "for day in daterange(start, end):\n",
    "    print(day)\n",
    "    boxscores = client.player_box_scores(day=day.day, month=day.month, year=day.year)\n",
    "    for item in boxscores:\n",
    "        item.update( {\"date\":datetime.strftime(day.date(), format = '%Y-%m-%d')})\n",
    "    boxscores_list.append(boxscores)\n",
    "    time.sleep(2)"
   ]
  },
  {
   "cell_type": "code",
   "execution_count": null,
   "metadata": {},
   "outputs": [],
   "source": [
    "boxscores_df = pd.DataFrame(list(chain.from_iterable(boxscores_list)))\n",
    "boxscores_df['rebounds'] = boxscores_df.offensive_rebounds + boxscores_df.defensive_rebounds\n",
    "boxscores_df.rename(columns={'attempted_field_goals':'fga', 'attempted_free_throws':'fta',\n",
    "                            'made_three_point_field_goals':'threes', 'made_field_goals':'fgm',\n",
    "                            'made_free_throws':'ftm'}, inplace=True)\n",
    "boxscores_df['twos'] = boxscores_df.fgm - boxscores_df.threes\n",
    "boxscores_df['points'] = (boxscores_df.threes * 3) + (boxscores_df.twos * 2) + (boxscores_df.ftm * 1)\n",
    "boxscores_df.drop(columns=['attempted_three_point_field_goals','defensive_rebounds','offensive_rebounds',\n",
    "                          'game_score','slug','turnovers','outcome','twos','personal_fouls','location'], inplace=True)\n",
    "boxscores_df['opponent'] = boxscores_df.opponent.apply(lambda x: x.name)\n",
    "boxscores_df['team'] = boxscores_df.team.apply(lambda x: x.name)\n",
    "boxscores_df.columns.values"
   ]
  },
  {
   "cell_type": "code",
   "execution_count": null,
   "metadata": {},
   "outputs": [],
   "source": [
    "boxscores_df.to_sql('boxscores', con=engine, if_exists='append', index=False)"
   ]
  },
  {
   "cell_type": "code",
   "execution_count": null,
   "metadata": {},
   "outputs": [],
   "source": []
  }
 ],
 "metadata": {
  "kernelspec": {
   "display_name": "Python 3",
   "language": "python",
   "name": "python3"
  },
  "language_info": {
   "codemirror_mode": {
    "name": "ipython",
    "version": 3
   },
   "file_extension": ".py",
   "mimetype": "text/x-python",
   "name": "python",
   "nbconvert_exporter": "python",
   "pygments_lexer": "ipython3",
   "version": "3.7.1"
  }
 },
 "nbformat": 4,
 "nbformat_minor": 2
}
