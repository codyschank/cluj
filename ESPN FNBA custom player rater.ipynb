{
 "cells": [
  {
   "cell_type": "code",
   "execution_count": 1,
   "metadata": {},
   "outputs": [],
   "source": [
    "import requests\n",
    "import numpy as np\n",
    "import pandas as pd\n",
    "import seaborn as sns\n",
    "import matplotlib.pyplot as plt\n",
    "\n",
    "from secrets import *"
   ]
  },
  {
   "cell_type": "code",
   "execution_count": 2,
   "metadata": {},
   "outputs": [],
   "source": [
    "league_id = 84057"
   ]
  },
  {
   "cell_type": "code",
   "execution_count": null,
   "metadata": {},
   "outputs": [],
   "source": [
    "swid = \n"
   ]
  },
  {
   "cell_type": "code",
   "execution_count": 3,
   "metadata": {},
   "outputs": [
    {
     "data": {
      "text/plain": [
       "dict_keys(['players'])"
      ]
     },
     "execution_count": 3,
     "metadata": {},
     "output_type": "execute_result"
    }
   ],
   "source": [
    "url = 'https://fantasy.espn.com/apis/v3/games/FBA/seasons/2020/segments/0/leagues/' + str(league_id)\n",
    "params={\"view\": \"kona_player_info\"}\n",
    "cookies = {\"swid\": AUTH['swid'],\n",
    "           \"espn_s2\": AUTH['espn_s2']}\n",
    "r = requests.get(url, params=params, cookies=cookies)\n",
    "data = r.json()\n",
    "data.keys()"
   ]
  },
  {
   "cell_type": "code",
   "execution_count": 4,
   "metadata": {},
   "outputs": [],
   "source": [
    "stat_list = []\n",
    "for player in data['players']:\n",
    "    #print(player['player']['fullName'])\n",
    "    for stat_item in player['player']['stats']:\n",
    "        #looks like season totals AND averages id = '002020'\n",
    "        if stat_item['id'] == '002020':\n",
    "            if '40' in stat_item['stats'].keys(): # '40' is minutes\n",
    "                stat_item['stats']['playerName'] = player['player']['fullName']\n",
    "                stat_list.append(stat_item['stats'])"
   ]
  },
  {
   "cell_type": "code",
   "execution_count": 5,
   "metadata": {},
   "outputs": [
    {
     "data": {
      "text/plain": [
       "(457, 45)"
      ]
     },
     "execution_count": 5,
     "metadata": {},
     "output_type": "execute_result"
    }
   ],
   "source": [
    "stats_df = pd.DataFrame(stat_list)\n",
    "stats_df.shape"
   ]
  },
  {
   "cell_type": "code",
   "execution_count": 6,
   "metadata": {},
   "outputs": [],
   "source": [
    "col_rename_dict = {'0':'pts', '1':'blocks', '2':'steals', '3':'ast', '6':'reb', '13':'fgm', '14': 'fga', \n",
    "                   '15': 'ftm', '16':'fta', '17':'threes', '40':'min', '42':'gp'}\n",
    "stats_df.rename(columns=col_rename_dict, inplace=True)\n",
    "stats_df['fg_pct'] = stats_df['fgm'] / stats_df['fga']\n",
    "stats_df['ft_pct'] = stats_df['ftm'] / stats_df['fta']\n",
    "stats_df = stats_df[['playerName','pts','blocks','steals','ast','reb','fgm','fga','fg_pct','ftm','fta','ft_pct','threes','min','gp']]"
   ]
  },
  {
   "cell_type": "code",
   "execution_count": 7,
   "metadata": {},
   "outputs": [
    {
     "data": {
      "text/html": [
       "<div>\n",
       "<style scoped>\n",
       "    .dataframe tbody tr th:only-of-type {\n",
       "        vertical-align: middle;\n",
       "    }\n",
       "\n",
       "    .dataframe tbody tr th {\n",
       "        vertical-align: top;\n",
       "    }\n",
       "\n",
       "    .dataframe thead th {\n",
       "        text-align: right;\n",
       "    }\n",
       "</style>\n",
       "<table border=\"1\" class=\"dataframe\">\n",
       "  <thead>\n",
       "    <tr style=\"text-align: right;\">\n",
       "      <th></th>\n",
       "      <th>playerName</th>\n",
       "      <th>pts</th>\n",
       "      <th>blocks</th>\n",
       "      <th>steals</th>\n",
       "      <th>ast</th>\n",
       "      <th>reb</th>\n",
       "      <th>fgm</th>\n",
       "      <th>fga</th>\n",
       "      <th>fg_pct</th>\n",
       "      <th>ftm</th>\n",
       "      <th>fta</th>\n",
       "      <th>ft_pct</th>\n",
       "      <th>threes</th>\n",
       "      <th>min</th>\n",
       "      <th>gp</th>\n",
       "    </tr>\n",
       "  </thead>\n",
       "  <tbody>\n",
       "    <tr>\n",
       "      <th>0</th>\n",
       "      <td>Vince Carter</td>\n",
       "      <td>150.0</td>\n",
       "      <td>10.0</td>\n",
       "      <td>8.0</td>\n",
       "      <td>30.0</td>\n",
       "      <td>58.0</td>\n",
       "      <td>54.0</td>\n",
       "      <td>160.0</td>\n",
       "      <td>0.337500</td>\n",
       "      <td>12.0</td>\n",
       "      <td>17.0</td>\n",
       "      <td>0.705882</td>\n",
       "      <td>30.0</td>\n",
       "      <td>457.0</td>\n",
       "      <td>29.0</td>\n",
       "    </tr>\n",
       "    <tr>\n",
       "      <th>1</th>\n",
       "      <td>Tyson Chandler</td>\n",
       "      <td>34.0</td>\n",
       "      <td>8.0</td>\n",
       "      <td>6.0</td>\n",
       "      <td>6.0</td>\n",
       "      <td>61.0</td>\n",
       "      <td>14.0</td>\n",
       "      <td>18.0</td>\n",
       "      <td>0.777778</td>\n",
       "      <td>6.0</td>\n",
       "      <td>13.0</td>\n",
       "      <td>0.461538</td>\n",
       "      <td>0.0</td>\n",
       "      <td>194.0</td>\n",
       "      <td>22.0</td>\n",
       "    </tr>\n",
       "    <tr>\n",
       "      <th>2</th>\n",
       "      <td>LeBron James</td>\n",
       "      <td>873.0</td>\n",
       "      <td>19.0</td>\n",
       "      <td>45.0</td>\n",
       "      <td>385.0</td>\n",
       "      <td>275.0</td>\n",
       "      <td>336.0</td>\n",
       "      <td>691.0</td>\n",
       "      <td>0.486252</td>\n",
       "      <td>130.0</td>\n",
       "      <td>192.0</td>\n",
       "      <td>0.677083</td>\n",
       "      <td>71.0</td>\n",
       "      <td>1229.0</td>\n",
       "      <td>35.0</td>\n",
       "    </tr>\n",
       "    <tr>\n",
       "      <th>3</th>\n",
       "      <td>Carmelo Anthony</td>\n",
       "      <td>351.0</td>\n",
       "      <td>15.0</td>\n",
       "      <td>23.0</td>\n",
       "      <td>28.0</td>\n",
       "      <td>132.0</td>\n",
       "      <td>133.0</td>\n",
       "      <td>312.0</td>\n",
       "      <td>0.426282</td>\n",
       "      <td>53.0</td>\n",
       "      <td>66.0</td>\n",
       "      <td>0.803030</td>\n",
       "      <td>32.0</td>\n",
       "      <td>698.0</td>\n",
       "      <td>22.0</td>\n",
       "    </tr>\n",
       "    <tr>\n",
       "      <th>4</th>\n",
       "      <td>Kyle Korver</td>\n",
       "      <td>207.0</td>\n",
       "      <td>7.0</td>\n",
       "      <td>15.0</td>\n",
       "      <td>40.0</td>\n",
       "      <td>60.0</td>\n",
       "      <td>67.0</td>\n",
       "      <td>159.0</td>\n",
       "      <td>0.421384</td>\n",
       "      <td>18.0</td>\n",
       "      <td>21.0</td>\n",
       "      <td>0.857143</td>\n",
       "      <td>55.0</td>\n",
       "      <td>537.0</td>\n",
       "      <td>32.0</td>\n",
       "    </tr>\n",
       "  </tbody>\n",
       "</table>\n",
       "</div>"
      ],
      "text/plain": [
       "        playerName    pts  blocks  steals    ast    reb    fgm    fga  \\\n",
       "0     Vince Carter  150.0    10.0     8.0   30.0   58.0   54.0  160.0   \n",
       "1   Tyson Chandler   34.0     8.0     6.0    6.0   61.0   14.0   18.0   \n",
       "2     LeBron James  873.0    19.0    45.0  385.0  275.0  336.0  691.0   \n",
       "3  Carmelo Anthony  351.0    15.0    23.0   28.0  132.0  133.0  312.0   \n",
       "4      Kyle Korver  207.0     7.0    15.0   40.0   60.0   67.0  159.0   \n",
       "\n",
       "     fg_pct    ftm    fta    ft_pct  threes     min    gp  \n",
       "0  0.337500   12.0   17.0  0.705882    30.0   457.0  29.0  \n",
       "1  0.777778    6.0   13.0  0.461538     0.0   194.0  22.0  \n",
       "2  0.486252  130.0  192.0  0.677083    71.0  1229.0  35.0  \n",
       "3  0.426282   53.0   66.0  0.803030    32.0   698.0  22.0  \n",
       "4  0.421384   18.0   21.0  0.857143    55.0   537.0  32.0  "
      ]
     },
     "execution_count": 7,
     "metadata": {},
     "output_type": "execute_result"
    }
   ],
   "source": [
    "stats_df.head()"
   ]
  },
  {
   "cell_type": "code",
   "execution_count": 8,
   "metadata": {},
   "outputs": [
    {
     "data": {
      "text/plain": [
       "<matplotlib.axes._subplots.AxesSubplot at 0x1a357d34e0>"
      ]
     },
     "execution_count": 8,
     "metadata": {},
     "output_type": "execute_result"
    },
    {
     "data": {
      "image/png": "[encoded data removed]",
      "text/plain": [
       "<Figure size 432x288 with 1 Axes>"
      ]
     },
     "metadata": {
      "needs_background": "light"
     },
     "output_type": "display_data"
    }
   ],
   "source": [
    "stats_df['ast'].hist()"
   ]
  },
  {
   "cell_type": "code",
   "execution_count": 9,
   "metadata": {},
   "outputs": [],
   "source": [
    "stats_df.loc[:,'ast_rank'] = stats_df.apply(lambda x: ( (x['ast'] - stats_df['ast'].mean()) / stats_df['ast'].std()) , axis = 1)\n",
    "stats_df.loc[:,'blocks_rank'] = stats_df.apply(lambda x: ( (x['blocks'] - stats_df['blocks'].mean()) / stats_df['blocks'].std()) , axis = 1)\n",
    "stats_df.loc[:,'steals_rank'] = stats_df.apply(lambda x: ( (x['steals'] - stats_df['steals'].mean()) / stats_df['steals'].std()) , axis = 1)\n",
    "stats_df.loc[:,'reb_rank'] = stats_df.apply(lambda x: ( (x['reb'] - stats_df['reb'].mean()) / stats_df['reb'].std()) , axis = 1)\n",
    "stats_df.loc[:,'pts_rank'] = stats_df.apply(lambda x: ( (x['pts'] - stats_df['pts'].mean()) / stats_df['pts'].std()) , axis = 1)\n",
    "stats_df.loc[:,'threes_rank'] = stats_df.apply(lambda x: ( (x['threes'] - stats_df['threes'].mean()) / stats_df['threes'].std()) , axis = 1)\n",
    "stats_df.loc[:,'fta_rank'] = stats_df.apply(lambda x: ( (x['fta'] - stats_df['fta'].mean()) / stats_df['fta'].std()) , axis = 1)\n",
    "stats_df.loc[:,'fga_rank'] = stats_df.apply(lambda x: ( (x['fga'] - stats_df['fga'].mean()) / stats_df['fga'].std()) , axis = 1)\n",
    "stats_df.loc[:,'ft_pct_rank'] = stats_df.apply(lambda x: ( (x['ft_pct'] - stats_df['ft_pct'].mean()) / stats_df['ft_pct'].std()) , axis = 1)\n",
    "stats_df.loc[:,'fg_pct_rank'] = stats_df.apply(lambda x: ( (x['fg_pct'] - stats_df['fg_pct'].mean()) / stats_df['fg_pct'].std()) , axis = 1)\n",
    "stats_df['fg_rank_adj'] = stats_df['fg_pct_rank'] * stats_df['fga_rank']\n",
    "stats_df['ft_rank_adj'] = stats_df['ft_pct_rank'] * stats_df['fta_rank']\n",
    "\n",
    "cat_ranks = ['ast_rank','blocks_rank','steals_rank','reb_rank','pts_rank','threes_rank','fg_rank_adj','ft_rank_adj']\n",
    "stats_df['total_rank'] = stats_df[cat_ranks].sum(axis=1)\n",
    "stats_df.sort_values('total_rank', inplace=True, ascending= False)\n",
    "\n",
    "final_stats_df = stats_df[['playerName','total_rank'] + cat_ranks]"
   ]
  },
  {
   "cell_type": "code",
   "execution_count": 10,
   "metadata": {},
   "outputs": [],
   "source": [
    "# how to properly account for fga and fta in their ranks? Did what I did make sense?\n",
    "# do I need to remove anyone when I calculate the ranks?"
   ]
  },
  {
   "cell_type": "code",
   "execution_count": 11,
   "metadata": {},
   "outputs": [
    {
     "data": {
      "text/html": [
       "<div>\n",
       "<style scoped>\n",
       "    .dataframe tbody tr th:only-of-type {\n",
       "        vertical-align: middle;\n",
       "    }\n",
       "\n",
       "    .dataframe tbody tr th {\n",
       "        vertical-align: top;\n",
       "    }\n",
       "\n",
       "    .dataframe thead th {\n",
       "        text-align: right;\n",
       "    }\n",
       "</style>\n",
       "<table border=\"1\" class=\"dataframe\">\n",
       "  <thead>\n",
       "    <tr style=\"text-align: right;\">\n",
       "      <th></th>\n",
       "      <th>playerName</th>\n",
       "      <th>total_rank</th>\n",
       "      <th>ast_rank</th>\n",
       "      <th>blocks_rank</th>\n",
       "      <th>steals_rank</th>\n",
       "      <th>reb_rank</th>\n",
       "      <th>pts_rank</th>\n",
       "      <th>threes_rank</th>\n",
       "      <th>fg_rank_adj</th>\n",
       "      <th>ft_rank_adj</th>\n",
       "    </tr>\n",
       "  </thead>\n",
       "  <tbody>\n",
       "    <tr>\n",
       "      <th>249</th>\n",
       "      <td>Julius Randle</td>\n",
       "      <td>5.462817</td>\n",
       "      <td>1.030858</td>\n",
       "      <td>-0.346322</td>\n",
       "      <td>0.609221</td>\n",
       "      <td>2.429572</td>\n",
       "      <td>1.814059</td>\n",
       "      <td>0.514221</td>\n",
       "      <td>0.099583</td>\n",
       "      <td>-0.688374</td>\n",
       "    </tr>\n",
       "  </tbody>\n",
       "</table>\n",
       "</div>"
      ],
      "text/plain": [
       "        playerName  total_rank  ast_rank  blocks_rank  steals_rank  reb_rank  \\\n",
       "249  Julius Randle    5.462817  1.030858    -0.346322     0.609221  2.429572   \n",
       "\n",
       "     pts_rank  threes_rank  fg_rank_adj  ft_rank_adj  \n",
       "249  1.814059     0.514221     0.099583    -0.688374  "
      ]
     },
     "execution_count": 11,
     "metadata": {},
     "output_type": "execute_result"
    }
   ],
   "source": [
    "final_stats_df.loc[stats_df.playerName == 'Julius Randle']"
   ]
  },
  {
   "cell_type": "code",
   "execution_count": 12,
   "metadata": {},
   "outputs": [
    {
     "data": {
      "text/html": [
       "<div>\n",
       "<style scoped>\n",
       "    .dataframe tbody tr th:only-of-type {\n",
       "        vertical-align: middle;\n",
       "    }\n",
       "\n",
       "    .dataframe tbody tr th {\n",
       "        vertical-align: top;\n",
       "    }\n",
       "\n",
       "    .dataframe thead th {\n",
       "        text-align: right;\n",
       "    }\n",
       "</style>\n",
       "<table border=\"1\" class=\"dataframe\">\n",
       "  <thead>\n",
       "    <tr style=\"text-align: right;\">\n",
       "      <th></th>\n",
       "      <th>playerName</th>\n",
       "      <th>total_rank</th>\n",
       "      <th>ast_rank</th>\n",
       "      <th>blocks_rank</th>\n",
       "      <th>steals_rank</th>\n",
       "      <th>reb_rank</th>\n",
       "      <th>pts_rank</th>\n",
       "      <th>threes_rank</th>\n",
       "      <th>fg_rank_adj</th>\n",
       "      <th>ft_rank_adj</th>\n",
       "    </tr>\n",
       "  </thead>\n",
       "  <tbody>\n",
       "    <tr>\n",
       "      <th>433</th>\n",
       "      <td>Ja Morant</td>\n",
       "      <td>5.247267</td>\n",
       "      <td>2.470666</td>\n",
       "      <td>-0.205763</td>\n",
       "      <td>0.812146</td>\n",
       "      <td>-0.092914</td>\n",
       "      <td>1.268849</td>\n",
       "      <td>0.032947</td>\n",
       "      <td>0.332043</td>\n",
       "      <td>0.629293</td>\n",
       "    </tr>\n",
       "  </tbody>\n",
       "</table>\n",
       "</div>"
      ],
      "text/plain": [
       "    playerName  total_rank  ast_rank  blocks_rank  steals_rank  reb_rank  \\\n",
       "433  Ja Morant    5.247267  2.470666    -0.205763     0.812146 -0.092914   \n",
       "\n",
       "     pts_rank  threes_rank  fg_rank_adj  ft_rank_adj  \n",
       "433  1.268849     0.032947     0.332043     0.629293  "
      ]
     },
     "execution_count": 12,
     "metadata": {},
     "output_type": "execute_result"
    }
   ],
   "source": [
    "final_stats_df.loc[stats_df.playerName == 'Ja Morant']"
   ]
  },
  {
   "cell_type": "code",
   "execution_count": 13,
   "metadata": {},
   "outputs": [
    {
     "data": {
      "text/html": [
       "<div>\n",
       "<style scoped>\n",
       "    .dataframe tbody tr th:only-of-type {\n",
       "        vertical-align: middle;\n",
       "    }\n",
       "\n",
       "    .dataframe tbody tr th {\n",
       "        vertical-align: top;\n",
       "    }\n",
       "\n",
       "    .dataframe thead th {\n",
       "        text-align: right;\n",
       "    }\n",
       "</style>\n",
       "<table border=\"1\" class=\"dataframe\">\n",
       "  <thead>\n",
       "    <tr style=\"text-align: right;\">\n",
       "      <th></th>\n",
       "      <th>playerName</th>\n",
       "      <th>total_rank</th>\n",
       "      <th>ast_rank</th>\n",
       "      <th>blocks_rank</th>\n",
       "      <th>steals_rank</th>\n",
       "      <th>reb_rank</th>\n",
       "      <th>pts_rank</th>\n",
       "      <th>threes_rank</th>\n",
       "      <th>fg_rank_adj</th>\n",
       "      <th>ft_rank_adj</th>\n",
       "    </tr>\n",
       "  </thead>\n",
       "  <tbody>\n",
       "    <tr>\n",
       "      <th>188</th>\n",
       "      <td>T.J. Warren</td>\n",
       "      <td>5.281208</td>\n",
       "      <td>-0.157821</td>\n",
       "      <td>0.215913</td>\n",
       "      <td>1.217997</td>\n",
       "      <td>0.3275</td>\n",
       "      <td>1.694379</td>\n",
       "      <td>0.617351</td>\n",
       "      <td>0.840523</td>\n",
       "      <td>0.525366</td>\n",
       "    </tr>\n",
       "  </tbody>\n",
       "</table>\n",
       "</div>"
      ],
      "text/plain": [
       "      playerName  total_rank  ast_rank  blocks_rank  steals_rank  reb_rank  \\\n",
       "188  T.J. Warren    5.281208 -0.157821     0.215913     1.217997    0.3275   \n",
       "\n",
       "     pts_rank  threes_rank  fg_rank_adj  ft_rank_adj  \n",
       "188  1.694379     0.617351     0.840523     0.525366  "
      ]
     },
     "execution_count": 13,
     "metadata": {},
     "output_type": "execute_result"
    }
   ],
   "source": [
    "final_stats_df.loc[stats_df.playerName == 'T.J. Warren']"
   ]
  },
  {
   "cell_type": "code",
   "execution_count": 14,
   "metadata": {},
   "outputs": [
    {
     "data": {
      "text/html": [
       "<div>\n",
       "<style scoped>\n",
       "    .dataframe tbody tr th:only-of-type {\n",
       "        vertical-align: middle;\n",
       "    }\n",
       "\n",
       "    .dataframe tbody tr th {\n",
       "        vertical-align: top;\n",
       "    }\n",
       "\n",
       "    .dataframe thead th {\n",
       "        text-align: right;\n",
       "    }\n",
       "</style>\n",
       "<table border=\"1\" class=\"dataframe\">\n",
       "  <thead>\n",
       "    <tr style=\"text-align: right;\">\n",
       "      <th></th>\n",
       "      <th>playerName</th>\n",
       "      <th>total_rank</th>\n",
       "      <th>ast_rank</th>\n",
       "      <th>blocks_rank</th>\n",
       "      <th>steals_rank</th>\n",
       "      <th>reb_rank</th>\n",
       "      <th>pts_rank</th>\n",
       "      <th>threes_rank</th>\n",
       "      <th>fg_rank_adj</th>\n",
       "      <th>ft_rank_adj</th>\n",
       "    </tr>\n",
       "  </thead>\n",
       "  <tbody>\n",
       "    <tr>\n",
       "      <th>119</th>\n",
       "      <td>Tomas Satoransky</td>\n",
       "      <td>5.523063</td>\n",
       "      <td>2.236279</td>\n",
       "      <td>-0.486881</td>\n",
       "      <td>2.367909</td>\n",
       "      <td>0.305373</td>\n",
       "      <td>0.45325</td>\n",
       "      <td>0.514221</td>\n",
       "      <td>0.029846</td>\n",
       "      <td>0.103067</td>\n",
       "    </tr>\n",
       "  </tbody>\n",
       "</table>\n",
       "</div>"
      ],
      "text/plain": [
       "           playerName  total_rank  ast_rank  blocks_rank  steals_rank  \\\n",
       "119  Tomas Satoransky    5.523063  2.236279    -0.486881     2.367909   \n",
       "\n",
       "     reb_rank  pts_rank  threes_rank  fg_rank_adj  ft_rank_adj  \n",
       "119  0.305373   0.45325     0.514221     0.029846     0.103067  "
      ]
     },
     "execution_count": 14,
     "metadata": {},
     "output_type": "execute_result"
    }
   ],
   "source": [
    "final_stats_df.loc[stats_df.playerName == 'Tomas Satoransky']"
   ]
  },
  {
   "cell_type": "code",
   "execution_count": null,
   "metadata": {},
   "outputs": [],
   "source": []
  }
 ],
 "metadata": {
  "kernelspec": {
   "display_name": "Python 3",
   "language": "python",
   "name": "python3"
  },
  "language_info": {
   "codemirror_mode": {
    "name": "ipython",
    "version": 3
   },
   "file_extension": ".py",
   "mimetype": "text/x-python",
   "name": "python",
   "nbconvert_exporter": "python",
   "pygments_lexer": "ipython3",
   "version": "3.7.1"
  }
 },
 "nbformat": 4,
 "nbformat_minor": 2
}
