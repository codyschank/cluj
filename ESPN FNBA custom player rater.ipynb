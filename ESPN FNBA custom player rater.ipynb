{
 "cells": [
  {
   "cell_type": "code",
   "execution_count": 14,
   "metadata": {},
   "outputs": [],
   "source": [
    "import requests\n",
    "import numpy as np\n",
    "import pandas as pd\n",
    "import seaborn as sns\n",
    "import matplotlib.pyplot as plt\n",
    "\n",
    "from sqlalchemy import create_engine\n",
    "from sqlalchemy_utils import database_exists, create_database\n",
    "\n",
    "from secrets import *"
   ]
  },
  {
   "cell_type": "code",
   "execution_count": 15,
   "metadata": {},
   "outputs": [],
   "source": [
    "league_id = 84057\n",
    "# I am team 10"
   ]
  },
  {
   "cell_type": "code",
   "execution_count": 16,
   "metadata": {},
   "outputs": [
    {
     "name": "stdout",
     "output_type": "stream",
     "text": [
      "True\n"
     ]
    }
   ],
   "source": [
    "dbname = 'cluj'\n",
    "engine = create_engine('postgres://%s:%s@localhost/%s'%('docker','docker',dbname))\n",
    "\n",
    "if not database_exists(engine.url):\n",
    "    create_database(engine.url)\n",
    "print(database_exists(engine.url))"
   ]
  },
  {
   "cell_type": "code",
   "execution_count": 17,
   "metadata": {},
   "outputs": [
    {
     "data": {
      "text/plain": [
       "dict_keys(['players'])"
      ]
     },
     "execution_count": 17,
     "metadata": {},
     "output_type": "execute_result"
    }
   ],
   "source": [
    "url = 'https://fantasy.espn.com/apis/v3/games/FBA/seasons/2020/segments/0/leagues/' + str(league_id)\n",
    "params={\"view\": \"kona_player_info\"}\n",
    "cookies = {\"swid\": AUTH['swid'],\n",
    "           \"espn_s2\": AUTH['espn_s2']}\n",
    "r = requests.get(url, params=params, cookies=cookies)\n",
    "data = r.json()\n",
    "data.keys()"
   ]
  },
  {
   "cell_type": "code",
   "execution_count": 27,
   "metadata": {},
   "outputs": [],
   "source": [
    "stat_list = []\n",
    "team_id_list = []\n",
    "injured_list = []\n",
    "injuryStatus_list = []\n",
    "for player in data['players']:\n",
    "    #print(player['player']['fullName'])\n",
    "    for stat_item in player['player']['stats']:\n",
    "        #looks like season totals AND averages id = '002020'\n",
    "        if stat_item['id'] == '002020':\n",
    "            if '40' in stat_item['stats'].keys(): # '40' is minutes\n",
    "                stat_item['stats']['playerName'] = player['player']['fullName']\n",
    "                stat_list.append(stat_item['stats'])\n",
    "                team_id_list.append(player['onTeamId'])\n",
    "                injured_list.append(player['player']['injured'])\n",
    "                injuryStatus_list.append(player['player']['injuryStatus'])"
   ]
  },
  {
   "cell_type": "code",
   "execution_count": 28,
   "metadata": {},
   "outputs": [
    {
     "data": {
      "text/plain": [
       "(461, 48)"
      ]
     },
     "execution_count": 28,
     "metadata": {},
     "output_type": "execute_result"
    }
   ],
   "source": [
    "stats_df = pd.DataFrame(stat_list)\n",
    "stats_df['onTeamId'] = team_id_list\n",
    "stats_df['injured'] = injured_list\n",
    "stats_df['injuryStatus'] = injuryStatus_list\n",
    "stats_df.shape"
   ]
  },
  {
   "cell_type": "code",
   "execution_count": 35,
   "metadata": {},
   "outputs": [
    {
     "data": {
      "text/plain": [
       "ACTIVE        380\n",
       "OUT            51\n",
       "DAY_TO_DAY     30\n",
       "Name: injuryStatus, dtype: int64"
      ]
     },
     "execution_count": 35,
     "metadata": {},
     "output_type": "execute_result"
    }
   ],
   "source": [
    "stats_df.injuryStatus.value_counts()"
   ]
  },
  {
   "cell_type": "code",
   "execution_count": 7,
   "metadata": {},
   "outputs": [],
   "source": [
    "col_rename_dict = {'0':'pts', '1':'blocks', '2':'steals', '3':'ast', '6':'reb', '13':'fgm', '14': 'fga', \n",
    "                   '15': 'ftm', '16':'fta', '17':'threes', '40':'min', '42':'gp'}\n",
    "stats_df.rename(columns=col_rename_dict, inplace=True)\n",
    "stats_df['fg_pct'] = stats_df['fgm'] / stats_df['fga']\n",
    "stats_df['ft_pct'] = stats_df['ftm'] / stats_df['fta']\n",
    "stats_df = stats_df[['playerName','onTeamId','pts','blocks','steals','ast','reb','fgm','fga','fg_pct','ftm','fta','ft_pct','threes','min','gp']]"
   ]
  },
  {
   "cell_type": "code",
   "execution_count": 8,
   "metadata": {},
   "outputs": [
    {
     "data": {
      "text/html": [
       "<div>\n",
       "<style scoped>\n",
       "    .dataframe tbody tr th:only-of-type {\n",
       "        vertical-align: middle;\n",
       "    }\n",
       "\n",
       "    .dataframe tbody tr th {\n",
       "        vertical-align: top;\n",
       "    }\n",
       "\n",
       "    .dataframe thead th {\n",
       "        text-align: right;\n",
       "    }\n",
       "</style>\n",
       "<table border=\"1\" class=\"dataframe\">\n",
       "  <thead>\n",
       "    <tr style=\"text-align: right;\">\n",
       "      <th></th>\n",
       "      <th>playerName</th>\n",
       "      <th>onTeamId</th>\n",
       "      <th>pts</th>\n",
       "      <th>blocks</th>\n",
       "      <th>steals</th>\n",
       "      <th>ast</th>\n",
       "      <th>reb</th>\n",
       "      <th>fgm</th>\n",
       "      <th>fga</th>\n",
       "      <th>fg_pct</th>\n",
       "      <th>ftm</th>\n",
       "      <th>fta</th>\n",
       "      <th>ft_pct</th>\n",
       "      <th>threes</th>\n",
       "      <th>min</th>\n",
       "      <th>gp</th>\n",
       "    </tr>\n",
       "  </thead>\n",
       "  <tbody>\n",
       "    <tr>\n",
       "      <th>0</th>\n",
       "      <td>Vince Carter</td>\n",
       "      <td>0</td>\n",
       "      <td>158.0</td>\n",
       "      <td>13.0</td>\n",
       "      <td>12.0</td>\n",
       "      <td>32.0</td>\n",
       "      <td>62.0</td>\n",
       "      <td>57.0</td>\n",
       "      <td>173.0</td>\n",
       "      <td>0.329480</td>\n",
       "      <td>12.0</td>\n",
       "      <td>17.0</td>\n",
       "      <td>0.705882</td>\n",
       "      <td>32.0</td>\n",
       "      <td>508.0</td>\n",
       "      <td>33.0</td>\n",
       "    </tr>\n",
       "    <tr>\n",
       "      <th>1</th>\n",
       "      <td>Tyson Chandler</td>\n",
       "      <td>0</td>\n",
       "      <td>34.0</td>\n",
       "      <td>8.0</td>\n",
       "      <td>6.0</td>\n",
       "      <td>6.0</td>\n",
       "      <td>63.0</td>\n",
       "      <td>14.0</td>\n",
       "      <td>18.0</td>\n",
       "      <td>0.777778</td>\n",
       "      <td>6.0</td>\n",
       "      <td>13.0</td>\n",
       "      <td>0.461538</td>\n",
       "      <td>0.0</td>\n",
       "      <td>209.0</td>\n",
       "      <td>23.0</td>\n",
       "    </tr>\n",
       "    <tr>\n",
       "      <th>2</th>\n",
       "      <td>LeBron James</td>\n",
       "      <td>6</td>\n",
       "      <td>939.0</td>\n",
       "      <td>20.0</td>\n",
       "      <td>48.0</td>\n",
       "      <td>397.0</td>\n",
       "      <td>296.0</td>\n",
       "      <td>359.0</td>\n",
       "      <td>735.0</td>\n",
       "      <td>0.488435</td>\n",
       "      <td>141.0</td>\n",
       "      <td>204.0</td>\n",
       "      <td>0.691176</td>\n",
       "      <td>80.0</td>\n",
       "      <td>1292.0</td>\n",
       "      <td>37.0</td>\n",
       "    </tr>\n",
       "    <tr>\n",
       "      <th>3</th>\n",
       "      <td>Carmelo Anthony</td>\n",
       "      <td>12</td>\n",
       "      <td>406.0</td>\n",
       "      <td>15.0</td>\n",
       "      <td>26.0</td>\n",
       "      <td>29.0</td>\n",
       "      <td>152.0</td>\n",
       "      <td>153.0</td>\n",
       "      <td>356.0</td>\n",
       "      <td>0.429775</td>\n",
       "      <td>60.0</td>\n",
       "      <td>73.0</td>\n",
       "      <td>0.821918</td>\n",
       "      <td>40.0</td>\n",
       "      <td>791.0</td>\n",
       "      <td>25.0</td>\n",
       "    </tr>\n",
       "    <tr>\n",
       "      <th>4</th>\n",
       "      <td>Kyle Korver</td>\n",
       "      <td>0</td>\n",
       "      <td>213.0</td>\n",
       "      <td>7.0</td>\n",
       "      <td>16.0</td>\n",
       "      <td>43.0</td>\n",
       "      <td>64.0</td>\n",
       "      <td>68.0</td>\n",
       "      <td>170.0</td>\n",
       "      <td>0.400000</td>\n",
       "      <td>21.0</td>\n",
       "      <td>24.0</td>\n",
       "      <td>0.875000</td>\n",
       "      <td>56.0</td>\n",
       "      <td>574.0</td>\n",
       "      <td>35.0</td>\n",
       "    </tr>\n",
       "  </tbody>\n",
       "</table>\n",
       "</div>"
      ],
      "text/plain": [
       "        playerName  onTeamId    pts  blocks  steals    ast    reb    fgm  \\\n",
       "0     Vince Carter         0  158.0    13.0    12.0   32.0   62.0   57.0   \n",
       "1   Tyson Chandler         0   34.0     8.0     6.0    6.0   63.0   14.0   \n",
       "2     LeBron James         6  939.0    20.0    48.0  397.0  296.0  359.0   \n",
       "3  Carmelo Anthony        12  406.0    15.0    26.0   29.0  152.0  153.0   \n",
       "4      Kyle Korver         0  213.0     7.0    16.0   43.0   64.0   68.0   \n",
       "\n",
       "     fga    fg_pct    ftm    fta    ft_pct  threes     min    gp  \n",
       "0  173.0  0.329480   12.0   17.0  0.705882    32.0   508.0  33.0  \n",
       "1   18.0  0.777778    6.0   13.0  0.461538     0.0   209.0  23.0  \n",
       "2  735.0  0.488435  141.0  204.0  0.691176    80.0  1292.0  37.0  \n",
       "3  356.0  0.429775   60.0   73.0  0.821918    40.0   791.0  25.0  \n",
       "4  170.0  0.400000   21.0   24.0  0.875000    56.0   574.0  35.0  "
      ]
     },
     "execution_count": 8,
     "metadata": {},
     "output_type": "execute_result"
    }
   ],
   "source": [
    "stats_df.head()"
   ]
  },
  {
   "cell_type": "code",
   "execution_count": 9,
   "metadata": {},
   "outputs": [
    {
     "data": {
      "text/plain": [
       "<matplotlib.axes._subplots.AxesSubplot at 0x1a323ceac8>"
      ]
     },
     "execution_count": 9,
     "metadata": {},
     "output_type": "execute_result"
    },
    {
     "data": {
      "image/png": "[encoded data removed]",
      "text/plain": [
       "<Figure size 432x288 with 1 Axes>"
      ]
     },
     "metadata": {
      "needs_background": "light"
     },
     "output_type": "display_data"
    }
   ],
   "source": [
    "stats_df['ast'].hist()"
   ]
  },
  {
   "cell_type": "code",
   "execution_count": 10,
   "metadata": {},
   "outputs": [],
   "source": [
    "stats_df.loc[:,'ast_rank'] = stats_df.apply(lambda x: ( (x['ast'] - stats_df['ast'].mean()) / stats_df['ast'].std()) , axis = 1)\n",
    "stats_df.loc[:,'blocks_rank'] = stats_df.apply(lambda x: ( (x['blocks'] - stats_df['blocks'].mean()) / stats_df['blocks'].std()) , axis = 1)\n",
    "stats_df.loc[:,'steals_rank'] = stats_df.apply(lambda x: ( (x['steals'] - stats_df['steals'].mean()) / stats_df['steals'].std()) , axis = 1)\n",
    "stats_df.loc[:,'reb_rank'] = stats_df.apply(lambda x: ( (x['reb'] - stats_df['reb'].mean()) / stats_df['reb'].std()) , axis = 1)\n",
    "stats_df.loc[:,'pts_rank'] = stats_df.apply(lambda x: ( (x['pts'] - stats_df['pts'].mean()) / stats_df['pts'].std()) , axis = 1)\n",
    "stats_df.loc[:,'threes_rank'] = stats_df.apply(lambda x: ( (x['threes'] - stats_df['threes'].mean()) / stats_df['threes'].std()) , axis = 1)\n",
    "stats_df.loc[:,'fta_rank'] = stats_df.apply(lambda x: ( (x['fta'] - stats_df['fta'].mean()) / stats_df['fta'].std()) , axis = 1)\n",
    "stats_df.loc[:,'fga_rank'] = stats_df.apply(lambda x: ( (x['fga'] - stats_df['fga'].mean()) / stats_df['fga'].std()) , axis = 1)\n",
    "stats_df.loc[:,'ft_pct_rank'] = stats_df.apply(lambda x: ( (x['ft_pct'] - stats_df['ft_pct'].mean()) / stats_df['ft_pct'].std()) , axis = 1)\n",
    "stats_df.loc[:,'fg_pct_rank'] = stats_df.apply(lambda x: ( (x['fg_pct'] - stats_df['fg_pct'].mean()) / stats_df['fg_pct'].std()) , axis = 1)\n",
    "stats_df['fg_rank_adj'] = stats_df['fg_pct_rank'] * stats_df['fga_rank']\n",
    "stats_df['ft_rank_adj'] = stats_df['ft_pct_rank'] * stats_df['fta_rank']\n",
    "\n",
    "cat_ranks = ['ast_rank','blocks_rank','steals_rank','reb_rank','pts_rank','threes_rank','fg_rank_adj','ft_rank_adj']\n",
    "stats_df['total_rank'] = stats_df[cat_ranks].sum(axis=1)\n",
    "stats_df.sort_values('total_rank', inplace=True, ascending= False)\n",
    "\n",
    "final_stats_df = stats_df[['playerName','onTeamId','total_rank'] + cat_ranks]"
   ]
  },
  {
   "cell_type": "code",
   "execution_count": 11,
   "metadata": {},
   "outputs": [],
   "source": [
    "# how to properly account for fga and fta in their ranks? Did what I did make sense? doesn't appear to match up well with website\n",
    "# do I need to remove anyone when I calculate the ranks?"
   ]
  },
  {
   "cell_type": "code",
   "execution_count": 12,
   "metadata": {},
   "outputs": [
    {
     "data": {
      "text/html": [
       "<div>\n",
       "<style scoped>\n",
       "    .dataframe tbody tr th:only-of-type {\n",
       "        vertical-align: middle;\n",
       "    }\n",
       "\n",
       "    .dataframe tbody tr th {\n",
       "        vertical-align: top;\n",
       "    }\n",
       "\n",
       "    .dataframe thead th {\n",
       "        text-align: right;\n",
       "    }\n",
       "</style>\n",
       "<table border=\"1\" class=\"dataframe\">\n",
       "  <thead>\n",
       "    <tr style=\"text-align: right;\">\n",
       "      <th></th>\n",
       "      <th>playerName</th>\n",
       "      <th>onTeamId</th>\n",
       "      <th>total_rank</th>\n",
       "      <th>ast_rank</th>\n",
       "      <th>blocks_rank</th>\n",
       "      <th>steals_rank</th>\n",
       "      <th>reb_rank</th>\n",
       "      <th>pts_rank</th>\n",
       "      <th>threes_rank</th>\n",
       "      <th>fg_rank_adj</th>\n",
       "      <th>ft_rank_adj</th>\n",
       "    </tr>\n",
       "  </thead>\n",
       "  <tbody>\n",
       "    <tr>\n",
       "      <th>221</th>\n",
       "      <td>Giannis Antetokounmpo</td>\n",
       "      <td>10</td>\n",
       "      <td>12.088288</td>\n",
       "      <td>2.290000</td>\n",
       "      <td>1.792465</td>\n",
       "      <td>1.656283</td>\n",
       "      <td>3.792098</td>\n",
       "      <td>3.481757</td>\n",
       "      <td>1.036774</td>\n",
       "      <td>2.440489</td>\n",
       "      <td>-4.401578</td>\n",
       "    </tr>\n",
       "    <tr>\n",
       "      <th>264</th>\n",
       "      <td>Nikola Jokic</td>\n",
       "      <td>10</td>\n",
       "      <td>11.329684</td>\n",
       "      <td>2.875339</td>\n",
       "      <td>0.472244</td>\n",
       "      <td>1.093057</td>\n",
       "      <td>2.742833</td>\n",
       "      <td>1.926414</td>\n",
       "      <td>0.750594</td>\n",
       "      <td>0.947193</td>\n",
       "      <td>0.522010</td>\n",
       "    </tr>\n",
       "    <tr>\n",
       "      <th>193</th>\n",
       "      <td>Buddy Hield</td>\n",
       "      <td>10</td>\n",
       "      <td>7.634867</td>\n",
       "      <td>0.919074</td>\n",
       "      <td>-0.055845</td>\n",
       "      <td>0.717573</td>\n",
       "      <td>0.858230</td>\n",
       "      <td>2.081948</td>\n",
       "      <td>3.548800</td>\n",
       "      <td>-0.725783</td>\n",
       "      <td>0.290870</td>\n",
       "    </tr>\n",
       "    <tr>\n",
       "      <th>119</th>\n",
       "      <td>Tomas Satoransky</td>\n",
       "      <td>10</td>\n",
       "      <td>5.624884</td>\n",
       "      <td>2.305404</td>\n",
       "      <td>-0.451911</td>\n",
       "      <td>2.282089</td>\n",
       "      <td>0.328504</td>\n",
       "      <td>0.489767</td>\n",
       "      <td>0.496211</td>\n",
       "      <td>-0.004098</td>\n",
       "      <td>0.178918</td>\n",
       "    </tr>\n",
       "    <tr>\n",
       "      <th>391</th>\n",
       "      <td>Miles Bridges</td>\n",
       "      <td>10</td>\n",
       "      <td>5.326019</td>\n",
       "      <td>0.287524</td>\n",
       "      <td>1.264377</td>\n",
       "      <td>0.467251</td>\n",
       "      <td>1.194403</td>\n",
       "      <td>0.989114</td>\n",
       "      <td>1.036774</td>\n",
       "      <td>0.030774</td>\n",
       "      <td>0.055802</td>\n",
       "    </tr>\n",
       "    <tr>\n",
       "      <th>252</th>\n",
       "      <td>Julius Randle</td>\n",
       "      <td>10</td>\n",
       "      <td>5.213295</td>\n",
       "      <td>0.965285</td>\n",
       "      <td>-0.253878</td>\n",
       "      <td>0.592412</td>\n",
       "      <td>2.325164</td>\n",
       "      <td>1.750414</td>\n",
       "      <td>0.464413</td>\n",
       "      <td>0.012157</td>\n",
       "      <td>-0.642673</td>\n",
       "    </tr>\n",
       "    <tr>\n",
       "      <th>190</th>\n",
       "      <td>Taurean Prince</td>\n",
       "      <td>10</td>\n",
       "      <td>4.901956</td>\n",
       "      <td>0.302928</td>\n",
       "      <td>0.274211</td>\n",
       "      <td>0.905315</td>\n",
       "      <td>1.398144</td>\n",
       "      <td>0.763999</td>\n",
       "      <td>2.054303</td>\n",
       "      <td>-0.723329</td>\n",
       "      <td>-0.073614</td>\n",
       "    </tr>\n",
       "    <tr>\n",
       "      <th>46</th>\n",
       "      <td>Derrick Rose</td>\n",
       "      <td>10</td>\n",
       "      <td>4.675473</td>\n",
       "      <td>2.074349</td>\n",
       "      <td>-0.121856</td>\n",
       "      <td>0.592412</td>\n",
       "      <td>-0.374401</td>\n",
       "      <td>1.324741</td>\n",
       "      <td>0.114638</td>\n",
       "      <td>0.503709</td>\n",
       "      <td>0.561881</td>\n",
       "    </tr>\n",
       "    <tr>\n",
       "      <th>430</th>\n",
       "      <td>PJ Washington</td>\n",
       "      <td>10</td>\n",
       "      <td>4.439436</td>\n",
       "      <td>0.164295</td>\n",
       "      <td>1.330388</td>\n",
       "      <td>0.905315</td>\n",
       "      <td>0.848043</td>\n",
       "      <td>0.686232</td>\n",
       "      <td>0.623402</td>\n",
       "      <td>0.156838</td>\n",
       "      <td>-0.275077</td>\n",
       "    </tr>\n",
       "    <tr>\n",
       "      <th>397</th>\n",
       "      <td>Markelle Fultz</td>\n",
       "      <td>10</td>\n",
       "      <td>3.514962</td>\n",
       "      <td>1.704661</td>\n",
       "      <td>-0.385900</td>\n",
       "      <td>1.906605</td>\n",
       "      <td>0.043267</td>\n",
       "      <td>0.612557</td>\n",
       "      <td>-0.425925</td>\n",
       "      <td>0.052066</td>\n",
       "      <td>0.007630</td>\n",
       "    </tr>\n",
       "    <tr>\n",
       "      <th>45</th>\n",
       "      <td>JaVale McGee</td>\n",
       "      <td>10</td>\n",
       "      <td>3.072549</td>\n",
       "      <td>-0.544274</td>\n",
       "      <td>3.376731</td>\n",
       "      <td>0.216928</td>\n",
       "      <td>1.102719</td>\n",
       "      <td>-0.050510</td>\n",
       "      <td>-0.902892</td>\n",
       "      <td>-0.295930</td>\n",
       "      <td>0.169777</td>\n",
       "    </tr>\n",
       "    <tr>\n",
       "      <th>208</th>\n",
       "      <td>Nerlens Noel</td>\n",
       "      <td>10</td>\n",
       "      <td>2.238566</td>\n",
       "      <td>-0.297815</td>\n",
       "      <td>2.584598</td>\n",
       "      <td>1.030476</td>\n",
       "      <td>0.583180</td>\n",
       "      <td>-0.087347</td>\n",
       "      <td>-0.966487</td>\n",
       "      <td>-0.713474</td>\n",
       "      <td>0.105435</td>\n",
       "    </tr>\n",
       "    <tr>\n",
       "      <th>425</th>\n",
       "      <td>Daniel Gafford</td>\n",
       "      <td>10</td>\n",
       "      <td>-2.355754</td>\n",
       "      <td>-0.744521</td>\n",
       "      <td>1.792465</td>\n",
       "      <td>-0.721781</td>\n",
       "      <td>-0.435524</td>\n",
       "      <td>-0.578508</td>\n",
       "      <td>-0.966487</td>\n",
       "      <td>-1.329622</td>\n",
       "      <td>0.628225</td>\n",
       "    </tr>\n",
       "  </tbody>\n",
       "</table>\n",
       "</div>"
      ],
      "text/plain": [
       "                playerName  onTeamId  total_rank  ast_rank  blocks_rank  \\\n",
       "221  Giannis Antetokounmpo        10   12.088288  2.290000     1.792465   \n",
       "264           Nikola Jokic        10   11.329684  2.875339     0.472244   \n",
       "193            Buddy Hield        10    7.634867  0.919074    -0.055845   \n",
       "119       Tomas Satoransky        10    5.624884  2.305404    -0.451911   \n",
       "391          Miles Bridges        10    5.326019  0.287524     1.264377   \n",
       "252          Julius Randle        10    5.213295  0.965285    -0.253878   \n",
       "190         Taurean Prince        10    4.901956  0.302928     0.274211   \n",
       "46            Derrick Rose        10    4.675473  2.074349    -0.121856   \n",
       "430          PJ Washington        10    4.439436  0.164295     1.330388   \n",
       "397         Markelle Fultz        10    3.514962  1.704661    -0.385900   \n",
       "45            JaVale McGee        10    3.072549 -0.544274     3.376731   \n",
       "208           Nerlens Noel        10    2.238566 -0.297815     2.584598   \n",
       "425         Daniel Gafford        10   -2.355754 -0.744521     1.792465   \n",
       "\n",
       "     steals_rank  reb_rank  pts_rank  threes_rank  fg_rank_adj  ft_rank_adj  \n",
       "221     1.656283  3.792098  3.481757     1.036774     2.440489    -4.401578  \n",
       "264     1.093057  2.742833  1.926414     0.750594     0.947193     0.522010  \n",
       "193     0.717573  0.858230  2.081948     3.548800    -0.725783     0.290870  \n",
       "119     2.282089  0.328504  0.489767     0.496211    -0.004098     0.178918  \n",
       "391     0.467251  1.194403  0.989114     1.036774     0.030774     0.055802  \n",
       "252     0.592412  2.325164  1.750414     0.464413     0.012157    -0.642673  \n",
       "190     0.905315  1.398144  0.763999     2.054303    -0.723329    -0.073614  \n",
       "46      0.592412 -0.374401  1.324741     0.114638     0.503709     0.561881  \n",
       "430     0.905315  0.848043  0.686232     0.623402     0.156838    -0.275077  \n",
       "397     1.906605  0.043267  0.612557    -0.425925     0.052066     0.007630  \n",
       "45      0.216928  1.102719 -0.050510    -0.902892    -0.295930     0.169777  \n",
       "208     1.030476  0.583180 -0.087347    -0.966487    -0.713474     0.105435  \n",
       "425    -0.721781 -0.435524 -0.578508    -0.966487    -1.329622     0.628225  "
      ]
     },
     "execution_count": 12,
     "metadata": {},
     "output_type": "execute_result"
    }
   ],
   "source": [
    "my_team = final_stats_df.loc[final_stats_df.onTeamId==10]\n",
    "my_team = my_team.loc[my_team.playerName != 'Jonathan Isaac'] # how to remove players on IR\n",
    "my_team"
   ]
  },
  {
   "cell_type": "code",
   "execution_count": 13,
   "metadata": {},
   "outputs": [
    {
     "data": {
      "text/plain": [
       "ast_rank       12.302247\n",
       "blocks_rank    11.618091\n",
       "steals_rank    11.643935\n",
       "reb_rank       14.406661\n",
       "pts_rank       13.390578\n",
       "threes_rank     6.864116\n",
       "fg_rank_adj     0.350989\n",
       "ft_rank_adj    -2.872393\n",
       "dtype: float64"
      ]
     },
     "execution_count": 13,
     "metadata": {},
     "output_type": "execute_result"
    }
   ],
   "source": [
    "my_team[cat_ranks].sum()"
   ]
  },
  {
   "cell_type": "code",
   "execution_count": null,
   "metadata": {},
   "outputs": [],
   "source": []
  }
 ],
 "metadata": {
  "kernelspec": {
   "display_name": "Python 3",
   "language": "python",
   "name": "python3"
  },
  "language_info": {
   "codemirror_mode": {
    "name": "ipython",
    "version": 3
   },
   "file_extension": ".py",
   "mimetype": "text/x-python",
   "name": "python",
   "nbconvert_exporter": "python",
   "pygments_lexer": "ipython3",
   "version": "3.7.1"
  }
 },
 "nbformat": 4,
 "nbformat_minor": 2
}
