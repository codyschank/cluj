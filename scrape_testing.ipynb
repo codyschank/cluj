{
 "cells": [
  {
   "cell_type": "code",
   "execution_count": 1,
   "metadata": {},
   "outputs": [],
   "source": [
    "import time\n",
    "import re\n",
    "import pandas as pd\n",
    "import matplotlib.pylab as plt\n",
    "import seaborn as sns\n",
    "\n",
    "from selenium import webdriver\n",
    "from selenium.common.exceptions import TimeoutException\n",
    "from selenium.common.exceptions import NoSuchElementException\n",
    "from selenium.webdriver.support.ui import WebDriverWait # available since 2.4.0\n",
    "from selenium.webdriver.support import expected_conditions as EC # available since 2.26.0\n",
    "from selenium.webdriver.common.keys import Keys\n",
    "from selenium.webdriver.common.by import By\n",
    "from sklearn.preprocessing import StandardScaler\n",
    "\n",
    "from secrets import *"
   ]
  },
  {
   "cell_type": "code",
   "execution_count": 2,
   "metadata": {},
   "outputs": [],
   "source": [
    "email = AUTH[\"email\"]\n",
    "password = AUTH[\"password\"]"
   ]
  },
  {
   "cell_type": "markdown",
   "metadata": {},
   "source": [
    "## LOGIN"
   ]
  },
  {
   "cell_type": "code",
   "execution_count": 3,
   "metadata": {},
   "outputs": [],
   "source": [
    "# https://stackoverflow.com/questions/33326459/logging-into-espn-using-selenium"
   ]
  },
  {
   "cell_type": "code",
   "execution_count": 4,
   "metadata": {},
   "outputs": [],
   "source": [
    "driver = webdriver.Chrome()"
   ]
  },
  {
   "cell_type": "code",
   "execution_count": 5,
   "metadata": {},
   "outputs": [],
   "source": [
    "driver.get(\"http://games.espn.go.com/ffl/signin\")"
   ]
  },
  {
   "cell_type": "code",
   "execution_count": 6,
   "metadata": {},
   "outputs": [],
   "source": [
    "w = WebDriverWait(driver,1000).until(EC.presence_of_all_elements_located((By.XPATH,\"(//iframe)\")))"
   ]
  },
  {
   "cell_type": "code",
   "execution_count": 7,
   "metadata": {},
   "outputs": [
    {
     "name": "stderr",
     "output_type": "stream",
     "text": [
      "/Users/codyschank/anaconda3/lib/python3.6/site-packages/ipykernel_launcher.py:1: DeprecationWarning: use driver.switch_to.frame instead\n",
      "  \"\"\"Entry point for launching an IPython kernel.\n"
     ]
    }
   ],
   "source": [
    "driver.switch_to_frame(\"disneyid-iframe\")\n",
    "time.sleep(2)"
   ]
  },
  {
   "cell_type": "code",
   "execution_count": 8,
   "metadata": {},
   "outputs": [],
   "source": [
    "driver.find_element_by_css_selector('input[type=email]').send_keys(email)"
   ]
  },
  {
   "cell_type": "code",
   "execution_count": 9,
   "metadata": {},
   "outputs": [],
   "source": [
    "driver.find_element_by_css_selector('input[type=password]').send_keys(password)"
   ]
  },
  {
   "cell_type": "code",
   "execution_count": 10,
   "metadata": {},
   "outputs": [],
   "source": [
    "driver.find_element_by_xpath(\"//button\").click()"
   ]
  },
  {
   "cell_type": "markdown",
   "metadata": {},
   "source": [
    "## STATS"
   ]
  },
  {
   "cell_type": "code",
   "execution_count": 130,
   "metadata": {},
   "outputs": [
    {
     "data": {
      "text/plain": [
       "'http://fantasy.espn.com/basketball/players/add?leagueId=84057&view=stats'"
      ]
     },
     "execution_count": 130,
     "metadata": {},
     "output_type": "execute_result"
    }
   ],
   "source": [
    "leagueID = \"84057\"\n",
    "url = \"http://fantasy.espn.com/basketball/players/add?leagueId=\"+leagueID+\"&view=stats\"\n",
    "url"
   ]
  },
  {
   "cell_type": "code",
   "execution_count": 131,
   "metadata": {},
   "outputs": [],
   "source": [
    "driver.get(url)"
   ]
  },
  {
   "cell_type": "code",
   "execution_count": 132,
   "metadata": {},
   "outputs": [],
   "source": [
    "# show all players\n",
    "driver.find_element_by_xpath(\"//*[@id='filterStatus']/option[1]\").click()"
   ]
  },
  {
   "cell_type": "code",
   "execution_count": 133,
   "metadata": {},
   "outputs": [],
   "source": [
    "# do I want totals or averages?\n",
    "# check what I used in original scraping\n",
    "# make sure to change in loop too"
   ]
  },
  {
   "cell_type": "code",
   "execution_count": 134,
   "metadata": {},
   "outputs": [],
   "source": [
    "# show totals\n",
    "# driver.find_element_by_xpath(\"//*[@id='espn-analytics']/div/div[5]/div[2]/div[2]/div/div/div[1]/div/div[3]/label[1]/div\").click()\n",
    "# show averages\n",
    "driver.find_element_by_xpath(\"//*[@id='espn-analytics']/div/div[5]/div[2]/div[2]/div/div/div[1]/div/div[3]/label[2]/div\").click()"
   ]
  },
  {
   "cell_type": "code",
   "execution_count": 135,
   "metadata": {},
   "outputs": [],
   "source": [
    "xpath = '//*[@id=\"espn-analytics\"]/div/div[5]/div[2]/div[2]/div/div/div[2]/section/table/tbody'\n",
    "table = driver.find_element_by_xpath(xpath)"
   ]
  },
  {
   "cell_type": "code",
   "execution_count": 136,
   "metadata": {},
   "outputs": [],
   "source": [
    "cells = table.text.split('\\n')"
   ]
  },
  {
   "cell_type": "code",
   "execution_count": 87,
   "metadata": {},
   "outputs": [],
   "source": [
    "nba_teams = ['Hou','Mil','No','GS','LAL','OKC','Phi','Min','Por','Ind','Tor','Den','Bos','SA','Wsh','Utah','Cle','Det',\n",
    "            'Cha','Phx','Dal','Mem','LAC','Mia','Atl','NY','Orl','Chi','Sac','Bkn']"
   ]
  },
  {
   "cell_type": "code",
   "execution_count": 137,
   "metadata": {},
   "outputs": [],
   "source": [
    "# clean out unnecessary/ complicating data\n",
    "cells = [i for i in cells if i not in ['O','DTD']]\n",
    "#cells = [i for i in cells if i not in nba_teams]\n",
    "cells = [i for i in cells if '@' not in i]\n",
    "cells = [i for i in cells if ':' not in i]\n",
    "players = cells[6:cells.index('STATS RESEARCH')]\n",
    "stats = cells[(cells.index('+/-')+1):] # find '+/-', and start from the cell after that?"
   ]
  },
  {
   "cell_type": "code",
   "execution_count": 138,
   "metadata": {},
   "outputs": [],
   "source": [
    "players = [i for i in players if '--' not in i]"
   ]
  },
  {
   "cell_type": "code",
   "execution_count": 139,
   "metadata": {},
   "outputs": [
    {
     "data": {
      "text/plain": [
       "['Anthony Davis',\n",
       " 'No',\n",
       " 'PF, C',\n",
       " 'DOIS',\n",
       " 'Joel Embiid',\n",
       " 'Phi',\n",
       " 'C',\n",
       " 'Wood',\n",
       " 'James Harden',\n",
       " 'Hou',\n",
       " 'SG, PG',\n",
       " 'Wood',\n",
       " 'LeBron James',\n",
       " 'LAL',\n",
       " 'SF, PF',\n",
       " 'BEB',\n",
       " 'Kevin Durant',\n",
       " 'GS',\n",
       " 'SF, PF',\n",
       " 'Brog',\n",
       " 'Russell Westbrook',\n",
       " 'OKC',\n",
       " 'PG',\n",
       " 'PREZ',\n",
       " 'Damian Lillard',\n",
       " 'Por',\n",
       " 'PG',\n",
       " 'Brog',\n",
       " 'Min',\n",
       " 'Stephen Curry',\n",
       " 'GS',\n",
       " 'PG',\n",
       " 'gov',\n",
       " 'Paul George',\n",
       " 'OKC',\n",
       " 'SF',\n",
       " 'BXV',\n",
       " 'Giannis Antetokounmpo',\n",
       " 'Mil',\n",
       " 'PF, SF',\n",
       " 'DEKK',\n",
       " 'Karl-Anthony Towns',\n",
       " 'Min',\n",
       " 'C',\n",
       " 'WILL',\n",
       " 'Kemba Walker',\n",
       " 'Cha',\n",
       " 'PG',\n",
       " 'WILL',\n",
       " 'Kawhi Leonard',\n",
       " 'Tor',\n",
       " 'SF',\n",
       " 'YOC',\n",
       " 'Nikola Jokic',\n",
       " 'Den',\n",
       " 'C',\n",
       " 'DEKK',\n",
       " 'Ben Simmons',\n",
       " 'Phi',\n",
       " 'PG, SF',\n",
       " 'Wood',\n",
       " 'DeMar DeRozan',\n",
       " 'SA',\n",
       " 'SG, SF',\n",
       " 'gov',\n",
       " 'Jimmy Butler',\n",
       " 'Phi',\n",
       " 'SG, SF',\n",
       " 'ROOK',\n",
       " 'Kyrie Irving',\n",
       " 'Bos',\n",
       " 'PG',\n",
       " 'BEB',\n",
       " 'Andre Drummond',\n",
       " 'Det',\n",
       " 'C',\n",
       " 'Brog',\n",
       " 'Kyle Lowry',\n",
       " 'Tor',\n",
       " 'PG',\n",
       " 'YOC',\n",
       " 'Blake Griffin',\n",
       " 'Det',\n",
       " 'PF',\n",
       " 'DOIS',\n",
       " 'LaMarcus Aldridge',\n",
       " 'SA',\n",
       " 'PF, C',\n",
       " 'Brog',\n",
       " 'Bradley Beal',\n",
       " 'Wsh',\n",
       " 'SG',\n",
       " 'PREZ',\n",
       " 'John Wall',\n",
       " 'Wsh',\n",
       " 'PG',\n",
       " 'FORS',\n",
       " 'Jrue Holiday',\n",
       " 'No',\n",
       " 'PG, SG',\n",
       " 'Wood',\n",
       " 'Clint Capela',\n",
       " 'Hou',\n",
       " 'C',\n",
       " 'Wood',\n",
       " 'Chris Paul',\n",
       " 'Hou',\n",
       " 'PG',\n",
       " 'FORS',\n",
       " 'Jayson Tatum',\n",
       " 'Bos',\n",
       " 'SF, PF',\n",
       " 'YOC',\n",
       " 'Donovan Mitchell',\n",
       " 'Utah',\n",
       " 'SG',\n",
       " 'gov',\n",
       " 'DeAndre Jordan',\n",
       " 'Dal',\n",
       " 'C',\n",
       " 'FORS',\n",
       " 'Hou',\n",
       " 'Julius Randle',\n",
       " 'No',\n",
       " 'PF, C',\n",
       " 'PREZ',\n",
       " 'Rudy Gobert',\n",
       " 'Utah',\n",
       " 'C',\n",
       " 'BXV',\n",
       " 'Khris Middleton',\n",
       " 'Mil',\n",
       " 'SF, SG',\n",
       " 'ROOK',\n",
       " 'Marc Gasol',\n",
       " 'Mem',\n",
       " 'C',\n",
       " 'PREZ',\n",
       " 'LAL',\n",
       " 'CJ McCollum',\n",
       " 'Por',\n",
       " 'SG',\n",
       " 'BXV',\n",
       " 'Min',\n",
       " 'Tobias Harris',\n",
       " 'LAC',\n",
       " 'PF',\n",
       " 'FORS',\n",
       " 'Mia',\n",
       " 'Klay Thompson',\n",
       " 'GS',\n",
       " 'SG',\n",
       " 'BXV',\n",
       " 'Deandre Ayton',\n",
       " 'Phx',\n",
       " 'C',\n",
       " 'ROOK',\n",
       " 'Luka Doncic',\n",
       " 'Dal',\n",
       " 'SG, PF',\n",
       " 'FORS',\n",
       " 'Hou',\n",
       " 'Mike Conley',\n",
       " 'Mem',\n",
       " 'PG',\n",
       " 'DOIS',\n",
       " 'LAL',\n",
       " 'Devin Booker',\n",
       " 'Phx',\n",
       " 'SG, PG',\n",
       " 'DOIS',\n",
       " 'Gordon Hayward',\n",
       " 'Bos',\n",
       " 'SF, SG',\n",
       " 'gov',\n",
       " 'Lou Williams',\n",
       " 'LAC',\n",
       " 'SG',\n",
       " 'FORS',\n",
       " 'Mia',\n",
       " 'Victor Oladipo',\n",
       " 'Ind',\n",
       " 'SG',\n",
       " 'WILL',\n",
       " 'Sac',\n",
       " 'Draymond Green',\n",
       " 'GS',\n",
       " 'PF, C',\n",
       " 'PREZ',\n",
       " 'Zach LaVine',\n",
       " 'Chi',\n",
       " 'SG',\n",
       " 'Wood',\n",
       " 'Bos',\n",
       " 'Enes Kanter',\n",
       " 'NY',\n",
       " 'C',\n",
       " 'ROOK',\n",
       " 'Bkn',\n",
       " 'Nikola Vucevic',\n",
       " 'Orl',\n",
       " 'C',\n",
       " 'BEB',\n",
       " 'John Collins',\n",
       " 'Atl',\n",
       " 'PF',\n",
       " 'FORS',\n",
       " 'Den',\n",
       " 'Ricky Rubio',\n",
       " 'Utah',\n",
       " 'PG',\n",
       " 'DEKK']"
      ]
     },
     "execution_count": 139,
     "metadata": {},
     "output_type": "execute_result"
    }
   ],
   "source": [
    "# integrate teams into the dataframe, if I can, will help with schedule\n",
    "players"
   ]
  },
  {
   "cell_type": "code",
   "execution_count": 90,
   "metadata": {},
   "outputs": [],
   "source": [
    "columns = ['player','position','fantasy_team','minutes','fgm/fga','fg%','ftm/fta','ft%','3pm','reb','ast','stl','blk','pts','pr5','own','change']\n",
    "statsTable = pd.DataFrame()"
   ]
  },
  {
   "cell_type": "code",
   "execution_count": 91,
   "metadata": {},
   "outputs": [],
   "source": [
    "j = 0\n",
    "k = 0\n",
    "for i in range(50):\n",
    "    player = players[j:j+3]\n",
    "    j = j+3\n",
    "    player_stats = stats[k:k+14]\n",
    "    k = k+14\n",
    "    values = player+player_stats\n",
    "    row = dict(zip(columns, values))\n",
    "    statsTable = statsTable.append(row, ignore_index=True)"
   ]
  },
  {
   "cell_type": "code",
   "execution_count": 93,
   "metadata": {},
   "outputs": [],
   "source": [
    "#statsTable.head(50)"
   ]
  },
  {
   "cell_type": "code",
   "execution_count": 66,
   "metadata": {},
   "outputs": [],
   "source": [
    "# this is another way to do it, with less cleanging post scraprin, but hits that page many more times, and thus flags the account\n",
    "'''for i in range(1,51):\n",
    "    xpath = '//*[@id=\"espn-analytics\"]/div/div[5]/div[2]/div[2]/div/div/div[2]/section/table/tbody/tr/td[1]/table/tbody/tr[' + str(i) + ']/td[1]'\n",
    "    playername = driver.find_element_by_xpath(xpath)\n",
    "    playername = playername.text.split('\\n')\n",
    "    playername = [j for j in playername if j not in ['O','DTD']]\n",
    "    xpath = '//*[@id=\"espn-analytics\"]/div/div[5]/div[2]/div[2]/div/div/div[2]/section/table/tbody/tr/td[1]/table/tbody/tr[' + str(i) + ']/td[2]'\n",
    "    fantasyteam = driver.find_element_by_xpath(xpath)\n",
    "    fantasyteam = fantasyteam.text.split('\\n')\n",
    "    xpath = '//*[@id=\"espn-analytics\"]/div/div[5]/div[2]/div[2]/div/div/div[2]/section/table/tbody/tr/td[2]/div/div/div[2]/table/tbody/tr/td/table/tbody/tr[' + str(i) + ']'\n",
    "    stats = driver.find_element_by_xpath(xpath)\n",
    "    stats = stats.text.split('\\n')\n",
    "    values = playername+fantasyteam+stats\n",
    "    row = dict(zip(columns, values))\n",
    "    statsTable = statsTable.append(row, ignore_index=True)\n",
    "''' and None"
   ]
  },
  {
   "cell_type": "code",
   "execution_count": 94,
   "metadata": {},
   "outputs": [],
   "source": [
    "for i in range(2,6):\n",
    "    next_page = \"//*[@id='espn-analytics']/div/div[5]/div[2]/div[2]/div/div/div[2]/div/div/ul/li[\"+str(i)+\"]\"\n",
    "    driver.find_element_by_xpath(next_page).click()\n",
    "    time.sleep(4)\n",
    "    xpath = '//*[@id=\"espn-analytics\"]/div/div[5]/div[2]/div[2]/div/div/div[2]/section/table/tbody'\n",
    "    table = driver.find_element_by_xpath(xpath)\n",
    "    cells = table.text.split('\\n')\n",
    "    cells = [i for i in cells if i not in ['O','DTD']]\n",
    "    cells = [i for i in cells if i not in nba_teams]\n",
    "    cells = [i for i in cells if '@' not in i]\n",
    "    cells = [i for i in cells if ':' not in i]\n",
    "    players = cells[6:cells.index('STATS RESEARCH')]\n",
    "    players = [i for i in players if '--' not in i]\n",
    "    stats = cells[(cells.index('+/-')+1):] \n",
    "    j = 0\n",
    "    k = 0\n",
    "    for i in range(50):\n",
    "        player = players[j:j+3]\n",
    "        j = j+3\n",
    "        player_stats = stats[k:k+14]\n",
    "        k = k+14\n",
    "        values = player+player_stats\n",
    "        row = dict(zip(columns, values))\n",
    "        statsTable = statsTable.append(row, ignore_index=True)"
   ]
  },
  {
   "cell_type": "code",
   "execution_count": 95,
   "metadata": {},
   "outputs": [
    {
     "data": {
      "text/plain": [
       "(250, 17)"
      ]
     },
     "execution_count": 95,
     "metadata": {},
     "output_type": "execute_result"
    }
   ],
   "source": [
    "statsTable.shape"
   ]
  },
  {
   "cell_type": "code",
   "execution_count": 97,
   "metadata": {},
   "outputs": [],
   "source": [
    "#statsTable.tail(50)"
   ]
  },
  {
   "cell_type": "markdown",
   "metadata": {},
   "source": [
    "## ANALYZE"
   ]
  },
  {
   "cell_type": "code",
   "execution_count": 98,
   "metadata": {},
   "outputs": [],
   "source": [
    "statsTable['fta'] = statsTable['ftm/fta'].str.split('/',expand=True)[1]\n",
    "statsTable['fga'] = statsTable['fgm/fga'].str.split('/',expand=True)[1]\n",
    "statsTable = statsTable.drop(columns = ['pr5','own','change','ftm/fta','fgm/fga'])"
   ]
  },
  {
   "cell_type": "code",
   "execution_count": 99,
   "metadata": {},
   "outputs": [],
   "source": [
    "statsTable = statsTable.replace(\"--\",\"0\")"
   ]
  },
  {
   "cell_type": "code",
   "execution_count": 100,
   "metadata": {},
   "outputs": [],
   "source": [
    "statsTable['ast'] = pd.to_numeric(statsTable['ast']) \n",
    "statsTable['blk'] = pd.to_numeric(statsTable['blk']) \n",
    "statsTable['reb'] = pd.to_numeric(statsTable['reb']) \n",
    "statsTable['pts'] = pd.to_numeric(statsTable['pts']) \n",
    "statsTable['stl'] = pd.to_numeric(statsTable['stl'])\n",
    "statsTable['3pm'] = pd.to_numeric(statsTable['3pm'])\n",
    "statsTable['ft%'] = pd.to_numeric(statsTable['ft%'])\n",
    "statsTable['fg%'] = pd.to_numeric(statsTable['fg%'])\n",
    "statsTable['fta'] = pd.to_numeric(statsTable['fta'])\n",
    "statsTable['fga'] = pd.to_numeric(statsTable['fga'])\n",
    "statsTable['minutes'] = pd.to_numeric(statsTable['minutes'])"
   ]
  },
  {
   "cell_type": "code",
   "execution_count": 101,
   "metadata": {},
   "outputs": [],
   "source": [
    "scaler = StandardScaler()"
   ]
  },
  {
   "cell_type": "code",
   "execution_count": 102,
   "metadata": {},
   "outputs": [],
   "source": [
    "statsTable[['ast', 'blk','reb','pts','stl','3pm','ft%','fg%','fta','fga']] = scaler.fit_transform(statsTable[['ast', 'blk','reb','pts','stl','3pm','ft%','fg%','fta','fga']])"
   ]
  },
  {
   "cell_type": "code",
   "execution_count": 103,
   "metadata": {},
   "outputs": [
    {
     "data": {
      "text/html": [
       "<div>\n",
       "<style scoped>\n",
       "    .dataframe tbody tr th:only-of-type {\n",
       "        vertical-align: middle;\n",
       "    }\n",
       "\n",
       "    .dataframe tbody tr th {\n",
       "        vertical-align: top;\n",
       "    }\n",
       "\n",
       "    .dataframe thead th {\n",
       "        text-align: right;\n",
       "    }\n",
       "</style>\n",
       "<table border=\"1\" class=\"dataframe\">\n",
       "  <thead>\n",
       "    <tr style=\"text-align: right;\">\n",
       "      <th></th>\n",
       "      <th>3pm</th>\n",
       "      <th>ast</th>\n",
       "      <th>blk</th>\n",
       "      <th>fantasy_team</th>\n",
       "      <th>fg%</th>\n",
       "      <th>ft%</th>\n",
       "      <th>minutes</th>\n",
       "      <th>player</th>\n",
       "      <th>position</th>\n",
       "      <th>pts</th>\n",
       "      <th>reb</th>\n",
       "      <th>stl</th>\n",
       "      <th>fta</th>\n",
       "      <th>fga</th>\n",
       "    </tr>\n",
       "  </thead>\n",
       "  <tbody>\n",
       "    <tr>\n",
       "      <th>0</th>\n",
       "      <td>-0.280034</td>\n",
       "      <td>1.081334</td>\n",
       "      <td>4.542445</td>\n",
       "      <td>DOIS</td>\n",
       "      <td>0.501711</td>\n",
       "      <td>0.468958</td>\n",
       "      <td>37.3</td>\n",
       "      <td>Anthony Davis</td>\n",
       "      <td>PF, C</td>\n",
       "      <td>2.438952</td>\n",
       "      <td>2.600549</td>\n",
       "      <td>1.819743</td>\n",
       "      <td>3.201486</td>\n",
       "      <td>2.003465</td>\n",
       "    </tr>\n",
       "    <tr>\n",
       "      <th>1</th>\n",
       "      <td>0.048644</td>\n",
       "      <td>0.443639</td>\n",
       "      <td>2.793557</td>\n",
       "      <td>Wood</td>\n",
       "      <td>0.136516</td>\n",
       "      <td>0.341789</td>\n",
       "      <td>34.3</td>\n",
       "      <td>Joel Embiid</td>\n",
       "      <td>C</td>\n",
       "      <td>2.202729</td>\n",
       "      <td>2.875028</td>\n",
       "      <td>-0.697191</td>\n",
       "      <td>3.881362</td>\n",
       "      <td>1.816473</td>\n",
       "    </tr>\n",
       "    <tr>\n",
       "      <th>2</th>\n",
       "      <td>3.116304</td>\n",
       "      <td>2.749151</td>\n",
       "      <td>0.073065</td>\n",
       "      <td>Wood</td>\n",
       "      <td>-0.054381</td>\n",
       "      <td>0.517868</td>\n",
       "      <td>36.1</td>\n",
       "      <td>James Harden</td>\n",
       "      <td>SG, PG</td>\n",
       "      <td>2.753915</td>\n",
       "      <td>0.233170</td>\n",
       "      <td>2.658721</td>\n",
       "      <td>3.619871</td>\n",
       "      <td>2.169679</td>\n",
       "    </tr>\n",
       "    <tr>\n",
       "      <th>3</th>\n",
       "      <td>1.144237</td>\n",
       "      <td>2.013350</td>\n",
       "      <td>0.461706</td>\n",
       "      <td>BEB</td>\n",
       "      <td>0.634509</td>\n",
       "      <td>-0.064171</td>\n",
       "      <td>34.9</td>\n",
       "      <td>LeBron James</td>\n",
       "      <td>SF, PF</td>\n",
       "      <td>2.580685</td>\n",
       "      <td>0.919367</td>\n",
       "      <td>0.980765</td>\n",
       "      <td>2.678504</td>\n",
       "      <td>2.128125</td>\n",
       "    </tr>\n",
       "    <tr>\n",
       "      <th>4</th>\n",
       "      <td>0.486881</td>\n",
       "      <td>1.768082</td>\n",
       "      <td>1.044669</td>\n",
       "      <td>Brog</td>\n",
       "      <td>0.543210</td>\n",
       "      <td>1.016760</td>\n",
       "      <td>35.9</td>\n",
       "      <td>Kevin Durant</td>\n",
       "      <td>SF, PF</td>\n",
       "      <td>2.643678</td>\n",
       "      <td>0.987986</td>\n",
       "      <td>0.141787</td>\n",
       "      <td>2.678504</td>\n",
       "      <td>2.086572</td>\n",
       "    </tr>\n",
       "  </tbody>\n",
       "</table>\n",
       "</div>"
      ],
      "text/plain": [
       "        3pm       ast       blk fantasy_team       fg%       ft%  minutes  \\\n",
       "0 -0.280034  1.081334  4.542445         DOIS  0.501711  0.468958     37.3   \n",
       "1  0.048644  0.443639  2.793557         Wood  0.136516  0.341789     34.3   \n",
       "2  3.116304  2.749151  0.073065         Wood -0.054381  0.517868     36.1   \n",
       "3  1.144237  2.013350  0.461706          BEB  0.634509 -0.064171     34.9   \n",
       "4  0.486881  1.768082  1.044669         Brog  0.543210  1.016760     35.9   \n",
       "\n",
       "          player position       pts       reb       stl       fta       fga  \n",
       "0  Anthony Davis    PF, C  2.438952  2.600549  1.819743  3.201486  2.003465  \n",
       "1    Joel Embiid        C  2.202729  2.875028 -0.697191  3.881362  1.816473  \n",
       "2   James Harden   SG, PG  2.753915  0.233170  2.658721  3.619871  2.169679  \n",
       "3   LeBron James   SF, PF  2.580685  0.919367  0.980765  2.678504  2.128125  \n",
       "4   Kevin Durant   SF, PF  2.643678  0.987986  0.141787  2.678504  2.086572  "
      ]
     },
     "execution_count": 103,
     "metadata": {},
     "output_type": "execute_result"
    }
   ],
   "source": [
    "statsTable.head()"
   ]
  },
  {
   "cell_type": "code",
   "execution_count": 104,
   "metadata": {},
   "outputs": [],
   "source": [
    "statsTable['fga_adj'] = statsTable['fga'] + abs(statsTable['fga'].min())\n",
    "statsTable['fta_adj'] = statsTable['fta'] + abs(statsTable['fta'].min())"
   ]
  },
  {
   "cell_type": "code",
   "execution_count": 105,
   "metadata": {},
   "outputs": [],
   "source": [
    "statsTable['fg%_adj'] = statsTable['fg%'] * statsTable['fga_adj']\n",
    "statsTable['ft%_adj'] = statsTable['ft%'] * statsTable['fta_adj']"
   ]
  },
  {
   "cell_type": "code",
   "execution_count": 106,
   "metadata": {},
   "outputs": [],
   "source": [
    "statsTable[['fg%_adj','ft%_adj']] = scaler.fit_transform(statsTable[['fg%_adj','ft%_adj']])"
   ]
  },
  {
   "cell_type": "code",
   "execution_count": 107,
   "metadata": {},
   "outputs": [],
   "source": [
    "statsTable = statsTable.drop(columns = ['fga_adj','fta_adj','fg%','ft%','fta','fga'])"
   ]
  },
  {
   "cell_type": "code",
   "execution_count": 108,
   "metadata": {},
   "outputs": [],
   "source": [
    "statsTable['cumulative'] = statsTable['ft%_adj'] + statsTable['fg%_adj'] + statsTable['ast'] + statsTable['blk'] + statsTable['pts'] + statsTable['reb'] + statsTable['stl'] + statsTable['3pm']  "
   ]
  },
  {
   "cell_type": "code",
   "execution_count": 109,
   "metadata": {},
   "outputs": [],
   "source": [
    "statsTable = statsTable.sort_values('cumulative',ascending=False)"
   ]
  },
  {
   "cell_type": "code",
   "execution_count": 110,
   "metadata": {},
   "outputs": [
    {
     "data": {
      "text/html": [
       "<div>\n",
       "<style scoped>\n",
       "    .dataframe tbody tr th:only-of-type {\n",
       "        vertical-align: middle;\n",
       "    }\n",
       "\n",
       "    .dataframe tbody tr th {\n",
       "        vertical-align: top;\n",
       "    }\n",
       "\n",
       "    .dataframe thead th {\n",
       "        text-align: right;\n",
       "    }\n",
       "</style>\n",
       "<table border=\"1\" class=\"dataframe\">\n",
       "  <thead>\n",
       "    <tr style=\"text-align: right;\">\n",
       "      <th></th>\n",
       "      <th>3pm</th>\n",
       "      <th>ast</th>\n",
       "      <th>blk</th>\n",
       "      <th>fantasy_team</th>\n",
       "      <th>minutes</th>\n",
       "      <th>player</th>\n",
       "      <th>position</th>\n",
       "      <th>pts</th>\n",
       "      <th>reb</th>\n",
       "      <th>stl</th>\n",
       "      <th>fg%_adj</th>\n",
       "      <th>ft%_adj</th>\n",
       "      <th>cumulative</th>\n",
       "    </tr>\n",
       "  </thead>\n",
       "  <tbody>\n",
       "    <tr>\n",
       "      <th>0</th>\n",
       "      <td>-0.280034</td>\n",
       "      <td>1.081334</td>\n",
       "      <td>4.542445</td>\n",
       "      <td>DOIS</td>\n",
       "      <td>37.3</td>\n",
       "      <td>Anthony Davis</td>\n",
       "      <td>PF, C</td>\n",
       "      <td>2.438952</td>\n",
       "      <td>2.600549</td>\n",
       "      <td>1.819743</td>\n",
       "      <td>1.524649</td>\n",
       "      <td>2.060726</td>\n",
       "      <td>15.788364</td>\n",
       "    </tr>\n",
       "    <tr>\n",
       "      <th>2</th>\n",
       "      <td>3.116304</td>\n",
       "      <td>2.749151</td>\n",
       "      <td>0.073065</td>\n",
       "      <td>Wood</td>\n",
       "      <td>36.1</td>\n",
       "      <td>James Harden</td>\n",
       "      <td>SG, PG</td>\n",
       "      <td>2.753915</td>\n",
       "      <td>0.233170</td>\n",
       "      <td>2.658721</td>\n",
       "      <td>-0.447749</td>\n",
       "      <td>2.553004</td>\n",
       "      <td>13.689580</td>\n",
       "    </tr>\n",
       "    <tr>\n",
       "      <th>4</th>\n",
       "      <td>0.486881</td>\n",
       "      <td>1.768082</td>\n",
       "      <td>1.044669</td>\n",
       "      <td>Brog</td>\n",
       "      <td>35.9</td>\n",
       "      <td>Kevin Durant</td>\n",
       "      <td>SF, PF</td>\n",
       "      <td>2.643678</td>\n",
       "      <td>0.987986</td>\n",
       "      <td>0.141787</td>\n",
       "      <td>1.710619</td>\n",
       "      <td>4.277549</td>\n",
       "      <td>13.061253</td>\n",
       "    </tr>\n",
       "    <tr>\n",
       "      <th>7</th>\n",
       "      <td>4.540575</td>\n",
       "      <td>1.522815</td>\n",
       "      <td>-0.509898</td>\n",
       "      <td>gov</td>\n",
       "      <td>33.4</td>\n",
       "      <td>Stephen Curry</td>\n",
       "      <td>PG</td>\n",
       "      <td>2.722419</td>\n",
       "      <td>0.061620</td>\n",
       "      <td>0.561276</td>\n",
       "      <td>1.729897</td>\n",
       "      <td>2.420744</td>\n",
       "      <td>13.049449</td>\n",
       "    </tr>\n",
       "    <tr>\n",
       "      <th>9</th>\n",
       "      <td>-0.937389</td>\n",
       "      <td>1.620922</td>\n",
       "      <td>1.433311</td>\n",
       "      <td>DEKK</td>\n",
       "      <td>33.7</td>\n",
       "      <td>Giannis Antetokounmpo</td>\n",
       "      <td>PF, SF</td>\n",
       "      <td>2.281470</td>\n",
       "      <td>2.772098</td>\n",
       "      <td>1.400254</td>\n",
       "      <td>3.230913</td>\n",
       "      <td>-1.091329</td>\n",
       "      <td>10.710249</td>\n",
       "    </tr>\n",
       "    <tr>\n",
       "      <th>12</th>\n",
       "      <td>0.815559</td>\n",
       "      <td>0.149319</td>\n",
       "      <td>0.073065</td>\n",
       "      <td>YOC</td>\n",
       "      <td>34.6</td>\n",
       "      <td>Kawhi Leonard</td>\n",
       "      <td>SF</td>\n",
       "      <td>2.218477</td>\n",
       "      <td>1.159535</td>\n",
       "      <td>2.239232</td>\n",
       "      <td>1.022094</td>\n",
       "      <td>2.346953</td>\n",
       "      <td>10.024234</td>\n",
       "    </tr>\n",
       "    <tr>\n",
       "      <th>8</th>\n",
       "      <td>2.239830</td>\n",
       "      <td>0.836067</td>\n",
       "      <td>0.461706</td>\n",
       "      <td>BXV</td>\n",
       "      <td>34.9</td>\n",
       "      <td>Paul George</td>\n",
       "      <td>SF</td>\n",
       "      <td>1.840521</td>\n",
       "      <td>1.056606</td>\n",
       "      <td>2.868465</td>\n",
       "      <td>-0.912397</td>\n",
       "      <td>1.180610</td>\n",
       "      <td>9.571408</td>\n",
       "    </tr>\n",
       "    <tr>\n",
       "      <th>10</th>\n",
       "      <td>0.815559</td>\n",
       "      <td>-0.194055</td>\n",
       "      <td>2.210594</td>\n",
       "      <td>WILL</td>\n",
       "      <td>33.7</td>\n",
       "      <td>Karl-Anthony Towns</td>\n",
       "      <td>C</td>\n",
       "      <td>1.415320</td>\n",
       "      <td>2.429000</td>\n",
       "      <td>0.351532</td>\n",
       "      <td>0.818314</td>\n",
       "      <td>1.712702</td>\n",
       "      <td>9.558966</td>\n",
       "    </tr>\n",
       "    <tr>\n",
       "      <th>1</th>\n",
       "      <td>0.048644</td>\n",
       "      <td>0.443639</td>\n",
       "      <td>2.793557</td>\n",
       "      <td>Wood</td>\n",
       "      <td>34.3</td>\n",
       "      <td>Joel Embiid</td>\n",
       "      <td>C</td>\n",
       "      <td>2.202729</td>\n",
       "      <td>2.875028</td>\n",
       "      <td>-0.697191</td>\n",
       "      <td>0.212260</td>\n",
       "      <td>1.667494</td>\n",
       "      <td>9.546161</td>\n",
       "    </tr>\n",
       "    <tr>\n",
       "      <th>3</th>\n",
       "      <td>1.144237</td>\n",
       "      <td>2.013350</td>\n",
       "      <td>0.461706</td>\n",
       "      <td>BEB</td>\n",
       "      <td>34.9</td>\n",
       "      <td>LeBron James</td>\n",
       "      <td>SF, PF</td>\n",
       "      <td>2.580685</td>\n",
       "      <td>0.919367</td>\n",
       "      <td>0.980765</td>\n",
       "      <td>2.062758</td>\n",
       "      <td>-0.635993</td>\n",
       "      <td>9.526876</td>\n",
       "    </tr>\n",
       "    <tr>\n",
       "      <th>6</th>\n",
       "      <td>1.911152</td>\n",
       "      <td>1.817136</td>\n",
       "      <td>-0.121256</td>\n",
       "      <td>Brog</td>\n",
       "      <td>35.2</td>\n",
       "      <td>Damian Lillard</td>\n",
       "      <td>PG</td>\n",
       "      <td>2.344463</td>\n",
       "      <td>0.061620</td>\n",
       "      <td>-0.067957</td>\n",
       "      <td>-0.324502</td>\n",
       "      <td>3.365554</td>\n",
       "      <td>8.986209</td>\n",
       "    </tr>\n",
       "    <tr>\n",
       "      <th>47</th>\n",
       "      <td>0.048644</td>\n",
       "      <td>0.492693</td>\n",
       "      <td>0.850348</td>\n",
       "      <td>BEB</td>\n",
       "      <td>30.9</td>\n",
       "      <td>Nikola Vucevic</td>\n",
       "      <td>C</td>\n",
       "      <td>1.368076</td>\n",
       "      <td>2.188831</td>\n",
       "      <td>0.351532</td>\n",
       "      <td>2.257441</td>\n",
       "      <td>0.638393</td>\n",
       "      <td>8.195957</td>\n",
       "    </tr>\n",
       "    <tr>\n",
       "      <th>16</th>\n",
       "      <td>0.486881</td>\n",
       "      <td>0.443639</td>\n",
       "      <td>0.461706</td>\n",
       "      <td>ROOK</td>\n",
       "      <td>34.9</td>\n",
       "      <td>Jimmy Butler</td>\n",
       "      <td>SG, SF</td>\n",
       "      <td>1.431068</td>\n",
       "      <td>0.095930</td>\n",
       "      <td>2.868465</td>\n",
       "      <td>0.659897</td>\n",
       "      <td>1.441035</td>\n",
       "      <td>7.888623</td>\n",
       "    </tr>\n",
       "    <tr>\n",
       "      <th>17</th>\n",
       "      <td>1.582474</td>\n",
       "      <td>1.817136</td>\n",
       "      <td>-0.121256</td>\n",
       "      <td>BEB</td>\n",
       "      <td>32.0</td>\n",
       "      <td>Kyrie Irving</td>\n",
       "      <td>PG</td>\n",
       "      <td>1.557054</td>\n",
       "      <td>-0.075619</td>\n",
       "      <td>1.819743</td>\n",
       "      <td>0.802136</td>\n",
       "      <td>0.449946</td>\n",
       "      <td>7.831614</td>\n",
       "    </tr>\n",
       "    <tr>\n",
       "      <th>11</th>\n",
       "      <td>2.239830</td>\n",
       "      <td>1.719029</td>\n",
       "      <td>-0.315577</td>\n",
       "      <td>WILL</td>\n",
       "      <td>34.9</td>\n",
       "      <td>Kemba Walker</td>\n",
       "      <td>PG</td>\n",
       "      <td>2.123988</td>\n",
       "      <td>-0.212858</td>\n",
       "      <td>0.980765</td>\n",
       "      <td>-0.471460</td>\n",
       "      <td>1.524780</td>\n",
       "      <td>7.588497</td>\n",
       "    </tr>\n",
       "    <tr>\n",
       "      <th>5</th>\n",
       "      <td>0.048644</td>\n",
       "      <td>3.681167</td>\n",
       "      <td>-0.898540</td>\n",
       "      <td>PREZ</td>\n",
       "      <td>33.5</td>\n",
       "      <td>Russell Westbrook</td>\n",
       "      <td>PG</td>\n",
       "      <td>1.651543</td>\n",
       "      <td>1.948662</td>\n",
       "      <td>2.658721</td>\n",
       "      <td>0.173704</td>\n",
       "      <td>-1.910332</td>\n",
       "      <td>7.353568</td>\n",
       "    </tr>\n",
       "    <tr>\n",
       "      <th>24</th>\n",
       "      <td>0.158204</td>\n",
       "      <td>3.141579</td>\n",
       "      <td>0.461706</td>\n",
       "      <td>Wood</td>\n",
       "      <td>36.5</td>\n",
       "      <td>Jrue Holiday</td>\n",
       "      <td>PG, SG</td>\n",
       "      <td>1.273587</td>\n",
       "      <td>-0.178548</td>\n",
       "      <td>1.819743</td>\n",
       "      <td>0.458045</td>\n",
       "      <td>0.139274</td>\n",
       "      <td>7.273589</td>\n",
       "    </tr>\n",
       "    <tr>\n",
       "      <th>13</th>\n",
       "      <td>-0.170474</td>\n",
       "      <td>2.454831</td>\n",
       "      <td>0.461706</td>\n",
       "      <td>DEKK</td>\n",
       "      <td>30.1</td>\n",
       "      <td>Nikola Jokic</td>\n",
       "      <td>C</td>\n",
       "      <td>0.643659</td>\n",
       "      <td>1.605563</td>\n",
       "      <td>0.980765</td>\n",
       "      <td>0.165048</td>\n",
       "      <td>0.869721</td>\n",
       "      <td>7.010819</td>\n",
       "    </tr>\n",
       "    <tr>\n",
       "      <th>33</th>\n",
       "      <td>0.706000</td>\n",
       "      <td>0.639853</td>\n",
       "      <td>1.627632</td>\n",
       "      <td>PREZ</td>\n",
       "      <td>35.5</td>\n",
       "      <td>Marc Gasol</td>\n",
       "      <td>C</td>\n",
       "      <td>0.785393</td>\n",
       "      <td>1.468324</td>\n",
       "      <td>1.400254</td>\n",
       "      <td>-0.098807</td>\n",
       "      <td>-0.158343</td>\n",
       "      <td>6.370306</td>\n",
       "    </tr>\n",
       "    <tr>\n",
       "      <th>15</th>\n",
       "      <td>-1.046949</td>\n",
       "      <td>1.620922</td>\n",
       "      <td>-0.121256</td>\n",
       "      <td>gov</td>\n",
       "      <td>35.6</td>\n",
       "      <td>DeMar DeRozan</td>\n",
       "      <td>SG, SF</td>\n",
       "      <td>1.950758</td>\n",
       "      <td>0.267480</td>\n",
       "      <td>0.351532</td>\n",
       "      <td>0.862240</td>\n",
       "      <td>2.288839</td>\n",
       "      <td>6.173566</td>\n",
       "    </tr>\n",
       "  </tbody>\n",
       "</table>\n",
       "</div>"
      ],
      "text/plain": [
       "         3pm       ast       blk fantasy_team  minutes                 player  \\\n",
       "0  -0.280034  1.081334  4.542445         DOIS     37.3          Anthony Davis   \n",
       "2   3.116304  2.749151  0.073065         Wood     36.1           James Harden   \n",
       "4   0.486881  1.768082  1.044669         Brog     35.9           Kevin Durant   \n",
       "7   4.540575  1.522815 -0.509898          gov     33.4          Stephen Curry   \n",
       "9  -0.937389  1.620922  1.433311         DEKK     33.7  Giannis Antetokounmpo   \n",
       "12  0.815559  0.149319  0.073065          YOC     34.6          Kawhi Leonard   \n",
       "8   2.239830  0.836067  0.461706          BXV     34.9            Paul George   \n",
       "10  0.815559 -0.194055  2.210594         WILL     33.7     Karl-Anthony Towns   \n",
       "1   0.048644  0.443639  2.793557         Wood     34.3            Joel Embiid   \n",
       "3   1.144237  2.013350  0.461706          BEB     34.9           LeBron James   \n",
       "6   1.911152  1.817136 -0.121256         Brog     35.2         Damian Lillard   \n",
       "47  0.048644  0.492693  0.850348          BEB     30.9         Nikola Vucevic   \n",
       "16  0.486881  0.443639  0.461706         ROOK     34.9           Jimmy Butler   \n",
       "17  1.582474  1.817136 -0.121256          BEB     32.0           Kyrie Irving   \n",
       "11  2.239830  1.719029 -0.315577         WILL     34.9           Kemba Walker   \n",
       "5   0.048644  3.681167 -0.898540         PREZ     33.5      Russell Westbrook   \n",
       "24  0.158204  3.141579  0.461706         Wood     36.5           Jrue Holiday   \n",
       "13 -0.170474  2.454831  0.461706         DEKK     30.1           Nikola Jokic   \n",
       "33  0.706000  0.639853  1.627632         PREZ     35.5             Marc Gasol   \n",
       "15 -1.046949  1.620922 -0.121256          gov     35.6          DeMar DeRozan   \n",
       "\n",
       "   position       pts       reb       stl   fg%_adj   ft%_adj  cumulative  \n",
       "0     PF, C  2.438952  2.600549  1.819743  1.524649  2.060726   15.788364  \n",
       "2    SG, PG  2.753915  0.233170  2.658721 -0.447749  2.553004   13.689580  \n",
       "4    SF, PF  2.643678  0.987986  0.141787  1.710619  4.277549   13.061253  \n",
       "7        PG  2.722419  0.061620  0.561276  1.729897  2.420744   13.049449  \n",
       "9    PF, SF  2.281470  2.772098  1.400254  3.230913 -1.091329   10.710249  \n",
       "12       SF  2.218477  1.159535  2.239232  1.022094  2.346953   10.024234  \n",
       "8        SF  1.840521  1.056606  2.868465 -0.912397  1.180610    9.571408  \n",
       "10        C  1.415320  2.429000  0.351532  0.818314  1.712702    9.558966  \n",
       "1         C  2.202729  2.875028 -0.697191  0.212260  1.667494    9.546161  \n",
       "3    SF, PF  2.580685  0.919367  0.980765  2.062758 -0.635993    9.526876  \n",
       "6        PG  2.344463  0.061620 -0.067957 -0.324502  3.365554    8.986209  \n",
       "47        C  1.368076  2.188831  0.351532  2.257441  0.638393    8.195957  \n",
       "16   SG, SF  1.431068  0.095930  2.868465  0.659897  1.441035    7.888623  \n",
       "17       PG  1.557054 -0.075619  1.819743  0.802136  0.449946    7.831614  \n",
       "11       PG  2.123988 -0.212858  0.980765 -0.471460  1.524780    7.588497  \n",
       "5        PG  1.651543  1.948662  2.658721  0.173704 -1.910332    7.353568  \n",
       "24   PG, SG  1.273587 -0.178548  1.819743  0.458045  0.139274    7.273589  \n",
       "13        C  0.643659  1.605563  0.980765  0.165048  0.869721    7.010819  \n",
       "33        C  0.785393  1.468324  1.400254 -0.098807 -0.158343    6.370306  \n",
       "15   SG, SF  1.950758  0.267480  0.351532  0.862240  2.288839    6.173566  "
      ]
     },
     "execution_count": 110,
     "metadata": {},
     "output_type": "execute_result"
    }
   ],
   "source": [
    "statsTable.head(20)"
   ]
  },
  {
   "cell_type": "markdown",
   "metadata": {},
   "source": [
    "## My team"
   ]
  },
  {
   "cell_type": "code",
   "execution_count": 111,
   "metadata": {},
   "outputs": [
    {
     "data": {
      "text/plain": [
       "(14, 13)"
      ]
     },
     "execution_count": 111,
     "metadata": {},
     "output_type": "execute_result"
    }
   ],
   "source": [
    "my_team = statsTable.loc[statsTable.fantasy_team == 'Brog']\n",
    "my_team = my_team.loc[my_team['minutes'] > 0]\n",
    "my_team.shape"
   ]
  },
  {
   "cell_type": "code",
   "execution_count": 112,
   "metadata": {},
   "outputs": [
    {
     "data": {
      "text/html": [
       "<div>\n",
       "<style scoped>\n",
       "    .dataframe tbody tr th:only-of-type {\n",
       "        vertical-align: middle;\n",
       "    }\n",
       "\n",
       "    .dataframe tbody tr th {\n",
       "        vertical-align: top;\n",
       "    }\n",
       "\n",
       "    .dataframe thead th {\n",
       "        text-align: right;\n",
       "    }\n",
       "</style>\n",
       "<table border=\"1\" class=\"dataframe\">\n",
       "  <thead>\n",
       "    <tr style=\"text-align: right;\">\n",
       "      <th></th>\n",
       "      <th>3pm</th>\n",
       "      <th>ast</th>\n",
       "      <th>blk</th>\n",
       "      <th>fantasy_team</th>\n",
       "      <th>minutes</th>\n",
       "      <th>player</th>\n",
       "      <th>position</th>\n",
       "      <th>pts</th>\n",
       "      <th>reb</th>\n",
       "      <th>stl</th>\n",
       "      <th>fg%_adj</th>\n",
       "      <th>ft%_adj</th>\n",
       "      <th>cumulative</th>\n",
       "    </tr>\n",
       "  </thead>\n",
       "  <tbody>\n",
       "    <tr>\n",
       "      <th>4</th>\n",
       "      <td>0.486881</td>\n",
       "      <td>1.768082</td>\n",
       "      <td>1.044669</td>\n",
       "      <td>Brog</td>\n",
       "      <td>35.9</td>\n",
       "      <td>Kevin Durant</td>\n",
       "      <td>SF, PF</td>\n",
       "      <td>2.643678</td>\n",
       "      <td>0.987986</td>\n",
       "      <td>0.141787</td>\n",
       "      <td>1.710619</td>\n",
       "      <td>4.277549</td>\n",
       "      <td>13.061253</td>\n",
       "    </tr>\n",
       "    <tr>\n",
       "      <th>6</th>\n",
       "      <td>1.911152</td>\n",
       "      <td>1.817136</td>\n",
       "      <td>-0.121256</td>\n",
       "      <td>Brog</td>\n",
       "      <td>35.2</td>\n",
       "      <td>Damian Lillard</td>\n",
       "      <td>PG</td>\n",
       "      <td>2.344463</td>\n",
       "      <td>0.061620</td>\n",
       "      <td>-0.067957</td>\n",
       "      <td>-0.324502</td>\n",
       "      <td>3.365554</td>\n",
       "      <td>8.986209</td>\n",
       "    </tr>\n",
       "    <tr>\n",
       "      <th>18</th>\n",
       "      <td>-1.156508</td>\n",
       "      <td>-0.684590</td>\n",
       "      <td>2.210594</td>\n",
       "      <td>Brog</td>\n",
       "      <td>32.8</td>\n",
       "      <td>Andre Drummond</td>\n",
       "      <td>C</td>\n",
       "      <td>0.911378</td>\n",
       "      <td>3.561224</td>\n",
       "      <td>1.190510</td>\n",
       "      <td>1.183297</td>\n",
       "      <td>-3.624365</td>\n",
       "      <td>3.591541</td>\n",
       "    </tr>\n",
       "    <tr>\n",
       "      <th>142</th>\n",
       "      <td>2.020711</td>\n",
       "      <td>-0.095949</td>\n",
       "      <td>-0.121256</td>\n",
       "      <td>Brog</td>\n",
       "      <td>35.5</td>\n",
       "      <td>Justin Holiday</td>\n",
       "      <td>SG, SF</td>\n",
       "      <td>0.076725</td>\n",
       "      <td>-0.075619</td>\n",
       "      <td>2.029487</td>\n",
       "      <td>-0.642774</td>\n",
       "      <td>0.050467</td>\n",
       "      <td>3.241793</td>\n",
       "    </tr>\n",
       "    <tr>\n",
       "      <th>86</th>\n",
       "      <td>0.706000</td>\n",
       "      <td>-0.684590</td>\n",
       "      <td>0.461706</td>\n",
       "      <td>Brog</td>\n",
       "      <td>30.0</td>\n",
       "      <td>T.J. Warren</td>\n",
       "      <td>SF, PF</td>\n",
       "      <td>0.848386</td>\n",
       "      <td>-0.281478</td>\n",
       "      <td>0.351532</td>\n",
       "      <td>1.070949</td>\n",
       "      <td>0.581202</td>\n",
       "      <td>3.053707</td>\n",
       "    </tr>\n",
       "    <tr>\n",
       "      <th>97</th>\n",
       "      <td>1.472915</td>\n",
       "      <td>-0.046895</td>\n",
       "      <td>-0.121256</td>\n",
       "      <td>Brog</td>\n",
       "      <td>30.8</td>\n",
       "      <td>Buddy Hield</td>\n",
       "      <td>SG</td>\n",
       "      <td>1.005868</td>\n",
       "      <td>0.198860</td>\n",
       "      <td>-0.697191</td>\n",
       "      <td>0.484100</td>\n",
       "      <td>0.438818</td>\n",
       "      <td>2.735219</td>\n",
       "    </tr>\n",
       "    <tr>\n",
       "      <th>21</th>\n",
       "      <td>-1.266067</td>\n",
       "      <td>-0.194055</td>\n",
       "      <td>1.238990</td>\n",
       "      <td>Brog</td>\n",
       "      <td>33.4</td>\n",
       "      <td>LaMarcus Aldridge</td>\n",
       "      <td>PF, C</td>\n",
       "      <td>0.911378</td>\n",
       "      <td>1.742803</td>\n",
       "      <td>-0.906935</td>\n",
       "      <td>-0.142750</td>\n",
       "      <td>1.208145</td>\n",
       "      <td>2.591508</td>\n",
       "    </tr>\n",
       "    <tr>\n",
       "      <th>106</th>\n",
       "      <td>0.706000</td>\n",
       "      <td>0.345532</td>\n",
       "      <td>-0.704219</td>\n",
       "      <td>Brog</td>\n",
       "      <td>30.2</td>\n",
       "      <td>Malcolm Brogdon</td>\n",
       "      <td>SG, PG</td>\n",
       "      <td>0.470430</td>\n",
       "      <td>-0.144239</td>\n",
       "      <td>-0.697191</td>\n",
       "      <td>0.983225</td>\n",
       "      <td>0.968562</td>\n",
       "      <td>1.928101</td>\n",
       "    </tr>\n",
       "    <tr>\n",
       "      <th>126</th>\n",
       "      <td>1.144237</td>\n",
       "      <td>0.296479</td>\n",
       "      <td>-0.898540</td>\n",
       "      <td>Brog</td>\n",
       "      <td>25.7</td>\n",
       "      <td>Bogdan Bogdanovic</td>\n",
       "      <td>SF, SG</td>\n",
       "      <td>0.486178</td>\n",
       "      <td>-0.624576</td>\n",
       "      <td>-0.487446</td>\n",
       "      <td>-0.315586</td>\n",
       "      <td>0.959304</td>\n",
       "      <td>0.560049</td>\n",
       "    </tr>\n",
       "    <tr>\n",
       "      <th>198</th>\n",
       "      <td>-0.608711</td>\n",
       "      <td>-0.929857</td>\n",
       "      <td>1.238990</td>\n",
       "      <td>Brog</td>\n",
       "      <td>21.7</td>\n",
       "      <td>Dewayne Dedmon</td>\n",
       "      <td>C</td>\n",
       "      <td>-0.710684</td>\n",
       "      <td>0.610578</td>\n",
       "      <td>0.561276</td>\n",
       "      <td>-0.315734</td>\n",
       "      <td>0.225915</td>\n",
       "      <td>0.071773</td>\n",
       "    </tr>\n",
       "    <tr>\n",
       "      <th>171</th>\n",
       "      <td>0.267763</td>\n",
       "      <td>-1.027964</td>\n",
       "      <td>-0.315577</td>\n",
       "      <td>Brog</td>\n",
       "      <td>29.6</td>\n",
       "      <td>Al-Farouq Aminu</td>\n",
       "      <td>PF</td>\n",
       "      <td>-0.505957</td>\n",
       "      <td>1.090916</td>\n",
       "      <td>0.351532</td>\n",
       "      <td>-0.327245</td>\n",
       "      <td>0.306696</td>\n",
       "      <td>-0.159837</td>\n",
       "    </tr>\n",
       "    <tr>\n",
       "      <th>211</th>\n",
       "      <td>-1.156508</td>\n",
       "      <td>-0.341216</td>\n",
       "      <td>0.267386</td>\n",
       "      <td>Brog</td>\n",
       "      <td>24.2</td>\n",
       "      <td>Cody Zeller</td>\n",
       "      <td>C</td>\n",
       "      <td>-0.474461</td>\n",
       "      <td>0.164550</td>\n",
       "      <td>-0.067957</td>\n",
       "      <td>0.909922</td>\n",
       "      <td>0.487024</td>\n",
       "      <td>-0.211260</td>\n",
       "    </tr>\n",
       "    <tr>\n",
       "      <th>173</th>\n",
       "      <td>0.377322</td>\n",
       "      <td>-0.243109</td>\n",
       "      <td>-0.704219</td>\n",
       "      <td>Brog</td>\n",
       "      <td>30.3</td>\n",
       "      <td>E'Twaun Moore</td>\n",
       "      <td>SF, SG</td>\n",
       "      <td>0.328696</td>\n",
       "      <td>-0.830435</td>\n",
       "      <td>-0.277702</td>\n",
       "      <td>0.918553</td>\n",
       "      <td>-0.468799</td>\n",
       "      <td>-0.899693</td>\n",
       "    </tr>\n",
       "    <tr>\n",
       "      <th>107</th>\n",
       "      <td>-0.170474</td>\n",
       "      <td>2.111456</td>\n",
       "      <td>-1.092861</td>\n",
       "      <td>Brog</td>\n",
       "      <td>30.0</td>\n",
       "      <td>Kris Dunn</td>\n",
       "      <td>PG</td>\n",
       "      <td>-0.521706</td>\n",
       "      <td>-0.315788</td>\n",
       "      <td>-1.745913</td>\n",
       "      <td>-2.936544</td>\n",
       "      <td>-0.344293</td>\n",
       "      <td>-5.016122</td>\n",
       "    </tr>\n",
       "  </tbody>\n",
       "</table>\n",
       "</div>"
      ],
      "text/plain": [
       "          3pm       ast       blk fantasy_team  minutes             player  \\\n",
       "4    0.486881  1.768082  1.044669         Brog     35.9       Kevin Durant   \n",
       "6    1.911152  1.817136 -0.121256         Brog     35.2     Damian Lillard   \n",
       "18  -1.156508 -0.684590  2.210594         Brog     32.8     Andre Drummond   \n",
       "142  2.020711 -0.095949 -0.121256         Brog     35.5     Justin Holiday   \n",
       "86   0.706000 -0.684590  0.461706         Brog     30.0        T.J. Warren   \n",
       "97   1.472915 -0.046895 -0.121256         Brog     30.8        Buddy Hield   \n",
       "21  -1.266067 -0.194055  1.238990         Brog     33.4  LaMarcus Aldridge   \n",
       "106  0.706000  0.345532 -0.704219         Brog     30.2    Malcolm Brogdon   \n",
       "126  1.144237  0.296479 -0.898540         Brog     25.7  Bogdan Bogdanovic   \n",
       "198 -0.608711 -0.929857  1.238990         Brog     21.7     Dewayne Dedmon   \n",
       "171  0.267763 -1.027964 -0.315577         Brog     29.6    Al-Farouq Aminu   \n",
       "211 -1.156508 -0.341216  0.267386         Brog     24.2        Cody Zeller   \n",
       "173  0.377322 -0.243109 -0.704219         Brog     30.3      E'Twaun Moore   \n",
       "107 -0.170474  2.111456 -1.092861         Brog     30.0          Kris Dunn   \n",
       "\n",
       "    position       pts       reb       stl   fg%_adj   ft%_adj  cumulative  \n",
       "4     SF, PF  2.643678  0.987986  0.141787  1.710619  4.277549   13.061253  \n",
       "6         PG  2.344463  0.061620 -0.067957 -0.324502  3.365554    8.986209  \n",
       "18         C  0.911378  3.561224  1.190510  1.183297 -3.624365    3.591541  \n",
       "142   SG, SF  0.076725 -0.075619  2.029487 -0.642774  0.050467    3.241793  \n",
       "86    SF, PF  0.848386 -0.281478  0.351532  1.070949  0.581202    3.053707  \n",
       "97        SG  1.005868  0.198860 -0.697191  0.484100  0.438818    2.735219  \n",
       "21     PF, C  0.911378  1.742803 -0.906935 -0.142750  1.208145    2.591508  \n",
       "106   SG, PG  0.470430 -0.144239 -0.697191  0.983225  0.968562    1.928101  \n",
       "126   SF, SG  0.486178 -0.624576 -0.487446 -0.315586  0.959304    0.560049  \n",
       "198        C -0.710684  0.610578  0.561276 -0.315734  0.225915    0.071773  \n",
       "171       PF -0.505957  1.090916  0.351532 -0.327245  0.306696   -0.159837  \n",
       "211        C -0.474461  0.164550 -0.067957  0.909922  0.487024   -0.211260  \n",
       "173   SF, SG  0.328696 -0.830435 -0.277702  0.918553 -0.468799   -0.899693  \n",
       "107       PG -0.521706 -0.315788 -1.745913 -2.936544 -0.344293   -5.016122  "
      ]
     },
     "execution_count": 112,
     "metadata": {},
     "output_type": "execute_result"
    }
   ],
   "source": [
    "my_team"
   ]
  },
  {
   "cell_type": "code",
   "execution_count": 113,
   "metadata": {},
   "outputs": [
    {
     "data": {
      "text/plain": [
       "ast        2.090462\n",
       "blk        2.383151\n",
       "pts        7.814371\n",
       "reb        6.146402\n",
       "stl       -0.322167\n",
       "3pm        4.734714\n",
       "ft%_adj    8.431778\n",
       "fg%_adj    2.255530\n",
       "dtype: float64"
      ]
     },
     "execution_count": 113,
     "metadata": {},
     "output_type": "execute_result"
    }
   ],
   "source": [
    "my_team[['ast','blk','pts','reb','stl','3pm','ft%_adj','fg%_adj']].sum(axis=0)"
   ]
  },
  {
   "cell_type": "code",
   "execution_count": 114,
   "metadata": {},
   "outputs": [
    {
     "data": {
      "text/plain": [
       "(13, 13)"
      ]
     },
     "execution_count": 114,
     "metadata": {},
     "output_type": "execute_result"
    }
   ],
   "source": [
    "opp_team =  statsTable.loc[statsTable.fantasy_team == 'Wood']\n",
    "opp_team = opp_team.loc[opp_team['minutes'] > 0]\n",
    "opp_team.shape"
   ]
  },
  {
   "cell_type": "code",
   "execution_count": 115,
   "metadata": {},
   "outputs": [
    {
     "data": {
      "text/plain": [
       "ast       -7.404912\n",
       "blk       -4.201995\n",
       "pts       -3.088658\n",
       "reb        0.267480\n",
       "stl       -1.536168\n",
       "3pm        2.787626\n",
       "ft%_adj    6.481078\n",
       "fg%_adj   -6.210312\n",
       "dtype: float64"
      ]
     },
     "execution_count": 115,
     "metadata": {},
     "output_type": "execute_result"
    }
   ],
   "source": [
    "# diff\n",
    "my_team[['ast','blk','pts','reb','stl','3pm','ft%_adj','fg%_adj']].sum(axis=0) - opp_team[['ast','blk','pts','reb','stl','3pm','ft%_adj','fg%_adj']].sum(axis=0)"
   ]
  },
  {
   "cell_type": "code",
   "execution_count": 116,
   "metadata": {},
   "outputs": [],
   "source": [
    "# rather than use PR, use stat averages, and num games played during the matchup."
   ]
  },
  {
   "cell_type": "markdown",
   "metadata": {},
   "source": [
    "## Some plots"
   ]
  },
  {
   "cell_type": "code",
   "execution_count": 117,
   "metadata": {},
   "outputs": [],
   "source": [
    "# 14 players on roster including IR, so let's focus on 12*14 = 168 players\n",
    "# but there is a pool of free agents that people would consider adding. I think 250 could be a good number."
   ]
  },
  {
   "cell_type": "code",
   "execution_count": 118,
   "metadata": {},
   "outputs": [
    {
     "data": {
      "text/plain": [
       "3pm                     1.03468\n",
       "ast                    -1.07702\n",
       "blk                    0.267386\n",
       "fantasy_team                 FA\n",
       "minutes                    29.4\n",
       "player          Carmelo Anthony\n",
       "position                 PF, SF\n",
       "pts                    0.171214\n",
       "reb                     0.16455\n",
       "stl                   -0.906935\n",
       "fg%_adj               -0.985565\n",
       "ft%_adj               -0.589611\n",
       "cumulative              -1.9213\n",
       "Name: 129, dtype: object"
      ]
     },
     "execution_count": 118,
     "metadata": {},
     "output_type": "execute_result"
    }
   ],
   "source": [
    "statsTable.iloc[168]"
   ]
  },
  {
   "cell_type": "code",
   "execution_count": 119,
   "metadata": {},
   "outputs": [
    {
     "name": "stderr",
     "output_type": "stream",
     "text": [
      "/Users/codyschank/anaconda3/lib/python3.6/site-packages/matplotlib/axes/_axes.py:6462: UserWarning: The 'normed' kwarg is deprecated, and has been replaced by the 'density' kwarg.\n",
      "  warnings.warn(\"The 'normed' kwarg is deprecated, and has been \"\n",
      "No handles with labels found to put in legend.\n"
     ]
    },
    {
     "data": {
      "image/png": "[encoded data removed]",
      "text/plain": [
       "<Figure size 432x288 with 1 Axes>"
      ]
     },
     "metadata": {},
     "output_type": "display_data"
    }
   ],
   "source": [
    "sns.distplot(statsTable.cumulative)\n",
    "plt.legend()\n",
    "plt.show()"
   ]
  },
  {
   "cell_type": "code",
   "execution_count": 127,
   "metadata": {},
   "outputs": [
    {
     "name": "stderr",
     "output_type": "stream",
     "text": [
      "/Users/codyschank/anaconda3/lib/python3.6/site-packages/matplotlib/axes/_axes.py:6462: UserWarning: The 'normed' kwarg is deprecated, and has been replaced by the 'density' kwarg.\n",
      "  warnings.warn(\"The 'normed' kwarg is deprecated, and has been \"\n",
      "No handles with labels found to put in legend.\n"
     ]
    },
    {
     "data": {
      "image/png": "[encoded data removed]",
      "text/plain": [
       "<Figure size 432x288 with 1 Axes>"
      ]
     },
     "metadata": {},
     "output_type": "display_data"
    }
   ],
   "source": [
    "sns.distplot(statsTable.pts)\n",
    "plt.legend()\n",
    "plt.show()"
   ]
  },
  {
   "cell_type": "code",
   "execution_count": 120,
   "metadata": {},
   "outputs": [
    {
     "name": "stderr",
     "output_type": "stream",
     "text": [
      "/Users/codyschank/anaconda3/lib/python3.6/site-packages/matplotlib/axes/_axes.py:6462: UserWarning: The 'normed' kwarg is deprecated, and has been replaced by the 'density' kwarg.\n",
      "  warnings.warn(\"The 'normed' kwarg is deprecated, and has been \"\n",
      "No handles with labels found to put in legend.\n"
     ]
    },
    {
     "data": {
      "image/png": "[encoded data removed]",
      "text/plain": [
       "<Figure size 432x288 with 1 Axes>"
      ]
     },
     "metadata": {},
     "output_type": "display_data"
    }
   ],
   "source": [
    "sns.distplot(statsTable.reb)\n",
    "plt.legend()\n",
    "plt.show()"
   ]
  },
  {
   "cell_type": "code",
   "execution_count": 121,
   "metadata": {},
   "outputs": [
    {
     "name": "stderr",
     "output_type": "stream",
     "text": [
      "/Users/codyschank/anaconda3/lib/python3.6/site-packages/matplotlib/axes/_axes.py:6462: UserWarning: The 'normed' kwarg is deprecated, and has been replaced by the 'density' kwarg.\n",
      "  warnings.warn(\"The 'normed' kwarg is deprecated, and has been \"\n",
      "No handles with labels found to put in legend.\n"
     ]
    },
    {
     "data": {
      "image/png": "[encoded data removed]",
      "text/plain": [
       "<Figure size 432x288 with 1 Axes>"
      ]
     },
     "metadata": {},
     "output_type": "display_data"
    }
   ],
   "source": [
    "sns.distplot(statsTable.ast)\n",
    "plt.legend()\n",
    "plt.show()"
   ]
  },
  {
   "cell_type": "code",
   "execution_count": 122,
   "metadata": {},
   "outputs": [
    {
     "name": "stderr",
     "output_type": "stream",
     "text": [
      "/Users/codyschank/anaconda3/lib/python3.6/site-packages/matplotlib/axes/_axes.py:6462: UserWarning: The 'normed' kwarg is deprecated, and has been replaced by the 'density' kwarg.\n",
      "  warnings.warn(\"The 'normed' kwarg is deprecated, and has been \"\n",
      "No handles with labels found to put in legend.\n"
     ]
    },
    {
     "data": {
      "image/png": "[encoded data removed]",
      "text/plain": [
       "<Figure size 432x288 with 1 Axes>"
      ]
     },
     "metadata": {},
     "output_type": "display_data"
    }
   ],
   "source": [
    "sns.distplot(statsTable.stl)\n",
    "plt.legend()\n",
    "plt.show()"
   ]
  },
  {
   "cell_type": "code",
   "execution_count": 123,
   "metadata": {},
   "outputs": [
    {
     "name": "stderr",
     "output_type": "stream",
     "text": [
      "/Users/codyschank/anaconda3/lib/python3.6/site-packages/matplotlib/axes/_axes.py:6462: UserWarning: The 'normed' kwarg is deprecated, and has been replaced by the 'density' kwarg.\n",
      "  warnings.warn(\"The 'normed' kwarg is deprecated, and has been \"\n",
      "No handles with labels found to put in legend.\n"
     ]
    },
    {
     "data": {
      "image/png": "[encoded data removed]",
      "text/plain": [
       "<Figure size 432x288 with 1 Axes>"
      ]
     },
     "metadata": {},
     "output_type": "display_data"
    }
   ],
   "source": [
    "sns.distplot(statsTable.blk)\n",
    "plt.legend()\n",
    "plt.show()"
   ]
  },
  {
   "cell_type": "code",
   "execution_count": 124,
   "metadata": {},
   "outputs": [
    {
     "name": "stderr",
     "output_type": "stream",
     "text": [
      "/Users/codyschank/anaconda3/lib/python3.6/site-packages/matplotlib/axes/_axes.py:6462: UserWarning: The 'normed' kwarg is deprecated, and has been replaced by the 'density' kwarg.\n",
      "  warnings.warn(\"The 'normed' kwarg is deprecated, and has been \"\n",
      "No handles with labels found to put in legend.\n"
     ]
    },
    {
     "data": {
      "image/png": "[encoded data removed]",
      "text/plain": [
       "<Figure size 432x288 with 1 Axes>"
      ]
     },
     "metadata": {},
     "output_type": "display_data"
    }
   ],
   "source": [
    "sns.distplot(statsTable['3pm'])\n",
    "plt.legend()\n",
    "plt.show()"
   ]
  },
  {
   "cell_type": "code",
   "execution_count": 125,
   "metadata": {},
   "outputs": [
    {
     "name": "stderr",
     "output_type": "stream",
     "text": [
      "/Users/codyschank/anaconda3/lib/python3.6/site-packages/matplotlib/axes/_axes.py:6462: UserWarning: The 'normed' kwarg is deprecated, and has been replaced by the 'density' kwarg.\n",
      "  warnings.warn(\"The 'normed' kwarg is deprecated, and has been \"\n",
      "No handles with labels found to put in legend.\n"
     ]
    },
    {
     "data": {
      "image/png": "[encoded data removed]",
      "text/plain": [
       "<Figure size 432x288 with 1 Axes>"
      ]
     },
     "metadata": {},
     "output_type": "display_data"
    }
   ],
   "source": [
    "sns.distplot(statsTable['ft%_adj'])\n",
    "plt.legend()\n",
    "plt.show()"
   ]
  },
  {
   "cell_type": "code",
   "execution_count": 126,
   "metadata": {},
   "outputs": [
    {
     "name": "stderr",
     "output_type": "stream",
     "text": [
      "/Users/codyschank/anaconda3/lib/python3.6/site-packages/matplotlib/axes/_axes.py:6462: UserWarning: The 'normed' kwarg is deprecated, and has been replaced by the 'density' kwarg.\n",
      "  warnings.warn(\"The 'normed' kwarg is deprecated, and has been \"\n",
      "No handles with labels found to put in legend.\n"
     ]
    },
    {
     "data": {
      "image/png": "[encoded data removed]",
      "text/plain": [
       "<Figure size 432x288 with 1 Axes>"
      ]
     },
     "metadata": {},
     "output_type": "display_data"
    }
   ],
   "source": [
    "sns.distplot(statsTable['fg%_adj'])\n",
    "plt.legend()\n",
    "plt.show()"
   ]
  },
  {
   "cell_type": "markdown",
   "metadata": {},
   "source": [
    "## Get Roster and Player Schedules for that week (games left in the week)"
   ]
  },
  {
   "cell_type": "code",
   "execution_count": 129,
   "metadata": {},
   "outputs": [
    {
     "data": {
      "text/plain": [
       "4           Kevin Durant\n",
       "6         Damian Lillard\n",
       "18        Andre Drummond\n",
       "142       Justin Holiday\n",
       "86           T.J. Warren\n",
       "97           Buddy Hield\n",
       "21     LaMarcus Aldridge\n",
       "106      Malcolm Brogdon\n",
       "126    Bogdan Bogdanovic\n",
       "198       Dewayne Dedmon\n",
       "171      Al-Farouq Aminu\n",
       "211          Cody Zeller\n",
       "173        E'Twaun Moore\n",
       "107            Kris Dunn\n",
       "Name: player, dtype: object"
      ]
     },
     "execution_count": 129,
     "metadata": {},
     "output_type": "execute_result"
    }
   ],
   "source": [
    "my_team.player"
   ]
  },
  {
   "cell_type": "code",
   "execution_count": null,
   "metadata": {},
   "outputs": [],
   "source": []
  }
 ],
 "metadata": {
  "kernelspec": {
   "display_name": "Python 3",
   "language": "python",
   "name": "python3"
  },
  "language_info": {
   "codemirror_mode": {
    "name": "ipython",
    "version": 3
   },
   "file_extension": ".py",
   "mimetype": "text/x-python",
   "name": "python",
   "nbconvert_exporter": "python",
   "pygments_lexer": "ipython3",
   "version": "3.6.5"
  }
 },
 "nbformat": 4,
 "nbformat_minor": 2
}
