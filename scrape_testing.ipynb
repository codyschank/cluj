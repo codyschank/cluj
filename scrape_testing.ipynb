{
 "cells": [
  {
   "cell_type": "code",
   "execution_count": 1,
   "metadata": {},
   "outputs": [],
   "source": [
    "import time\n",
    "import re\n",
    "import pandas as pd\n",
    "import matplotlib.pylab as plt\n",
    "import seaborn as sns\n",
    "\n",
    "from selenium import webdriver\n",
    "from selenium.common.exceptions import TimeoutException\n",
    "from selenium.common.exceptions import NoSuchElementException\n",
    "from selenium.webdriver.support.ui import WebDriverWait # available since 2.4.0\n",
    "from selenium.webdriver.support import expected_conditions as EC # available since 2.26.0\n",
    "from selenium.webdriver.common.keys import Keys\n",
    "from selenium.webdriver.common.by import By\n",
    "from sklearn.preprocessing import StandardScaler\n",
    "\n",
    "from secrets import *"
   ]
  },
  {
   "cell_type": "code",
   "execution_count": 2,
   "metadata": {},
   "outputs": [],
   "source": [
    "email = AUTH[\"email\"]\n",
    "password = AUTH[\"password\"]"
   ]
  },
  {
   "cell_type": "markdown",
   "metadata": {},
   "source": [
    "## LOGIN"
   ]
  },
  {
   "cell_type": "code",
   "execution_count": 3,
   "metadata": {},
   "outputs": [],
   "source": [
    "# https://stackoverflow.com/questions/33326459/logging-into-espn-using-selenium"
   ]
  },
  {
   "cell_type": "code",
   "execution_count": 83,
   "metadata": {},
   "outputs": [],
   "source": [
    "driver = webdriver.Chrome()"
   ]
  },
  {
   "cell_type": "code",
   "execution_count": 84,
   "metadata": {},
   "outputs": [],
   "source": [
    "driver.get(\"http://games.espn.go.com/ffl/signin\")"
   ]
  },
  {
   "cell_type": "code",
   "execution_count": 85,
   "metadata": {},
   "outputs": [],
   "source": [
    "w = WebDriverWait(driver,1000).until(EC.presence_of_all_elements_located((By.XPATH,\"(//iframe)\")))"
   ]
  },
  {
   "cell_type": "code",
   "execution_count": 86,
   "metadata": {},
   "outputs": [
    {
     "name": "stderr",
     "output_type": "stream",
     "text": [
      "/Users/codyschank/anaconda3/lib/python3.6/site-packages/ipykernel_launcher.py:1: DeprecationWarning: use driver.switch_to.frame instead\n",
      "  \"\"\"Entry point for launching an IPython kernel.\n"
     ]
    }
   ],
   "source": [
    "driver.switch_to_frame(\"disneyid-iframe\")\n",
    "time.sleep(2)"
   ]
  },
  {
   "cell_type": "code",
   "execution_count": 87,
   "metadata": {},
   "outputs": [],
   "source": [
    "driver.find_element_by_css_selector('input[type=email]').send_keys(email)"
   ]
  },
  {
   "cell_type": "code",
   "execution_count": 88,
   "metadata": {},
   "outputs": [],
   "source": [
    "driver.find_element_by_css_selector('input[type=password]').send_keys(password)"
   ]
  },
  {
   "cell_type": "code",
   "execution_count": 89,
   "metadata": {},
   "outputs": [],
   "source": [
    "driver.find_element_by_xpath(\"//button\").click()"
   ]
  },
  {
   "cell_type": "markdown",
   "metadata": {},
   "source": [
    "## STATS"
   ]
  },
  {
   "cell_type": "code",
   "execution_count": 90,
   "metadata": {},
   "outputs": [
    {
     "data": {
      "text/plain": [
       "'http://fantasy.espn.com/basketball/players/add?leagueId=84057&view=stats'"
      ]
     },
     "execution_count": 90,
     "metadata": {},
     "output_type": "execute_result"
    }
   ],
   "source": [
    "leagueID = \"84057\"\n",
    "url = \"http://fantasy.espn.com/basketball/players/add?leagueId=\"+leagueID+\"&view=stats\"\n",
    "url"
   ]
  },
  {
   "cell_type": "code",
   "execution_count": 91,
   "metadata": {},
   "outputs": [],
   "source": [
    "driver.get(url)"
   ]
  },
  {
   "cell_type": "code",
   "execution_count": 92,
   "metadata": {},
   "outputs": [],
   "source": [
    "# show all players\n",
    "driver.find_element_by_xpath(\"//*[@id='filterStatus']/option[1]\").click()"
   ]
  },
  {
   "cell_type": "code",
   "execution_count": 93,
   "metadata": {},
   "outputs": [],
   "source": [
    "# show totals\n",
    "driver.find_element_by_xpath(\"//*[@id='espn-analytics']/div/div[5]/div[2]/div[2]/div/div/div[1]/div/div[3]/label[1]/div\").click()"
   ]
  },
  {
   "cell_type": "code",
   "execution_count": 94,
   "metadata": {},
   "outputs": [],
   "source": [
    "xpath = '//*[@id=\"espn-analytics\"]/div/div[5]/div[2]/div[2]/div/div/div[2]/section/table/tbody'\n",
    "table = driver.find_element_by_xpath(xpath)"
   ]
  },
  {
   "cell_type": "code",
   "execution_count": 105,
   "metadata": {},
   "outputs": [],
   "source": [
    "cells = table.text.split('\\n')"
   ]
  },
  {
   "cell_type": "code",
   "execution_count": 96,
   "metadata": {},
   "outputs": [],
   "source": [
    "nba_teams = ['Hou','Mil','No','GS','LAL','OKC','Phi','Min','Por','Ind','Tor','Den','Bos','SA','Wsh','Utah','Cle','Det',\n",
    "            'Cha','Phx','Dal','Mem','LAC','Mia','Atl','NY','Orl','Chi','Sac','Bkn']"
   ]
  },
  {
   "cell_type": "code",
   "execution_count": 114,
   "metadata": {},
   "outputs": [],
   "source": [
    "# clean out unnecessary/ complicating data\n",
    "cells = [i for i in cells if i not in ['O','DTD']]\n",
    "cells = [i for i in cells if i not in nba_teams]\n",
    "cells = [i for i in cells if '@' not in i]\n",
    "cells = [i for i in cells if ':' not in i]\n",
    "players = cells[6:cells.index('STATS RESEARCH')]\n",
    "stats = cells[(cells.index('+/-')+1):] # find '+/-', and start from the cell after that?"
   ]
  },
  {
   "cell_type": "code",
   "execution_count": 115,
   "metadata": {},
   "outputs": [],
   "source": [
    "players = [i for i in players if '--' not in i]"
   ]
  },
  {
   "cell_type": "code",
   "execution_count": 116,
   "metadata": {},
   "outputs": [],
   "source": [
    "columns = ['player','position','fantasy_team','minutes','fgm/fga','fg%','ftm/fta','ft%','3pm','reb','ast','stl','blk','pts','pr5','own','change']\n",
    "statsTable = pd.DataFrame()"
   ]
  },
  {
   "cell_type": "code",
   "execution_count": 117,
   "metadata": {},
   "outputs": [],
   "source": [
    "j = 0\n",
    "k = 0\n",
    "for i in range(50):\n",
    "    player = players[j:j+3]\n",
    "    j = j+3\n",
    "    player_stats = stats[k:k+14]\n",
    "    k = k+14\n",
    "    values = player+player_stats\n",
    "    row = dict(zip(columns, values))\n",
    "    statsTable = statsTable.append(row, ignore_index=True)"
   ]
  },
  {
   "cell_type": "code",
   "execution_count": 119,
   "metadata": {},
   "outputs": [],
   "source": [
    "#statsTable.head(50)"
   ]
  },
  {
   "cell_type": "code",
   "execution_count": 82,
   "metadata": {},
   "outputs": [],
   "source": [
    "# this is another way to do it, with less cleanging post scraprin, but hits that page many more times, and thus flags the account\n",
    "'''for i in range(1,51):\n",
    "    xpath = '//*[@id=\"espn-analytics\"]/div/div[5]/div[2]/div[2]/div/div/div[2]/section/table/tbody/tr/td[1]/table/tbody/tr[' + str(i) + ']/td[1]'\n",
    "    playername = driver.find_element_by_xpath(xpath)\n",
    "    playername = playername.text.split('\\n')\n",
    "    playername = [j for j in playername if j not in ['O','DTD']]\n",
    "    xpath = '//*[@id=\"espn-analytics\"]/div/div[5]/div[2]/div[2]/div/div/div[2]/section/table/tbody/tr/td[1]/table/tbody/tr[' + str(i) + ']/td[2]'\n",
    "    fantasyteam = driver.find_element_by_xpath(xpath)\n",
    "    fantasyteam = fantasyteam.text.split('\\n')\n",
    "    xpath = '//*[@id=\"espn-analytics\"]/div/div[5]/div[2]/div[2]/div/div/div[2]/section/table/tbody/tr/td[2]/div/div/div[2]/table/tbody/tr/td/table/tbody/tr[' + str(i) + ']'\n",
    "    stats = driver.find_element_by_xpath(xpath)\n",
    "    stats = stats.text.split('\\n')\n",
    "    values = playername+fantasyteam+stats\n",
    "    row = dict(zip(columns, values))\n",
    "    statsTable = statsTable.append(row, ignore_index=True)\n",
    "''' and None"
   ]
  },
  {
   "cell_type": "code",
   "execution_count": 120,
   "metadata": {},
   "outputs": [],
   "source": [
    "for i in range(2,6):\n",
    "    next_page = \"//*[@id='espn-analytics']/div/div[5]/div[2]/div[2]/div/div/div[2]/div/div/ul/li[\"+str(i)+\"]\"\n",
    "    driver.find_element_by_xpath(next_page).click()\n",
    "    time.sleep(4)\n",
    "    xpath = '//*[@id=\"espn-analytics\"]/div/div[5]/div[2]/div[2]/div/div/div[2]/section/table/tbody'\n",
    "    table = driver.find_element_by_xpath(xpath)\n",
    "    cells = table.text.split('\\n')\n",
    "    cells = [i for i in cells if i not in ['O','DTD']]\n",
    "    cells = [i for i in cells if i not in nba_teams]\n",
    "    cells = [i for i in cells if '@' not in i]\n",
    "    cells = [i for i in cells if ':' not in i]\n",
    "    players = cells[6:cells.index('STATS RESEARCH')]\n",
    "    players = [i for i in players if '--' not in i]\n",
    "    stats = cells[(cells.index('+/-')+1):] \n",
    "    j = 0\n",
    "    k = 0\n",
    "    for i in range(50):\n",
    "        player = players[j:j+3]\n",
    "        j = j+3\n",
    "        player_stats = stats[k:k+14]\n",
    "        k = k+14\n",
    "        values = player+player_stats\n",
    "        row = dict(zip(columns, values))\n",
    "        statsTable = statsTable.append(row, ignore_index=True)"
   ]
  },
  {
   "cell_type": "code",
   "execution_count": 121,
   "metadata": {},
   "outputs": [
    {
     "data": {
      "text/plain": [
       "(250, 17)"
      ]
     },
     "execution_count": 121,
     "metadata": {},
     "output_type": "execute_result"
    }
   ],
   "source": [
    "statsTable.shape"
   ]
  },
  {
   "cell_type": "code",
   "execution_count": 123,
   "metadata": {},
   "outputs": [],
   "source": [
    "#statsTable.tail(50)"
   ]
  },
  {
   "cell_type": "markdown",
   "metadata": {},
   "source": [
    "## ANALYZE"
   ]
  },
  {
   "cell_type": "code",
   "execution_count": 124,
   "metadata": {},
   "outputs": [],
   "source": [
    "statsTable['fta'] = statsTable['ftm/fta'].str.split('/',expand=True)[1]\n",
    "statsTable['fga'] = statsTable['fgm/fga'].str.split('/',expand=True)[1]\n",
    "statsTable = statsTable.drop(columns = ['pr5','own','change','ftm/fta','fgm/fga'])"
   ]
  },
  {
   "cell_type": "code",
   "execution_count": 125,
   "metadata": {},
   "outputs": [],
   "source": [
    "statsTable = statsTable.replace(\"--\",\"0\")"
   ]
  },
  {
   "cell_type": "code",
   "execution_count": 126,
   "metadata": {},
   "outputs": [],
   "source": [
    "statsTable['ast'] = pd.to_numeric(statsTable['ast']) \n",
    "statsTable['blk'] = pd.to_numeric(statsTable['blk']) \n",
    "statsTable['reb'] = pd.to_numeric(statsTable['reb']) \n",
    "statsTable['pts'] = pd.to_numeric(statsTable['pts']) \n",
    "statsTable['stl'] = pd.to_numeric(statsTable['stl'])\n",
    "statsTable['3pm'] = pd.to_numeric(statsTable['3pm'])\n",
    "statsTable['ft%'] = pd.to_numeric(statsTable['ft%'])\n",
    "statsTable['fg%'] = pd.to_numeric(statsTable['fg%'])\n",
    "statsTable['fta'] = pd.to_numeric(statsTable['fta'])\n",
    "statsTable['fga'] = pd.to_numeric(statsTable['fga'])\n",
    "statsTable['minutes'] = pd.to_numeric(statsTable['minutes'])"
   ]
  },
  {
   "cell_type": "code",
   "execution_count": 127,
   "metadata": {},
   "outputs": [],
   "source": [
    "scaler = StandardScaler()"
   ]
  },
  {
   "cell_type": "code",
   "execution_count": 128,
   "metadata": {},
   "outputs": [],
   "source": [
    "statsTable[['ast', 'blk','reb','pts','stl','3pm','ft%','fg%','fta','fga']] = scaler.fit_transform(statsTable[['ast', 'blk','reb','pts','stl','3pm','ft%','fg%','fta','fga']])"
   ]
  },
  {
   "cell_type": "code",
   "execution_count": 129,
   "metadata": {},
   "outputs": [
    {
     "data": {
      "text/html": [
       "<div>\n",
       "<style scoped>\n",
       "    .dataframe tbody tr th:only-of-type {\n",
       "        vertical-align: middle;\n",
       "    }\n",
       "\n",
       "    .dataframe tbody tr th {\n",
       "        vertical-align: top;\n",
       "    }\n",
       "\n",
       "    .dataframe thead th {\n",
       "        text-align: right;\n",
       "    }\n",
       "</style>\n",
       "<table border=\"1\" class=\"dataframe\">\n",
       "  <thead>\n",
       "    <tr style=\"text-align: right;\">\n",
       "      <th></th>\n",
       "      <th>3pm</th>\n",
       "      <th>ast</th>\n",
       "      <th>blk</th>\n",
       "      <th>fantasy_team</th>\n",
       "      <th>fg%</th>\n",
       "      <th>ft%</th>\n",
       "      <th>min</th>\n",
       "      <th>player</th>\n",
       "      <th>position</th>\n",
       "      <th>pts</th>\n",
       "      <th>reb</th>\n",
       "      <th>stl</th>\n",
       "      <th>fta</th>\n",
       "      <th>fga</th>\n",
       "    </tr>\n",
       "  </thead>\n",
       "  <tbody>\n",
       "    <tr>\n",
       "      <th>0</th>\n",
       "      <td>-0.906412</td>\n",
       "      <td>1.111689</td>\n",
       "      <td>0.303062</td>\n",
       "      <td>DEKK</td>\n",
       "      <td>0.284258</td>\n",
       "      <td>-0.016626</td>\n",
       "      <td>67</td>\n",
       "      <td>Giannis Antetokounmpo</td>\n",
       "      <td>PF, SF</td>\n",
       "      <td>1.002495</td>\n",
       "      <td>2.335029</td>\n",
       "      <td>0.112311</td>\n",
       "      <td>1.266961</td>\n",
       "      <td>1.294792</td>\n",
       "    </tr>\n",
       "    <tr>\n",
       "      <th>1</th>\n",
       "      <td>-0.590809</td>\n",
       "      <td>1.277020</td>\n",
       "      <td>1.926606</td>\n",
       "      <td>DOIS</td>\n",
       "      <td>1.115758</td>\n",
       "      <td>0.371797</td>\n",
       "      <td>66</td>\n",
       "      <td>Anthony Davis</td>\n",
       "      <td>PF, C</td>\n",
       "      <td>1.293806</td>\n",
       "      <td>1.560815</td>\n",
       "      <td>1.831351</td>\n",
       "      <td>1.897289</td>\n",
       "      <td>0.589568</td>\n",
       "    </tr>\n",
       "    <tr>\n",
       "      <th>2</th>\n",
       "      <td>-0.590809</td>\n",
       "      <td>0.781026</td>\n",
       "      <td>-0.238120</td>\n",
       "      <td>BEB</td>\n",
       "      <td>0.268569</td>\n",
       "      <td>0.587272</td>\n",
       "      <td>76</td>\n",
       "      <td>LeBron James</td>\n",
       "      <td>SF, PF</td>\n",
       "      <td>0.953944</td>\n",
       "      <td>0.565397</td>\n",
       "      <td>0.685324</td>\n",
       "      <td>1.424543</td>\n",
       "      <td>0.910124</td>\n",
       "    </tr>\n",
       "    <tr>\n",
       "      <th>3</th>\n",
       "      <td>2.880826</td>\n",
       "      <td>3.756992</td>\n",
       "      <td>0.303062</td>\n",
       "      <td>Wood</td>\n",
       "      <td>0.143060</td>\n",
       "      <td>0.437007</td>\n",
       "      <td>113</td>\n",
       "      <td>James Harden</td>\n",
       "      <td>SG, PG</td>\n",
       "      <td>2.653253</td>\n",
       "      <td>0.897203</td>\n",
       "      <td>2.977377</td>\n",
       "      <td>2.842782</td>\n",
       "      <td>2.320573</td>\n",
       "    </tr>\n",
       "    <tr>\n",
       "      <th>4</th>\n",
       "      <td>-0.590809</td>\n",
       "      <td>2.269009</td>\n",
       "      <td>0.844243</td>\n",
       "      <td>Cod</td>\n",
       "      <td>0.205815</td>\n",
       "      <td>0.899144</td>\n",
       "      <td>117</td>\n",
       "      <td>Kevin Durant</td>\n",
       "      <td>SF, PF</td>\n",
       "      <td>2.653253</td>\n",
       "      <td>1.782019</td>\n",
       "      <td>0.685324</td>\n",
       "      <td>3.000364</td>\n",
       "      <td>2.641130</td>\n",
       "    </tr>\n",
       "  </tbody>\n",
       "</table>\n",
       "</div>"
      ],
      "text/plain": [
       "        3pm       ast       blk fantasy_team       fg%       ft%  min  \\\n",
       "0 -0.906412  1.111689  0.303062         DEKK  0.284258 -0.016626   67   \n",
       "1 -0.590809  1.277020  1.926606         DOIS  1.115758  0.371797   66   \n",
       "2 -0.590809  0.781026 -0.238120          BEB  0.268569  0.587272   76   \n",
       "3  2.880826  3.756992  0.303062         Wood  0.143060  0.437007  113   \n",
       "4 -0.590809  2.269009  0.844243          Cod  0.205815  0.899144  117   \n",
       "\n",
       "                  player position       pts       reb       stl       fta  \\\n",
       "0  Giannis Antetokounmpo   PF, SF  1.002495  2.335029  0.112311  1.266961   \n",
       "1          Anthony Davis    PF, C  1.293806  1.560815  1.831351  1.897289   \n",
       "2           LeBron James   SF, PF  0.953944  0.565397  0.685324  1.424543   \n",
       "3           James Harden   SG, PG  2.653253  0.897203  2.977377  2.842782   \n",
       "4           Kevin Durant   SF, PF  2.653253  1.782019  0.685324  3.000364   \n",
       "\n",
       "        fga  \n",
       "0  1.294792  \n",
       "1  0.589568  \n",
       "2  0.910124  \n",
       "3  2.320573  \n",
       "4  2.641130  "
      ]
     },
     "execution_count": 129,
     "metadata": {},
     "output_type": "execute_result"
    }
   ],
   "source": [
    "statsTable.head()"
   ]
  },
  {
   "cell_type": "code",
   "execution_count": 130,
   "metadata": {},
   "outputs": [],
   "source": [
    "statsTable['fga_adj'] = statsTable['fga'] + abs(statsTable['fga'].min())\n",
    "statsTable['fta_adj'] = statsTable['fta'] + abs(statsTable['fta'].min())"
   ]
  },
  {
   "cell_type": "code",
   "execution_count": 131,
   "metadata": {},
   "outputs": [],
   "source": [
    "statsTable['fg%_adj'] = statsTable['fg%'] * statsTable['fga_adj']\n",
    "statsTable['ft%_adj'] = statsTable['ft%'] * statsTable['fta_adj']"
   ]
  },
  {
   "cell_type": "code",
   "execution_count": 132,
   "metadata": {},
   "outputs": [],
   "source": [
    "statsTable[['fg%_adj','ft%_adj']] = scaler.fit_transform(statsTable[['fg%_adj','ft%_adj']])"
   ]
  },
  {
   "cell_type": "code",
   "execution_count": 133,
   "metadata": {},
   "outputs": [],
   "source": [
    "statsTable = statsTable.drop(columns = ['fga_adj','fta_adj','fg%','ft%','fta','fga'])"
   ]
  },
  {
   "cell_type": "code",
   "execution_count": 134,
   "metadata": {},
   "outputs": [],
   "source": [
    "statsTable['cumulative'] = statsTable['ft%_adj'] + statsTable['fg%_adj'] + statsTable['ast'] + statsTable['blk'] + statsTable['pts'] + statsTable['reb'] + statsTable['stl'] + statsTable['3pm']  "
   ]
  },
  {
   "cell_type": "code",
   "execution_count": 135,
   "metadata": {},
   "outputs": [],
   "source": [
    "statsTable = statsTable.sort_values('cumulative',ascending=False)"
   ]
  },
  {
   "cell_type": "code",
   "execution_count": 136,
   "metadata": {},
   "outputs": [
    {
     "data": {
      "text/html": [
       "<div>\n",
       "<style scoped>\n",
       "    .dataframe tbody tr th:only-of-type {\n",
       "        vertical-align: middle;\n",
       "    }\n",
       "\n",
       "    .dataframe tbody tr th {\n",
       "        vertical-align: top;\n",
       "    }\n",
       "\n",
       "    .dataframe thead th {\n",
       "        text-align: right;\n",
       "    }\n",
       "</style>\n",
       "<table border=\"1\" class=\"dataframe\">\n",
       "  <thead>\n",
       "    <tr style=\"text-align: right;\">\n",
       "      <th></th>\n",
       "      <th>3pm</th>\n",
       "      <th>ast</th>\n",
       "      <th>blk</th>\n",
       "      <th>fantasy_team</th>\n",
       "      <th>min</th>\n",
       "      <th>player</th>\n",
       "      <th>position</th>\n",
       "      <th>pts</th>\n",
       "      <th>reb</th>\n",
       "      <th>stl</th>\n",
       "      <th>fg%_adj</th>\n",
       "      <th>ft%_adj</th>\n",
       "      <th>cumulative</th>\n",
       "    </tr>\n",
       "  </thead>\n",
       "  <tbody>\n",
       "    <tr>\n",
       "      <th>10</th>\n",
       "      <td>0.356000</td>\n",
       "      <td>2.599672</td>\n",
       "      <td>0.844243</td>\n",
       "      <td>DEKK</td>\n",
       "      <td>97</td>\n",
       "      <td>Nikola Jokic</td>\n",
       "      <td>C</td>\n",
       "      <td>2.361943</td>\n",
       "      <td>2.113825</td>\n",
       "      <td>1.831351</td>\n",
       "      <td>2.638209</td>\n",
       "      <td>3.290350</td>\n",
       "      <td>16.035592</td>\n",
       "    </tr>\n",
       "    <tr>\n",
       "      <th>3</th>\n",
       "      <td>2.880826</td>\n",
       "      <td>3.756992</td>\n",
       "      <td>0.303062</td>\n",
       "      <td>Wood</td>\n",
       "      <td>113</td>\n",
       "      <td>James Harden</td>\n",
       "      <td>SG, PG</td>\n",
       "      <td>2.653253</td>\n",
       "      <td>0.897203</td>\n",
       "      <td>2.977377</td>\n",
       "      <td>0.236406</td>\n",
       "      <td>1.534454</td>\n",
       "      <td>15.239572</td>\n",
       "    </tr>\n",
       "    <tr>\n",
       "      <th>6</th>\n",
       "      <td>4.143239</td>\n",
       "      <td>2.765003</td>\n",
       "      <td>-0.779301</td>\n",
       "      <td>gov</td>\n",
       "      <td>113</td>\n",
       "      <td>Stephen Curry</td>\n",
       "      <td>PG</td>\n",
       "      <td>3.041666</td>\n",
       "      <td>0.454795</td>\n",
       "      <td>0.685324</td>\n",
       "      <td>1.761929</td>\n",
       "      <td>1.025587</td>\n",
       "      <td>13.098244</td>\n",
       "    </tr>\n",
       "    <tr>\n",
       "      <th>20</th>\n",
       "      <td>5.090049</td>\n",
       "      <td>1.607683</td>\n",
       "      <td>-0.779301</td>\n",
       "      <td>WILL</td>\n",
       "      <td>106</td>\n",
       "      <td>Kemba Walker</td>\n",
       "      <td>PG</td>\n",
       "      <td>3.672838</td>\n",
       "      <td>-0.319418</td>\n",
       "      <td>0.685324</td>\n",
       "      <td>1.472535</td>\n",
       "      <td>0.893886</td>\n",
       "      <td>12.323596</td>\n",
       "    </tr>\n",
       "    <tr>\n",
       "      <th>4</th>\n",
       "      <td>-0.590809</td>\n",
       "      <td>2.269009</td>\n",
       "      <td>0.844243</td>\n",
       "      <td>Cod</td>\n",
       "      <td>117</td>\n",
       "      <td>Kevin Durant</td>\n",
       "      <td>SF, PF</td>\n",
       "      <td>2.653253</td>\n",
       "      <td>1.782019</td>\n",
       "      <td>0.685324</td>\n",
       "      <td>0.585133</td>\n",
       "      <td>3.985016</td>\n",
       "      <td>12.213187</td>\n",
       "    </tr>\n",
       "  </tbody>\n",
       "</table>\n",
       "</div>"
      ],
      "text/plain": [
       "         3pm       ast       blk fantasy_team  min         player position  \\\n",
       "10  0.356000  2.599672  0.844243         DEKK   97   Nikola Jokic        C   \n",
       "3   2.880826  3.756992  0.303062         Wood  113   James Harden   SG, PG   \n",
       "6   4.143239  2.765003 -0.779301          gov  113  Stephen Curry       PG   \n",
       "20  5.090049  1.607683 -0.779301         WILL  106   Kemba Walker       PG   \n",
       "4  -0.590809  2.269009  0.844243          Cod  117   Kevin Durant   SF, PF   \n",
       "\n",
       "         pts       reb       stl   fg%_adj   ft%_adj  cumulative  \n",
       "10  2.361943  2.113825  1.831351  2.638209  3.290350   16.035592  \n",
       "3   2.653253  0.897203  2.977377  0.236406  1.534454   15.239572  \n",
       "6   3.041666  0.454795  0.685324  1.761929  1.025587   13.098244  \n",
       "20  3.672838 -0.319418  0.685324  1.472535  0.893886   12.323596  \n",
       "4   2.653253  1.782019  0.685324  0.585133  3.985016   12.213187  "
      ]
     },
     "execution_count": 136,
     "metadata": {},
     "output_type": "execute_result"
    }
   ],
   "source": [
    "statsTable.head()"
   ]
  },
  {
   "cell_type": "markdown",
   "metadata": {},
   "source": [
    "## My team"
   ]
  },
  {
   "cell_type": "code",
   "execution_count": 150,
   "metadata": {},
   "outputs": [],
   "source": [
    "my_team = statsTable.loc[statsTable.fantasy_team == 'Cod']\n",
    "my_team = my_team.loc[my_team['minutes'] > 0]"
   ]
  },
  {
   "cell_type": "code",
   "execution_count": 151,
   "metadata": {},
   "outputs": [
    {
     "data": {
      "text/plain": [
       "(13, 13)"
      ]
     },
     "execution_count": 151,
     "metadata": {},
     "output_type": "execute_result"
    }
   ],
   "source": [
    "my_team.shape"
   ]
  },
  {
   "cell_type": "code",
   "execution_count": 152,
   "metadata": {},
   "outputs": [
    {
     "data": {
      "text/html": [
       "<div>\n",
       "<style scoped>\n",
       "    .dataframe tbody tr th:only-of-type {\n",
       "        vertical-align: middle;\n",
       "    }\n",
       "\n",
       "    .dataframe tbody tr th {\n",
       "        vertical-align: top;\n",
       "    }\n",
       "\n",
       "    .dataframe thead th {\n",
       "        text-align: right;\n",
       "    }\n",
       "</style>\n",
       "<table border=\"1\" class=\"dataframe\">\n",
       "  <thead>\n",
       "    <tr style=\"text-align: right;\">\n",
       "      <th></th>\n",
       "      <th>3pm</th>\n",
       "      <th>ast</th>\n",
       "      <th>blk</th>\n",
       "      <th>fantasy_team</th>\n",
       "      <th>min</th>\n",
       "      <th>player</th>\n",
       "      <th>position</th>\n",
       "      <th>pts</th>\n",
       "      <th>reb</th>\n",
       "      <th>stl</th>\n",
       "      <th>fg%_adj</th>\n",
       "      <th>ft%_adj</th>\n",
       "      <th>cumulative</th>\n",
       "    </tr>\n",
       "  </thead>\n",
       "  <tbody>\n",
       "    <tr>\n",
       "      <th>4</th>\n",
       "      <td>-0.590809</td>\n",
       "      <td>2.269009</td>\n",
       "      <td>0.844243</td>\n",
       "      <td>Cod</td>\n",
       "      <td>117</td>\n",
       "      <td>Kevin Durant</td>\n",
       "      <td>SF, PF</td>\n",
       "      <td>2.653253</td>\n",
       "      <td>1.782019</td>\n",
       "      <td>0.685324</td>\n",
       "      <td>0.585133</td>\n",
       "      <td>3.985016</td>\n",
       "      <td>12.213187</td>\n",
       "    </tr>\n",
       "    <tr>\n",
       "      <th>8</th>\n",
       "      <td>0.671604</td>\n",
       "      <td>1.111689</td>\n",
       "      <td>-0.238120</td>\n",
       "      <td>Cod</td>\n",
       "      <td>65</td>\n",
       "      <td>Damian Lillard</td>\n",
       "      <td>PG</td>\n",
       "      <td>1.293806</td>\n",
       "      <td>-0.430020</td>\n",
       "      <td>-0.460703</td>\n",
       "      <td>0.671357</td>\n",
       "      <td>2.902963</td>\n",
       "      <td>5.522575</td>\n",
       "    </tr>\n",
       "    <tr>\n",
       "      <th>116</th>\n",
       "      <td>0.987207</td>\n",
       "      <td>-0.045631</td>\n",
       "      <td>0.303062</td>\n",
       "      <td>Cod</td>\n",
       "      <td>82</td>\n",
       "      <td>Buddy Hield</td>\n",
       "      <td>SG</td>\n",
       "      <td>1.099599</td>\n",
       "      <td>0.122989</td>\n",
       "      <td>-0.460703</td>\n",
       "      <td>1.549823</td>\n",
       "      <td>-0.293846</td>\n",
       "      <td>3.262500</td>\n",
       "    </tr>\n",
       "    <tr>\n",
       "      <th>88</th>\n",
       "      <td>0.356000</td>\n",
       "      <td>2.599672</td>\n",
       "      <td>-0.238120</td>\n",
       "      <td>Cod</td>\n",
       "      <td>96</td>\n",
       "      <td>Dennis Schroder</td>\n",
       "      <td>PG</td>\n",
       "      <td>0.614082</td>\n",
       "      <td>0.233591</td>\n",
       "      <td>1.258337</td>\n",
       "      <td>-3.100909</td>\n",
       "      <td>1.467630</td>\n",
       "      <td>3.190284</td>\n",
       "    </tr>\n",
       "    <tr>\n",
       "      <th>125</th>\n",
       "      <td>0.356000</td>\n",
       "      <td>-0.045631</td>\n",
       "      <td>0.844243</td>\n",
       "      <td>Cod</td>\n",
       "      <td>74</td>\n",
       "      <td>Jeremy Lamb</td>\n",
       "      <td>SG, SF</td>\n",
       "      <td>-0.017090</td>\n",
       "      <td>0.233591</td>\n",
       "      <td>1.831351</td>\n",
       "      <td>-1.410912</td>\n",
       "      <td>0.703909</td>\n",
       "      <td>2.495460</td>\n",
       "    </tr>\n",
       "    <tr>\n",
       "      <th>157</th>\n",
       "      <td>1.934017</td>\n",
       "      <td>-0.210963</td>\n",
       "      <td>0.303062</td>\n",
       "      <td>Cod</td>\n",
       "      <td>83</td>\n",
       "      <td>Malik Monk</td>\n",
       "      <td>SG</td>\n",
       "      <td>0.662634</td>\n",
       "      <td>-0.651224</td>\n",
       "      <td>0.112311</td>\n",
       "      <td>-0.575513</td>\n",
       "      <td>0.044192</td>\n",
       "      <td>1.618514</td>\n",
       "    </tr>\n",
       "    <tr>\n",
       "      <th>23</th>\n",
       "      <td>-0.906412</td>\n",
       "      <td>0.119700</td>\n",
       "      <td>1.385424</td>\n",
       "      <td>Cod</td>\n",
       "      <td>79</td>\n",
       "      <td>LaMarcus Aldridge</td>\n",
       "      <td>PF, C</td>\n",
       "      <td>0.128565</td>\n",
       "      <td>1.671417</td>\n",
       "      <td>0.112311</td>\n",
       "      <td>-1.232080</td>\n",
       "      <td>-0.430568</td>\n",
       "      <td>0.848356</td>\n",
       "    </tr>\n",
       "    <tr>\n",
       "      <th>136</th>\n",
       "      <td>0.987207</td>\n",
       "      <td>0.285031</td>\n",
       "      <td>-0.238120</td>\n",
       "      <td>Cod</td>\n",
       "      <td>66</td>\n",
       "      <td>Trevor Ariza</td>\n",
       "      <td>SF</td>\n",
       "      <td>-0.211297</td>\n",
       "      <td>-0.098215</td>\n",
       "      <td>-0.460703</td>\n",
       "      <td>-0.016776</td>\n",
       "      <td>-0.175713</td>\n",
       "      <td>0.071415</td>\n",
       "    </tr>\n",
       "    <tr>\n",
       "      <th>22</th>\n",
       "      <td>-0.590809</td>\n",
       "      <td>-0.706957</td>\n",
       "      <td>0.303062</td>\n",
       "      <td>Cod</td>\n",
       "      <td>56</td>\n",
       "      <td>Andre Drummond</td>\n",
       "      <td>C</td>\n",
       "      <td>0.177117</td>\n",
       "      <td>2.335029</td>\n",
       "      <td>-1.033716</td>\n",
       "      <td>-0.150541</td>\n",
       "      <td>-0.293846</td>\n",
       "      <td>0.039338</td>\n",
       "    </tr>\n",
       "    <tr>\n",
       "      <th>83</th>\n",
       "      <td>0.671604</td>\n",
       "      <td>-0.706957</td>\n",
       "      <td>-0.238120</td>\n",
       "      <td>Cod</td>\n",
       "      <td>46</td>\n",
       "      <td>TJ Warren</td>\n",
       "      <td>SF</td>\n",
       "      <td>0.128565</td>\n",
       "      <td>-0.872428</td>\n",
       "      <td>0.112311</td>\n",
       "      <td>0.318258</td>\n",
       "      <td>0.264098</td>\n",
       "      <td>-0.322670</td>\n",
       "    </tr>\n",
       "    <tr>\n",
       "      <th>126</th>\n",
       "      <td>0.040397</td>\n",
       "      <td>0.119700</td>\n",
       "      <td>-0.238120</td>\n",
       "      <td>Cod</td>\n",
       "      <td>62</td>\n",
       "      <td>Bobby Portis</td>\n",
       "      <td>PF</td>\n",
       "      <td>-0.211297</td>\n",
       "      <td>1.450213</td>\n",
       "      <td>0.112311</td>\n",
       "      <td>-0.928612</td>\n",
       "      <td>-0.969921</td>\n",
       "      <td>-0.625329</td>\n",
       "    </tr>\n",
       "    <tr>\n",
       "      <th>176</th>\n",
       "      <td>-0.590809</td>\n",
       "      <td>1.111689</td>\n",
       "      <td>-0.238120</td>\n",
       "      <td>Cod</td>\n",
       "      <td>69</td>\n",
       "      <td>Patrick Beverley</td>\n",
       "      <td>PG</td>\n",
       "      <td>-0.939572</td>\n",
       "      <td>0.012387</td>\n",
       "      <td>1.258337</td>\n",
       "      <td>-2.357925</td>\n",
       "      <td>0.703909</td>\n",
       "      <td>-1.040104</td>\n",
       "    </tr>\n",
       "    <tr>\n",
       "      <th>77</th>\n",
       "      <td>0.356000</td>\n",
       "      <td>-0.376294</td>\n",
       "      <td>-0.779301</td>\n",
       "      <td>Cod</td>\n",
       "      <td>90</td>\n",
       "      <td>Jaylen Brown</td>\n",
       "      <td>SG</td>\n",
       "      <td>0.080013</td>\n",
       "      <td>0.233591</td>\n",
       "      <td>-0.460703</td>\n",
       "      <td>-0.967875</td>\n",
       "      <td>-0.751689</td>\n",
       "      <td>-2.666257</td>\n",
       "    </tr>\n",
       "  </tbody>\n",
       "</table>\n",
       "</div>"
      ],
      "text/plain": [
       "          3pm       ast       blk fantasy_team  min             player  \\\n",
       "4   -0.590809  2.269009  0.844243          Cod  117       Kevin Durant   \n",
       "8    0.671604  1.111689 -0.238120          Cod   65     Damian Lillard   \n",
       "116  0.987207 -0.045631  0.303062          Cod   82        Buddy Hield   \n",
       "88   0.356000  2.599672 -0.238120          Cod   96    Dennis Schroder   \n",
       "125  0.356000 -0.045631  0.844243          Cod   74        Jeremy Lamb   \n",
       "157  1.934017 -0.210963  0.303062          Cod   83         Malik Monk   \n",
       "23  -0.906412  0.119700  1.385424          Cod   79  LaMarcus Aldridge   \n",
       "136  0.987207  0.285031 -0.238120          Cod   66       Trevor Ariza   \n",
       "22  -0.590809 -0.706957  0.303062          Cod   56     Andre Drummond   \n",
       "83   0.671604 -0.706957 -0.238120          Cod   46          TJ Warren   \n",
       "126  0.040397  0.119700 -0.238120          Cod   62       Bobby Portis   \n",
       "176 -0.590809  1.111689 -0.238120          Cod   69   Patrick Beverley   \n",
       "77   0.356000 -0.376294 -0.779301          Cod   90       Jaylen Brown   \n",
       "\n",
       "    position       pts       reb       stl   fg%_adj   ft%_adj  cumulative  \n",
       "4     SF, PF  2.653253  1.782019  0.685324  0.585133  3.985016   12.213187  \n",
       "8         PG  1.293806 -0.430020 -0.460703  0.671357  2.902963    5.522575  \n",
       "116       SG  1.099599  0.122989 -0.460703  1.549823 -0.293846    3.262500  \n",
       "88        PG  0.614082  0.233591  1.258337 -3.100909  1.467630    3.190284  \n",
       "125   SG, SF -0.017090  0.233591  1.831351 -1.410912  0.703909    2.495460  \n",
       "157       SG  0.662634 -0.651224  0.112311 -0.575513  0.044192    1.618514  \n",
       "23     PF, C  0.128565  1.671417  0.112311 -1.232080 -0.430568    0.848356  \n",
       "136       SF -0.211297 -0.098215 -0.460703 -0.016776 -0.175713    0.071415  \n",
       "22         C  0.177117  2.335029 -1.033716 -0.150541 -0.293846    0.039338  \n",
       "83        SF  0.128565 -0.872428  0.112311  0.318258  0.264098   -0.322670  \n",
       "126       PF -0.211297  1.450213  0.112311 -0.928612 -0.969921   -0.625329  \n",
       "176       PG -0.939572  0.012387  1.258337 -2.357925  0.703909   -1.040104  \n",
       "77        SG  0.080013  0.233591 -0.460703 -0.967875 -0.751689   -2.666257  "
      ]
     },
     "execution_count": 152,
     "metadata": {},
     "output_type": "execute_result"
    }
   ],
   "source": [
    "my_team"
   ]
  },
  {
   "cell_type": "code",
   "execution_count": 153,
   "metadata": {},
   "outputs": [
    {
     "data": {
      "text/plain": [
       "ast        5.524054\n",
       "blk        1.775075\n",
       "pts        5.458376\n",
       "reb        6.022941\n",
       "stl        2.606065\n",
       "3pm        3.681196\n",
       "ft%_adj    7.156133\n",
       "fg%_adj   -7.616571\n",
       "dtype: float64"
      ]
     },
     "execution_count": 153,
     "metadata": {},
     "output_type": "execute_result"
    }
   ],
   "source": [
    "my_team[['ast','blk','pts','reb','stl','3pm','ft%_adj','fg%_adj']].sum(axis=0)"
   ]
  },
  {
   "cell_type": "code",
   "execution_count": 164,
   "metadata": {},
   "outputs": [],
   "source": [
    "opp_team =  statsTable.loc[statsTable.fantasy_team == 'BEB']"
   ]
  },
  {
   "cell_type": "code",
   "execution_count": 166,
   "metadata": {},
   "outputs": [],
   "source": [
    "opp_team = opp_team.loc[opp_team['minutes'] > 0]"
   ]
  },
  {
   "cell_type": "code",
   "execution_count": 168,
   "metadata": {},
   "outputs": [
    {
     "data": {
      "text/plain": [
       "ast       -1.368283\n",
       "blk       -1.320482\n",
       "pts        2.410494\n",
       "reb        0.675999\n",
       "stl        0.112311\n",
       "3pm        1.934017\n",
       "ft%_adj    8.215823\n",
       "fg%_adj   -8.228711\n",
       "dtype: float64"
      ]
     },
     "execution_count": 168,
     "metadata": {},
     "output_type": "execute_result"
    }
   ],
   "source": [
    "# diff\n",
    "my_team[['ast','blk','pts','reb','stl','3pm','ft%_adj','fg%_adj']].sum(axis=0) - opp_team[['ast','blk','pts','reb','stl','3pm','ft%_adj','fg%_adj']].sum(axis=0)"
   ]
  },
  {
   "cell_type": "code",
   "execution_count": null,
   "metadata": {},
   "outputs": [],
   "source": [
    "# rather than use PR, use stat averages, and num games played during the matchup."
   ]
  },
  {
   "cell_type": "markdown",
   "metadata": {},
   "source": [
    "## Some plots"
   ]
  },
  {
   "cell_type": "code",
   "execution_count": null,
   "metadata": {},
   "outputs": [],
   "source": [
    "# 14 players on roster including IR, so let's focus on 12*14 = 168 players\n",
    "# but there is a pool of free agents that people would consider adding. I think 250 could be a good number."
   ]
  },
  {
   "cell_type": "code",
   "execution_count": 112,
   "metadata": {},
   "outputs": [
    {
     "data": {
      "text/plain": [
       "3pm                 -1.01073\n",
       "ast                -0.820302\n",
       "blk                  0.32161\n",
       "fantasy_team              FA\n",
       "player          Gorgui Dieng\n",
       "position               C, PF\n",
       "pts                -0.959479\n",
       "reb                 0.191803\n",
       "stl                 -0.15438\n",
       "fg%_adj             0.285291\n",
       "ft%_adj           -0.0243125\n",
       "cumulative           -2.1705\n",
       "Name: 230, dtype: object"
      ]
     },
     "execution_count": 112,
     "metadata": {},
     "output_type": "execute_result"
    }
   ],
   "source": [
    "statsTable.iloc[168]"
   ]
  },
  {
   "cell_type": "code",
   "execution_count": 111,
   "metadata": {},
   "outputs": [
    {
     "name": "stderr",
     "output_type": "stream",
     "text": [
      "/Users/codyschank/anaconda3/lib/python3.6/site-packages/matplotlib/axes/_axes.py:6462: UserWarning: The 'normed' kwarg is deprecated, and has been replaced by the 'density' kwarg.\n",
      "  warnings.warn(\"The 'normed' kwarg is deprecated, and has been \"\n",
      "No handles with labels found to put in legend.\n"
     ]
    },
    {
     "data": {
      "image/png": "[encoded data removed]",
      "text/plain": [
       "<Figure size 432x288 with 1 Axes>"
      ]
     },
     "metadata": {},
     "output_type": "display_data"
    }
   ],
   "source": [
    "sns.distplot(statsTable.cumulative)\n",
    "plt.legend()\n",
    "plt.show()"
   ]
  },
  {
   "cell_type": "code",
   "execution_count": 113,
   "metadata": {},
   "outputs": [
    {
     "name": "stderr",
     "output_type": "stream",
     "text": [
      "/Users/codyschank/anaconda3/lib/python3.6/site-packages/matplotlib/axes/_axes.py:6462: UserWarning: The 'normed' kwarg is deprecated, and has been replaced by the 'density' kwarg.\n",
      "  warnings.warn(\"The 'normed' kwarg is deprecated, and has been \"\n",
      "No handles with labels found to put in legend.\n"
     ]
    },
    {
     "data": {
      "image/png": "[encoded data removed]",
      "text/plain": [
       "<Figure size 432x288 with 1 Axes>"
      ]
     },
     "metadata": {},
     "output_type": "display_data"
    }
   ],
   "source": [
    "sns.distplot(statsTable.reb)\n",
    "plt.legend()\n",
    "plt.show()"
   ]
  },
  {
   "cell_type": "code",
   "execution_count": 114,
   "metadata": {},
   "outputs": [
    {
     "name": "stderr",
     "output_type": "stream",
     "text": [
      "/Users/codyschank/anaconda3/lib/python3.6/site-packages/matplotlib/axes/_axes.py:6462: UserWarning: The 'normed' kwarg is deprecated, and has been replaced by the 'density' kwarg.\n",
      "  warnings.warn(\"The 'normed' kwarg is deprecated, and has been \"\n",
      "No handles with labels found to put in legend.\n"
     ]
    },
    {
     "data": {
      "image/png": "[encoded data removed]",
      "text/plain": [
       "<Figure size 432x288 with 1 Axes>"
      ]
     },
     "metadata": {},
     "output_type": "display_data"
    }
   ],
   "source": [
    "sns.distplot(statsTable.ast)\n",
    "plt.legend()\n",
    "plt.show()"
   ]
  },
  {
   "cell_type": "code",
   "execution_count": 115,
   "metadata": {},
   "outputs": [
    {
     "name": "stderr",
     "output_type": "stream",
     "text": [
      "/Users/codyschank/anaconda3/lib/python3.6/site-packages/matplotlib/axes/_axes.py:6462: UserWarning: The 'normed' kwarg is deprecated, and has been replaced by the 'density' kwarg.\n",
      "  warnings.warn(\"The 'normed' kwarg is deprecated, and has been \"\n",
      "No handles with labels found to put in legend.\n"
     ]
    },
    {
     "data": {
      "image/png": "[encoded data removed]",
      "text/plain": [
       "<Figure size 432x288 with 1 Axes>"
      ]
     },
     "metadata": {},
     "output_type": "display_data"
    }
   ],
   "source": [
    "sns.distplot(statsTable.stl)\n",
    "plt.legend()\n",
    "plt.show()"
   ]
  },
  {
   "cell_type": "code",
   "execution_count": 116,
   "metadata": {},
   "outputs": [
    {
     "name": "stderr",
     "output_type": "stream",
     "text": [
      "/Users/codyschank/anaconda3/lib/python3.6/site-packages/matplotlib/axes/_axes.py:6462: UserWarning: The 'normed' kwarg is deprecated, and has been replaced by the 'density' kwarg.\n",
      "  warnings.warn(\"The 'normed' kwarg is deprecated, and has been \"\n",
      "No handles with labels found to put in legend.\n"
     ]
    },
    {
     "data": {
      "image/png": "[encoded data removed]",
      "text/plain": [
       "<Figure size 432x288 with 1 Axes>"
      ]
     },
     "metadata": {},
     "output_type": "display_data"
    }
   ],
   "source": [
    "sns.distplot(statsTable.blk)\n",
    "plt.legend()\n",
    "plt.show()"
   ]
  },
  {
   "cell_type": "code",
   "execution_count": 118,
   "metadata": {},
   "outputs": [
    {
     "name": "stderr",
     "output_type": "stream",
     "text": [
      "/Users/codyschank/anaconda3/lib/python3.6/site-packages/matplotlib/axes/_axes.py:6462: UserWarning: The 'normed' kwarg is deprecated, and has been replaced by the 'density' kwarg.\n",
      "  warnings.warn(\"The 'normed' kwarg is deprecated, and has been \"\n",
      "No handles with labels found to put in legend.\n"
     ]
    },
    {
     "data": {
      "image/png": "[encoded data removed]",
      "text/plain": [
       "<Figure size 432x288 with 1 Axes>"
      ]
     },
     "metadata": {},
     "output_type": "display_data"
    }
   ],
   "source": [
    "sns.distplot(statsTable['3pm'])\n",
    "plt.legend()\n",
    "plt.show()"
   ]
  },
  {
   "cell_type": "code",
   "execution_count": 119,
   "metadata": {},
   "outputs": [
    {
     "name": "stderr",
     "output_type": "stream",
     "text": [
      "/Users/codyschank/anaconda3/lib/python3.6/site-packages/matplotlib/axes/_axes.py:6462: UserWarning: The 'normed' kwarg is deprecated, and has been replaced by the 'density' kwarg.\n",
      "  warnings.warn(\"The 'normed' kwarg is deprecated, and has been \"\n",
      "No handles with labels found to put in legend.\n"
     ]
    },
    {
     "data": {
      "image/png": "[encoded data removed]",
      "text/plain": [
       "<Figure size 432x288 with 1 Axes>"
      ]
     },
     "metadata": {},
     "output_type": "display_data"
    }
   ],
   "source": [
    "sns.distplot(statsTable['ft%_adj'])\n",
    "plt.legend()\n",
    "plt.show()"
   ]
  },
  {
   "cell_type": "code",
   "execution_count": 120,
   "metadata": {},
   "outputs": [
    {
     "name": "stderr",
     "output_type": "stream",
     "text": [
      "/Users/codyschank/anaconda3/lib/python3.6/site-packages/matplotlib/axes/_axes.py:6462: UserWarning: The 'normed' kwarg is deprecated, and has been replaced by the 'density' kwarg.\n",
      "  warnings.warn(\"The 'normed' kwarg is deprecated, and has been \"\n",
      "No handles with labels found to put in legend.\n"
     ]
    },
    {
     "data": {
      "image/png": "[encoded data removed]",
      "text/plain": [
       "<Figure size 432x288 with 1 Axes>"
      ]
     },
     "metadata": {},
     "output_type": "display_data"
    }
   ],
   "source": [
    "sns.distplot(statsTable['fg%_adj'])\n",
    "plt.legend()\n",
    "plt.show()"
   ]
  },
  {
   "cell_type": "code",
   "execution_count": null,
   "metadata": {},
   "outputs": [],
   "source": []
  }
 ],
 "metadata": {
  "kernelspec": {
   "display_name": "Python 3",
   "language": "python",
   "name": "python3"
  },
  "language_info": {
   "codemirror_mode": {
    "name": "ipython",
    "version": 3
   },
   "file_extension": ".py",
   "mimetype": "text/x-python",
   "name": "python",
   "nbconvert_exporter": "python",
   "pygments_lexer": "ipython3",
   "version": "3.6.5"
  }
 },
 "nbformat": 4,
 "nbformat_minor": 2
}
