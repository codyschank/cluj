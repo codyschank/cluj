{
 "cells": [
  {
   "cell_type": "code",
   "execution_count": 1,
   "metadata": {},
   "outputs": [],
   "source": [
    "import requests\n",
    "import numpy as np\n",
    "import pandas as pd\n",
    "import seaborn as sns\n",
    "import matplotlib.pyplot as plt\n",
    "\n",
    "from secrets import *"
   ]
  },
  {
   "cell_type": "code",
   "execution_count": 2,
   "metadata": {},
   "outputs": [],
   "source": [
    "league_id = 84057"
   ]
  },
  {
   "cell_type": "code",
   "execution_count": null,
   "metadata": {},
   "outputs": [],
   "source": [
    "# add https://stmorse.github.io/journal/espn-fantasy-3-python.html and other related links to readme"
   ]
  },
  {
   "cell_type": "markdown",
   "metadata": {},
   "source": [
    "### Types of data to explore\n",
    "1. kona player data\n",
    "    * player stats\n",
    "    * draft auction value\n",
    "    * draft rankings"
   ]
  },
  {
   "cell_type": "code",
   "execution_count": null,
   "metadata": {},
   "outputs": [],
   "source": [
    "# need league team info, so I can relate id to teams...I could also just pull these from team web pages\n",
    "# anywhere in the API do they have game log stats?"
   ]
  },
  {
   "cell_type": "markdown",
   "metadata": {},
   "source": [
    "### Kona player data for 2019"
   ]
  },
  {
   "cell_type": "code",
   "execution_count": 4,
   "metadata": {},
   "outputs": [
    {
     "data": {
      "text/plain": [
       "dict_keys(['players'])"
      ]
     },
     "execution_count": 4,
     "metadata": {},
     "output_type": "execute_result"
    }
   ],
   "source": [
    "url = 'https://fantasy.espn.com/apis/v3/games/FBA/seasons/2019/segments/0/leagues/' + str(league_id)\n",
    "params={\"view\": \"kona_player_info\"}\n",
    "cookies = {\"swid\": AUTH['swid'],\n",
    "           \"espn_s2\": AUTH['espn_s2']}\n",
    "r = requests.get(url, params=params, cookies=cookies)\n",
    "data = r.json()\n",
    "data.keys()"
   ]
  },
  {
   "cell_type": "code",
   "execution_count": 4,
   "metadata": {},
   "outputs": [
    {
     "data": {
      "text/plain": [
       "dict_keys(['draftAuctionValue', 'id', 'keeperValue', 'keeperValueFuture', 'lineupLocked', 'onTeamId', 'player', 'ratings', 'rosterLocked', 'status', 'tradeLocked'])"
      ]
     },
     "execution_count": 4,
     "metadata": {},
     "output_type": "execute_result"
    }
   ],
   "source": [
    "data['players'][100].keys()"
   ]
  },
  {
   "cell_type": "code",
   "execution_count": 5,
   "metadata": {},
   "outputs": [
    {
     "data": {
      "text/plain": [
       "0"
      ]
     },
     "execution_count": 5,
     "metadata": {},
     "output_type": "execute_result"
    }
   ],
   "source": [
    "data['players'][100]['draftAuctionValue']"
   ]
  },
  {
   "cell_type": "code",
   "execution_count": 12,
   "metadata": {},
   "outputs": [
    {
     "data": {
      "text/plain": [
       "6"
      ]
     },
     "execution_count": 12,
     "metadata": {},
     "output_type": "execute_result"
    }
   ],
   "source": [
    "data['players'][100]['onTeamId']"
   ]
  },
  {
   "cell_type": "code",
   "execution_count": 13,
   "metadata": {},
   "outputs": [
    {
     "data": {
      "text/plain": [
       "{'0': {'positionalRanking': 15, 'totalRanking': 100, 'totalRating': 4.9421916},\n",
       " '1': {'positionalRanking': 28, 'totalRanking': 151, 'totalRating': 1.5701568},\n",
       " '2': {'positionalRanking': 29, 'totalRanking': 162, 'totalRating': 1.4011277},\n",
       " '3': {'positionalRanking': 17, 'totalRanking': 116, 'totalRating': 3.1654348}}"
      ]
     },
     "execution_count": 13,
     "metadata": {},
     "output_type": "execute_result"
    }
   ],
   "source": [
    "data['players'][100]['ratings']"
   ]
  },
  {
   "cell_type": "code",
   "execution_count": 17,
   "metadata": {},
   "outputs": [
    {
     "data": {
      "text/plain": [
       "dict_keys(['active', 'defaultPositionId', 'draftRanksByRankType', 'droppable', 'eligibleSlots', 'firstName', 'fullName', 'id', 'injured', 'injuryStatus', 'jersey', 'lastName', 'lastNewsDate', 'lastVideoDate', 'ownership', 'proTeamId', 'seasonOutlook', 'stats'])"
      ]
     },
     "execution_count": 17,
     "metadata": {},
     "output_type": "execute_result"
    }
   ],
   "source": [
    "data['players'][100]['player'].keys()"
   ]
  },
  {
   "cell_type": "code",
   "execution_count": 19,
   "metadata": {},
   "outputs": [
    {
     "data": {
      "text/plain": [
       "'P.J. Tucker'"
      ]
     },
     "execution_count": 19,
     "metadata": {},
     "output_type": "execute_result"
    }
   ],
   "source": [
    "data['players'][100]['player']['fullName']"
   ]
  },
  {
   "cell_type": "code",
   "execution_count": 26,
   "metadata": {},
   "outputs": [
    {
     "data": {
      "text/plain": [
       "False"
      ]
     },
     "execution_count": 26,
     "metadata": {},
     "output_type": "execute_result"
    }
   ],
   "source": [
    "data['players'][100]['player']['injured']"
   ]
  },
  {
   "cell_type": "code",
   "execution_count": 20,
   "metadata": {},
   "outputs": [
    {
     "data": {
      "text/plain": [
       "{'STANDARD': {'auctionValue': 0,\n",
       "  'published': False,\n",
       "  'rank': 163,\n",
       "  'rankSourceId': 0,\n",
       "  'rankType': 'STANDARD',\n",
       "  'slotId': 0}}"
      ]
     },
     "execution_count": 20,
     "metadata": {},
     "output_type": "execute_result"
    }
   ],
   "source": [
    "data['players'][100]['player']['draftRanksByRankType']"
   ]
  },
  {
   "cell_type": "code",
   "execution_count": 21,
   "metadata": {},
   "outputs": [
    {
     "data": {
      "text/plain": [
       "{'activityLevel': 'ACTIVE_LAST_DAY',\n",
       " 'auctionValueAverage': 0.010101010101010102,\n",
       " 'auctionValueAverageChange': 0.0,\n",
       " 'averageDraftPosition': 139.53136094674556,\n",
       " 'averageDraftPositionPercentChange': 0.0,\n",
       " 'date': 1560431904264,\n",
       " 'leagueType': 0,\n",
       " 'percentChange': 0.000751755907183238,\n",
       " 'percentOwned': 6.405699958634779,\n",
       " 'percentStarted': 4.020868331968562}"
      ]
     },
     "execution_count": 21,
     "metadata": {},
     "output_type": "execute_result"
    }
   ],
   "source": [
    "data['players'][100]['player']['ownership']"
   ]
  },
  {
   "cell_type": "markdown",
   "metadata": {},
   "source": [
    "### Stats"
   ]
  },
  {
   "cell_type": "code",
   "execution_count": 15,
   "metadata": {},
   "outputs": [],
   "source": [
    "stat_list = []\n",
    "team_id_list = []\n",
    "for player in data['players']:\n",
    "    #print(player['player']['fullName'])\n",
    "    if 'stats' in player['player'].keys():\n",
    "        for stat_item in player['player']['stats']:\n",
    "            #looks like season totals AND averages id = '002019'\n",
    "            if stat_item['id'] == '002019':\n",
    "                if '40' in stat_item['stats'].keys(): # '40' is minutes\n",
    "                    stat_item['stats']['playerName'] = player['player']['fullName']\n",
    "                    stat_list.append(stat_item['stats'])\n",
    "                    team_id_list.append(player['onTeamId'])"
   ]
  },
  {
   "cell_type": "code",
   "execution_count": 21,
   "metadata": {},
   "outputs": [
    {
     "data": {
      "text/plain": [
       "(535, 46)"
      ]
     },
     "execution_count": 21,
     "metadata": {},
     "output_type": "execute_result"
    }
   ],
   "source": [
    "stats_df = pd.DataFrame(stat_list)\n",
    "stats_df['onTeamId'] = team_id_list\n",
    "stats_df.shape"
   ]
  },
  {
   "cell_type": "code",
   "execution_count": 22,
   "metadata": {},
   "outputs": [],
   "source": [
    "col_rename_dict = {'0':'pts', '1':'blocks', '2':'steals', '3':'ast', '6':'reb', '13':'fgm', '14': 'fga', \n",
    "                   '15': 'ftm', '16':'fta', '17':'threes', '40':'min', '42':'gp'}\n",
    "stats_df.rename(columns=col_rename_dict, inplace=True)\n",
    "stats_df['fg_pct'] = stats_df['fgm'] / stats_df['fga']\n",
    "stats_df['ft_pct'] = stats_df['ftm'] / stats_df['fta']\n",
    "stats_df = stats_df[['playerName','onTeamId','pts','blocks','steals','ast','reb','fgm','fga','fg_pct','ftm','fta','ft_pct','threes','min','gp']]"
   ]
  },
  {
   "cell_type": "code",
   "execution_count": 23,
   "metadata": {},
   "outputs": [
    {
     "data": {
      "text/html": [
       "<div>\n",
       "<style scoped>\n",
       "    .dataframe tbody tr th:only-of-type {\n",
       "        vertical-align: middle;\n",
       "    }\n",
       "\n",
       "    .dataframe tbody tr th {\n",
       "        vertical-align: top;\n",
       "    }\n",
       "\n",
       "    .dataframe thead th {\n",
       "        text-align: right;\n",
       "    }\n",
       "</style>\n",
       "<table border=\"1\" class=\"dataframe\">\n",
       "  <thead>\n",
       "    <tr style=\"text-align: right;\">\n",
       "      <th></th>\n",
       "      <th>playerName</th>\n",
       "      <th>onTeamId</th>\n",
       "      <th>pts</th>\n",
       "      <th>blocks</th>\n",
       "      <th>steals</th>\n",
       "      <th>ast</th>\n",
       "      <th>reb</th>\n",
       "      <th>fgm</th>\n",
       "      <th>fga</th>\n",
       "      <th>fg_pct</th>\n",
       "      <th>ftm</th>\n",
       "      <th>fta</th>\n",
       "      <th>ft_pct</th>\n",
       "      <th>threes</th>\n",
       "      <th>min</th>\n",
       "      <th>gp</th>\n",
       "    </tr>\n",
       "  </thead>\n",
       "  <tbody>\n",
       "    <tr>\n",
       "      <th>0</th>\n",
       "      <td>Vince Carter</td>\n",
       "      <td>0</td>\n",
       "      <td>562.0</td>\n",
       "      <td>27.0</td>\n",
       "      <td>44.0</td>\n",
       "      <td>87.0</td>\n",
       "      <td>194.0</td>\n",
       "      <td>196.0</td>\n",
       "      <td>468.0</td>\n",
       "      <td>0.418803</td>\n",
       "      <td>47.0</td>\n",
       "      <td>66.0</td>\n",
       "      <td>0.712121</td>\n",
       "      <td>123.0</td>\n",
       "      <td>1327.0</td>\n",
       "      <td>76.0</td>\n",
       "    </tr>\n",
       "    <tr>\n",
       "      <th>1</th>\n",
       "      <td>Jamal Crawford</td>\n",
       "      <td>0</td>\n",
       "      <td>508.0</td>\n",
       "      <td>12.0</td>\n",
       "      <td>33.0</td>\n",
       "      <td>229.0</td>\n",
       "      <td>85.0</td>\n",
       "      <td>174.0</td>\n",
       "      <td>438.0</td>\n",
       "      <td>0.397260</td>\n",
       "      <td>93.0</td>\n",
       "      <td>110.0</td>\n",
       "      <td>0.845455</td>\n",
       "      <td>67.0</td>\n",
       "      <td>1210.0</td>\n",
       "      <td>64.0</td>\n",
       "    </tr>\n",
       "    <tr>\n",
       "      <th>2</th>\n",
       "      <td>Dirk Nowitzki</td>\n",
       "      <td>0</td>\n",
       "      <td>373.0</td>\n",
       "      <td>18.0</td>\n",
       "      <td>9.0</td>\n",
       "      <td>35.0</td>\n",
       "      <td>158.0</td>\n",
       "      <td>135.0</td>\n",
       "      <td>376.0</td>\n",
       "      <td>0.359043</td>\n",
       "      <td>39.0</td>\n",
       "      <td>50.0</td>\n",
       "      <td>0.780000</td>\n",
       "      <td>64.0</td>\n",
       "      <td>794.0</td>\n",
       "      <td>51.0</td>\n",
       "    </tr>\n",
       "    <tr>\n",
       "      <th>3</th>\n",
       "      <td>Tyson Chandler</td>\n",
       "      <td>0</td>\n",
       "      <td>173.0</td>\n",
       "      <td>23.0</td>\n",
       "      <td>21.0</td>\n",
       "      <td>37.0</td>\n",
       "      <td>307.0</td>\n",
       "      <td>61.0</td>\n",
       "      <td>99.0</td>\n",
       "      <td>0.616162</td>\n",
       "      <td>51.0</td>\n",
       "      <td>87.0</td>\n",
       "      <td>0.586207</td>\n",
       "      <td>0.0</td>\n",
       "      <td>876.0</td>\n",
       "      <td>55.0</td>\n",
       "    </tr>\n",
       "    <tr>\n",
       "      <th>4</th>\n",
       "      <td>Pau Gasol</td>\n",
       "      <td>0</td>\n",
       "      <td>118.0</td>\n",
       "      <td>15.0</td>\n",
       "      <td>5.0</td>\n",
       "      <td>52.0</td>\n",
       "      <td>137.0</td>\n",
       "      <td>42.0</td>\n",
       "      <td>94.0</td>\n",
       "      <td>0.446809</td>\n",
       "      <td>28.0</td>\n",
       "      <td>40.0</td>\n",
       "      <td>0.700000</td>\n",
       "      <td>6.0</td>\n",
       "      <td>360.0</td>\n",
       "      <td>30.0</td>\n",
       "    </tr>\n",
       "  </tbody>\n",
       "</table>\n",
       "</div>"
      ],
      "text/plain": [
       "       playerName  onTeamId    pts  blocks  steals    ast    reb    fgm  \\\n",
       "0    Vince Carter         0  562.0    27.0    44.0   87.0  194.0  196.0   \n",
       "1  Jamal Crawford         0  508.0    12.0    33.0  229.0   85.0  174.0   \n",
       "2   Dirk Nowitzki         0  373.0    18.0     9.0   35.0  158.0  135.0   \n",
       "3  Tyson Chandler         0  173.0    23.0    21.0   37.0  307.0   61.0   \n",
       "4       Pau Gasol         0  118.0    15.0     5.0   52.0  137.0   42.0   \n",
       "\n",
       "     fga    fg_pct   ftm    fta    ft_pct  threes     min    gp  \n",
       "0  468.0  0.418803  47.0   66.0  0.712121   123.0  1327.0  76.0  \n",
       "1  438.0  0.397260  93.0  110.0  0.845455    67.0  1210.0  64.0  \n",
       "2  376.0  0.359043  39.0   50.0  0.780000    64.0   794.0  51.0  \n",
       "3   99.0  0.616162  51.0   87.0  0.586207     0.0   876.0  55.0  \n",
       "4   94.0  0.446809  28.0   40.0  0.700000     6.0   360.0  30.0  "
      ]
     },
     "execution_count": 23,
     "metadata": {},
     "output_type": "execute_result"
    }
   ],
   "source": [
    "stats_df.head()"
   ]
  },
  {
   "cell_type": "code",
   "execution_count": 24,
   "metadata": {},
   "outputs": [
    {
     "data": {
      "text/html": [
       "<div>\n",
       "<style scoped>\n",
       "    .dataframe tbody tr th:only-of-type {\n",
       "        vertical-align: middle;\n",
       "    }\n",
       "\n",
       "    .dataframe tbody tr th {\n",
       "        vertical-align: top;\n",
       "    }\n",
       "\n",
       "    .dataframe thead th {\n",
       "        text-align: right;\n",
       "    }\n",
       "</style>\n",
       "<table border=\"1\" class=\"dataframe\">\n",
       "  <thead>\n",
       "    <tr style=\"text-align: right;\">\n",
       "      <th></th>\n",
       "      <th>playerName</th>\n",
       "      <th>onTeamId</th>\n",
       "      <th>pts</th>\n",
       "      <th>blocks</th>\n",
       "      <th>steals</th>\n",
       "      <th>ast</th>\n",
       "      <th>reb</th>\n",
       "      <th>fgm</th>\n",
       "      <th>fga</th>\n",
       "      <th>fg_pct</th>\n",
       "      <th>ftm</th>\n",
       "      <th>fta</th>\n",
       "      <th>ft_pct</th>\n",
       "      <th>threes</th>\n",
       "      <th>min</th>\n",
       "      <th>gp</th>\n",
       "    </tr>\n",
       "  </thead>\n",
       "  <tbody>\n",
       "    <tr>\n",
       "      <th>33</th>\n",
       "      <td>LaMarcus Aldridge</td>\n",
       "      <td>10</td>\n",
       "      <td>1727.0</td>\n",
       "      <td>107.0</td>\n",
       "      <td>43.0</td>\n",
       "      <td>194.0</td>\n",
       "      <td>744.0</td>\n",
       "      <td>684.0</td>\n",
       "      <td>1319.0</td>\n",
       "      <td>0.518575</td>\n",
       "      <td>349.0</td>\n",
       "      <td>412.0</td>\n",
       "      <td>0.847087</td>\n",
       "      <td>10.0</td>\n",
       "      <td>2690.0</td>\n",
       "      <td>81.0</td>\n",
       "    </tr>\n",
       "    <tr>\n",
       "      <th>47</th>\n",
       "      <td>Kevin Durant</td>\n",
       "      <td>10</td>\n",
       "      <td>2027.0</td>\n",
       "      <td>84.0</td>\n",
       "      <td>58.0</td>\n",
       "      <td>457.0</td>\n",
       "      <td>497.0</td>\n",
       "      <td>721.0</td>\n",
       "      <td>1383.0</td>\n",
       "      <td>0.521330</td>\n",
       "      <td>448.0</td>\n",
       "      <td>506.0</td>\n",
       "      <td>0.885375</td>\n",
       "      <td>137.0</td>\n",
       "      <td>2703.0</td>\n",
       "      <td>78.0</td>\n",
       "    </tr>\n",
       "    <tr>\n",
       "      <th>69</th>\n",
       "      <td>Robin Lopez</td>\n",
       "      <td>10</td>\n",
       "      <td>704.0</td>\n",
       "      <td>78.0</td>\n",
       "      <td>11.0</td>\n",
       "      <td>89.0</td>\n",
       "      <td>286.0</td>\n",
       "      <td>304.0</td>\n",
       "      <td>535.0</td>\n",
       "      <td>0.568224</td>\n",
       "      <td>89.0</td>\n",
       "      <td>123.0</td>\n",
       "      <td>0.723577</td>\n",
       "      <td>7.0</td>\n",
       "      <td>1609.0</td>\n",
       "      <td>74.0</td>\n",
       "    </tr>\n",
       "    <tr>\n",
       "      <th>132</th>\n",
       "      <td>Enes Kanter</td>\n",
       "      <td>10</td>\n",
       "      <td>915.0</td>\n",
       "      <td>26.0</td>\n",
       "      <td>32.0</td>\n",
       "      <td>116.0</td>\n",
       "      <td>659.0</td>\n",
       "      <td>375.0</td>\n",
       "      <td>683.0</td>\n",
       "      <td>0.549048</td>\n",
       "      <td>155.0</td>\n",
       "      <td>197.0</td>\n",
       "      <td>0.786802</td>\n",
       "      <td>10.0</td>\n",
       "      <td>1637.0</td>\n",
       "      <td>67.0</td>\n",
       "    </tr>\n",
       "    <tr>\n",
       "      <th>156</th>\n",
       "      <td>Jae Crowder</td>\n",
       "      <td>10</td>\n",
       "      <td>951.0</td>\n",
       "      <td>31.0</td>\n",
       "      <td>64.0</td>\n",
       "      <td>133.0</td>\n",
       "      <td>384.0</td>\n",
       "      <td>318.0</td>\n",
       "      <td>797.0</td>\n",
       "      <td>0.398996</td>\n",
       "      <td>142.0</td>\n",
       "      <td>197.0</td>\n",
       "      <td>0.720812</td>\n",
       "      <td>173.0</td>\n",
       "      <td>2168.0</td>\n",
       "      <td>80.0</td>\n",
       "    </tr>\n",
       "    <tr>\n",
       "      <th>158</th>\n",
       "      <td>Andre Drummond</td>\n",
       "      <td>10</td>\n",
       "      <td>1370.0</td>\n",
       "      <td>138.0</td>\n",
       "      <td>136.0</td>\n",
       "      <td>112.0</td>\n",
       "      <td>1232.0</td>\n",
       "      <td>561.0</td>\n",
       "      <td>1052.0</td>\n",
       "      <td>0.533270</td>\n",
       "      <td>243.0</td>\n",
       "      <td>412.0</td>\n",
       "      <td>0.589806</td>\n",
       "      <td>5.0</td>\n",
       "      <td>2646.0</td>\n",
       "      <td>79.0</td>\n",
       "    </tr>\n",
       "    <tr>\n",
       "      <th>168</th>\n",
       "      <td>Damian Lillard</td>\n",
       "      <td>10</td>\n",
       "      <td>2067.0</td>\n",
       "      <td>34.0</td>\n",
       "      <td>88.0</td>\n",
       "      <td>551.0</td>\n",
       "      <td>371.0</td>\n",
       "      <td>681.0</td>\n",
       "      <td>1533.0</td>\n",
       "      <td>0.444227</td>\n",
       "      <td>468.0</td>\n",
       "      <td>513.0</td>\n",
       "      <td>0.912281</td>\n",
       "      <td>237.0</td>\n",
       "      <td>2837.0</td>\n",
       "      <td>80.0</td>\n",
       "    </tr>\n",
       "    <tr>\n",
       "      <th>187</th>\n",
       "      <td>Seth Curry</td>\n",
       "      <td>10</td>\n",
       "      <td>581.0</td>\n",
       "      <td>12.0</td>\n",
       "      <td>36.0</td>\n",
       "      <td>66.0</td>\n",
       "      <td>120.0</td>\n",
       "      <td>212.0</td>\n",
       "      <td>465.0</td>\n",
       "      <td>0.455914</td>\n",
       "      <td>44.0</td>\n",
       "      <td>52.0</td>\n",
       "      <td>0.846154</td>\n",
       "      <td>113.0</td>\n",
       "      <td>1402.0</td>\n",
       "      <td>74.0</td>\n",
       "    </tr>\n",
       "    <tr>\n",
       "      <th>245</th>\n",
       "      <td>Larry Nance Jr.</td>\n",
       "      <td>10</td>\n",
       "      <td>627.0</td>\n",
       "      <td>40.0</td>\n",
       "      <td>100.0</td>\n",
       "      <td>214.0</td>\n",
       "      <td>552.0</td>\n",
       "      <td>249.0</td>\n",
       "      <td>479.0</td>\n",
       "      <td>0.519833</td>\n",
       "      <td>96.0</td>\n",
       "      <td>134.0</td>\n",
       "      <td>0.716418</td>\n",
       "      <td>33.0</td>\n",
       "      <td>1794.0</td>\n",
       "      <td>67.0</td>\n",
       "    </tr>\n",
       "    <tr>\n",
       "      <th>248</th>\n",
       "      <td>Dewayne Dedmon</td>\n",
       "      <td>10</td>\n",
       "      <td>693.0</td>\n",
       "      <td>71.0</td>\n",
       "      <td>69.0</td>\n",
       "      <td>90.0</td>\n",
       "      <td>480.0</td>\n",
       "      <td>259.0</td>\n",
       "      <td>526.0</td>\n",
       "      <td>0.492395</td>\n",
       "      <td>92.0</td>\n",
       "      <td>113.0</td>\n",
       "      <td>0.814159</td>\n",
       "      <td>83.0</td>\n",
       "      <td>1608.0</td>\n",
       "      <td>64.0</td>\n",
       "    </tr>\n",
       "    <tr>\n",
       "      <th>272</th>\n",
       "      <td>T.J. Warren</td>\n",
       "      <td>10</td>\n",
       "      <td>772.0</td>\n",
       "      <td>29.0</td>\n",
       "      <td>51.0</td>\n",
       "      <td>64.0</td>\n",
       "      <td>174.0</td>\n",
       "      <td>297.0</td>\n",
       "      <td>611.0</td>\n",
       "      <td>0.486088</td>\n",
       "      <td>101.0</td>\n",
       "      <td>124.0</td>\n",
       "      <td>0.814516</td>\n",
       "      <td>77.0</td>\n",
       "      <td>1361.0</td>\n",
       "      <td>43.0</td>\n",
       "    </tr>\n",
       "    <tr>\n",
       "      <th>279</th>\n",
       "      <td>Buddy Hield</td>\n",
       "      <td>10</td>\n",
       "      <td>1695.0</td>\n",
       "      <td>33.0</td>\n",
       "      <td>58.0</td>\n",
       "      <td>205.0</td>\n",
       "      <td>412.0</td>\n",
       "      <td>623.0</td>\n",
       "      <td>1360.0</td>\n",
       "      <td>0.458088</td>\n",
       "      <td>171.0</td>\n",
       "      <td>193.0</td>\n",
       "      <td>0.886010</td>\n",
       "      <td>278.0</td>\n",
       "      <td>2615.0</td>\n",
       "      <td>82.0</td>\n",
       "    </tr>\n",
       "    <tr>\n",
       "      <th>314</th>\n",
       "      <td>Bogdan Bogdanovic</td>\n",
       "      <td>10</td>\n",
       "      <td>990.0</td>\n",
       "      <td>15.0</td>\n",
       "      <td>72.0</td>\n",
       "      <td>267.0</td>\n",
       "      <td>243.0</td>\n",
       "      <td>361.0</td>\n",
       "      <td>863.0</td>\n",
       "      <td>0.418308</td>\n",
       "      <td>134.0</td>\n",
       "      <td>162.0</td>\n",
       "      <td>0.827160</td>\n",
       "      <td>134.0</td>\n",
       "      <td>1948.0</td>\n",
       "      <td>70.0</td>\n",
       "    </tr>\n",
       "    <tr>\n",
       "      <th>445</th>\n",
       "      <td>Jaylen Brown</td>\n",
       "      <td>10</td>\n",
       "      <td>964.0</td>\n",
       "      <td>32.0</td>\n",
       "      <td>69.0</td>\n",
       "      <td>100.0</td>\n",
       "      <td>313.0</td>\n",
       "      <td>368.0</td>\n",
       "      <td>792.0</td>\n",
       "      <td>0.464646</td>\n",
       "      <td>133.0</td>\n",
       "      <td>202.0</td>\n",
       "      <td>0.658416</td>\n",
       "      <td>95.0</td>\n",
       "      <td>1912.0</td>\n",
       "      <td>74.0</td>\n",
       "    </tr>\n",
       "  </tbody>\n",
       "</table>\n",
       "</div>"
      ],
      "text/plain": [
       "            playerName  onTeamId     pts  blocks  steals    ast     reb  \\\n",
       "33   LaMarcus Aldridge        10  1727.0   107.0    43.0  194.0   744.0   \n",
       "47        Kevin Durant        10  2027.0    84.0    58.0  457.0   497.0   \n",
       "69         Robin Lopez        10   704.0    78.0    11.0   89.0   286.0   \n",
       "132        Enes Kanter        10   915.0    26.0    32.0  116.0   659.0   \n",
       "156        Jae Crowder        10   951.0    31.0    64.0  133.0   384.0   \n",
       "158     Andre Drummond        10  1370.0   138.0   136.0  112.0  1232.0   \n",
       "168     Damian Lillard        10  2067.0    34.0    88.0  551.0   371.0   \n",
       "187         Seth Curry        10   581.0    12.0    36.0   66.0   120.0   \n",
       "245    Larry Nance Jr.        10   627.0    40.0   100.0  214.0   552.0   \n",
       "248     Dewayne Dedmon        10   693.0    71.0    69.0   90.0   480.0   \n",
       "272        T.J. Warren        10   772.0    29.0    51.0   64.0   174.0   \n",
       "279        Buddy Hield        10  1695.0    33.0    58.0  205.0   412.0   \n",
       "314  Bogdan Bogdanovic        10   990.0    15.0    72.0  267.0   243.0   \n",
       "445       Jaylen Brown        10   964.0    32.0    69.0  100.0   313.0   \n",
       "\n",
       "       fgm     fga    fg_pct    ftm    fta    ft_pct  threes     min    gp  \n",
       "33   684.0  1319.0  0.518575  349.0  412.0  0.847087    10.0  2690.0  81.0  \n",
       "47   721.0  1383.0  0.521330  448.0  506.0  0.885375   137.0  2703.0  78.0  \n",
       "69   304.0   535.0  0.568224   89.0  123.0  0.723577     7.0  1609.0  74.0  \n",
       "132  375.0   683.0  0.549048  155.0  197.0  0.786802    10.0  1637.0  67.0  \n",
       "156  318.0   797.0  0.398996  142.0  197.0  0.720812   173.0  2168.0  80.0  \n",
       "158  561.0  1052.0  0.533270  243.0  412.0  0.589806     5.0  2646.0  79.0  \n",
       "168  681.0  1533.0  0.444227  468.0  513.0  0.912281   237.0  2837.0  80.0  \n",
       "187  212.0   465.0  0.455914   44.0   52.0  0.846154   113.0  1402.0  74.0  \n",
       "245  249.0   479.0  0.519833   96.0  134.0  0.716418    33.0  1794.0  67.0  \n",
       "248  259.0   526.0  0.492395   92.0  113.0  0.814159    83.0  1608.0  64.0  \n",
       "272  297.0   611.0  0.486088  101.0  124.0  0.814516    77.0  1361.0  43.0  \n",
       "279  623.0  1360.0  0.458088  171.0  193.0  0.886010   278.0  2615.0  82.0  \n",
       "314  361.0   863.0  0.418308  134.0  162.0  0.827160   134.0  1948.0  70.0  \n",
       "445  368.0   792.0  0.464646  133.0  202.0  0.658416    95.0  1912.0  74.0  "
      ]
     },
     "execution_count": 24,
     "metadata": {},
     "output_type": "execute_result"
    }
   ],
   "source": [
    "stats_df.loc[stats_df.onTeamId==10]"
   ]
  },
  {
   "cell_type": "code",
   "execution_count": null,
   "metadata": {},
   "outputs": [],
   "source": []
  }
 ],
 "metadata": {
  "kernelspec": {
   "display_name": "Python 3",
   "language": "python",
   "name": "python3"
  },
  "language_info": {
   "codemirror_mode": {
    "name": "ipython",
    "version": 3
   },
   "file_extension": ".py",
   "mimetype": "text/x-python",
   "name": "python",
   "nbconvert_exporter": "python",
   "pygments_lexer": "ipython3",
   "version": "3.7.1"
  }
 },
 "nbformat": 4,
 "nbformat_minor": 2
}
